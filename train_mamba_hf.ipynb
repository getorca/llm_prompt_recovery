{
 "cells": [
  {
   "cell_type": "code",
   "execution_count": 1,
   "metadata": {},
   "outputs": [],
   "source": [
    "import torch\n",
    "\n",
    "from transformers import AutoTokenizer, AutoModelForCausalLM, TrainingArguments\n",
    "from datasets import load_dataset, Dataset\n",
    "from transformers import Trainer\n",
    "import polars as pl\n"
   ]
  },
  {
   "cell_type": "code",
   "execution_count": 2,
   "metadata": {},
   "outputs": [
    {
     "name": "stderr",
     "output_type": "stream",
     "text": [
      "Special tokens have been added in the vocabulary, make sure the associated word embeddings are fine-tuned or trained.\n"
     ]
    },
    {
     "data": {
      "application/vnd.jupyter.widget-view+json": {
       "model_id": "f585015d96584134ad34f0d19e20f6d0",
       "version_major": 2,
       "version_minor": 0
      },
      "text/plain": [
       "Loading checkpoint shards:   0%|          | 0/3 [00:00<?, ?it/s]"
      ]
     },
     "metadata": {},
     "output_type": "display_data"
    }
   ],
   "source": [
    "# for loading and traing with HF implementation\n",
    "\n",
    "model_path = 'state-spaces/mamba-2.8b-hf'\n",
    "\n",
    "tokenizer = AutoTokenizer.from_pretrained(model_path, add_eos_token=True)\n",
    "\n",
    "model = AutoModelForCausalLM.from_pretrained(\n",
    "    model_path, \n",
    "    torch_dtype=torch.bfloat16,\n",
    "    # device_map={\"\": 0},\n",
    ")\n",
    "\n",
    "special_tokens_dict = {'additional_special_tokens': ['<|ORIGINAL_TEXT|>', '<|END_ORIGINAL_TEXT|>',\n",
    "    '<|GENERATED_TEXT|>', '<|END_GENERATED_TEXT|>', '<|PROMPT|>', '<|END_PROMPT|>'\n",
    "]}\n",
    "tokenizer.add_special_tokens(special_tokens_dict)\n",
    "model.resize_token_embeddings(len(tokenizer))\n",
    "\n",
    "def tokenize_data(x):\n",
    "    full_input = f\"\"\"<|ORIGINAL_TEXT|>{x['original_text']}<|END_ORIGINAL_TEXT|>\n",
    "<|GENERATED_TEXT|>{x['rewritten_text']}<|END_GENERATED_TEXT|>\n",
    "<|PROMPT|>{x['gt_rewrite_prompt']}<|END_PROMPT|>\"\"\"\n",
    "    result = tokenizer(\n",
    "        full_input,\n",
    "        max_length=512,\n",
    "        padding='max_length',\n",
    "        truncation=True\n",
    "    )\n",
    "    result[\"input_ids\"].append(tokenizer.eos_token_id)\n",
    "    result[\"attention_mask\"].append(1)\n",
    "    result['labels'] = result[\"input_ids\"].copy()\n",
    "    return result"
   ]
  },
  {
   "cell_type": "code",
   "execution_count": 3,
   "metadata": {},
   "outputs": [],
   "source": [
    "# dataset = load_dataset(\"parquet\", data_files={'train': './data/train_out_1/*.parquet'})\n",
    "# dataset = load_dataset(\"parquet\", data_files={'train': './data/train_data_2/cleaned.parquet'})\n",
    "\n",
    "# the large 70k samples dataset \n",
    "# dataset = load_dataset(\"parquet\", data_files={'train': './data/train_data_3/complete/complete_ds.parquet'})\n",
    "# dataset = dataset[\"train\"].train_test_split(test_size=0.2)\n",
    "\n",
    "# dataset.save_to_disk(\"./data/train_data_3/complete/hf\")\n",
    "\n",
    "# 3rd party texts rewritten with gemma 2b\n",
    "# df = pl.read_csv('./data/3rd_party_ds/Rewritten texts with Gemma 2B/rewritten_texts_csv.csv', ignore_errors=True).rename(\n",
    "#     {\"rewritten_text\": \"generated_text\"}\n",
    "# )\n",
    "# dataset = Dataset.from_list(df.to_dicts()).train_test_split(test_size=0.2)\n",
    "# dataset.save_to_disk(\"./data/train_data_4/complete/hf\")\n",
    "\n",
    "# 3rd party texts rewritten with gemma 2b v3\n",
    "# df = pl.read_csv('./data/3rd_party_ds/rewritten_texts_csv_v3.csv', ignore_errors=True).rename(\n",
    "#     {\"rewritten_text\": \"generated_text\"}\n",
    "# )\n",
    "# dataset = Dataset.from_list(df.to_dicts()).train_test_split(test_size=0.2)\n",
    "# dataset.save_to_disk(\"./data/train_data_4v3/complete/hf\")\n",
    "\n",
    "# chat gpt prompts - exp 6\n",
    "# dataset = load_dataset(\"parquet\", data_files={'train': './data/exp_6/train_data/complete_1/complete_ds.parquet'})\n",
    "# dataset = dataset['train'].train_test_split(test_size=0.2)\n",
    "# dataset.save_to_disk(\"./data/exp_6/train_data/complete/complete_hf\")\n",
    "\n",
    "# my filtered prompts\n",
    "df = pl.read_csv('./data/predictions/combined-filtered_*.csv', ignore_errors=True)\n",
    "dataset = Dataset.from_list(df.to_dicts())"
   ]
  },
  {
   "cell_type": "code",
   "execution_count": null,
   "metadata": {},
   "outputs": [],
   "source": [
    "dataset"
   ]
  },
  {
   "cell_type": "code",
   "execution_count": 4,
   "metadata": {},
   "outputs": [
    {
     "data": {
      "application/vnd.jupyter.widget-view+json": {
       "model_id": "819e5d60f6d4442a8ea21e45a980bc5d",
       "version_major": 2,
       "version_minor": 0
      },
      "text/plain": [
       "Map:   0%|          | 0/6856 [00:00<?, ? examples/s]"
      ]
     },
     "metadata": {},
     "output_type": "display_data"
    }
   ],
   "source": [
    "train_ds = dataset.map(tokenize_data, load_from_cache_file=False)\n",
    "train_ds = train_ds.remove_columns([\"gt_rewrite_prompt\", \"original_text\", \"rewritten_text\", \"rewrite_prompt\", \"score\"])"
   ]
  },
  {
   "cell_type": "code",
   "execution_count": 5,
   "metadata": {},
   "outputs": [
    {
     "data": {
      "text/html": [
       "\n",
       "    <div>\n",
       "      \n",
       "      <progress value='5142' max='5142' style='width:300px; height:20px; vertical-align: middle;'></progress>\n",
       "      [5142/5142 2:17:06, Epoch 3/3]\n",
       "    </div>\n",
       "    <table border=\"1\" class=\"dataframe\">\n",
       "  <thead>\n",
       " <tr style=\"text-align: left;\">\n",
       "      <th>Step</th>\n",
       "      <th>Training Loss</th>\n",
       "    </tr>\n",
       "  </thead>\n",
       "  <tbody>\n",
       "    <tr>\n",
       "      <td>200</td>\n",
       "      <td>1.615600</td>\n",
       "    </tr>\n",
       "    <tr>\n",
       "      <td>400</td>\n",
       "      <td>1.519500</td>\n",
       "    </tr>\n",
       "    <tr>\n",
       "      <td>600</td>\n",
       "      <td>1.512600</td>\n",
       "    </tr>\n",
       "    <tr>\n",
       "      <td>800</td>\n",
       "      <td>1.521100</td>\n",
       "    </tr>\n",
       "    <tr>\n",
       "      <td>1000</td>\n",
       "      <td>1.492100</td>\n",
       "    </tr>\n",
       "    <tr>\n",
       "      <td>1200</td>\n",
       "      <td>1.483300</td>\n",
       "    </tr>\n",
       "    <tr>\n",
       "      <td>1400</td>\n",
       "      <td>1.463000</td>\n",
       "    </tr>\n",
       "    <tr>\n",
       "      <td>1600</td>\n",
       "      <td>1.481000</td>\n",
       "    </tr>\n",
       "    <tr>\n",
       "      <td>1800</td>\n",
       "      <td>1.283500</td>\n",
       "    </tr>\n",
       "    <tr>\n",
       "      <td>2000</td>\n",
       "      <td>1.055500</td>\n",
       "    </tr>\n",
       "    <tr>\n",
       "      <td>2200</td>\n",
       "      <td>1.046200</td>\n",
       "    </tr>\n",
       "    <tr>\n",
       "      <td>2400</td>\n",
       "      <td>1.039800</td>\n",
       "    </tr>\n",
       "    <tr>\n",
       "      <td>2600</td>\n",
       "      <td>1.036300</td>\n",
       "    </tr>\n",
       "    <tr>\n",
       "      <td>2800</td>\n",
       "      <td>1.018100</td>\n",
       "    </tr>\n",
       "    <tr>\n",
       "      <td>3000</td>\n",
       "      <td>1.036000</td>\n",
       "    </tr>\n",
       "    <tr>\n",
       "      <td>3200</td>\n",
       "      <td>1.035400</td>\n",
       "    </tr>\n",
       "    <tr>\n",
       "      <td>3400</td>\n",
       "      <td>1.049500</td>\n",
       "    </tr>\n",
       "    <tr>\n",
       "      <td>3600</td>\n",
       "      <td>0.787800</td>\n",
       "    </tr>\n",
       "    <tr>\n",
       "      <td>3800</td>\n",
       "      <td>0.756200</td>\n",
       "    </tr>\n",
       "    <tr>\n",
       "      <td>4000</td>\n",
       "      <td>0.754900</td>\n",
       "    </tr>\n",
       "    <tr>\n",
       "      <td>4200</td>\n",
       "      <td>0.757200</td>\n",
       "    </tr>\n",
       "    <tr>\n",
       "      <td>4400</td>\n",
       "      <td>0.762500</td>\n",
       "    </tr>\n",
       "    <tr>\n",
       "      <td>4600</td>\n",
       "      <td>0.753500</td>\n",
       "    </tr>\n",
       "    <tr>\n",
       "      <td>4800</td>\n",
       "      <td>0.757500</td>\n",
       "    </tr>\n",
       "    <tr>\n",
       "      <td>5000</td>\n",
       "      <td>0.744900</td>\n",
       "    </tr>\n",
       "  </tbody>\n",
       "</table><p>"
      ],
      "text/plain": [
       "<IPython.core.display.HTML object>"
      ]
     },
     "metadata": {},
     "output_type": "display_data"
    },
    {
     "data": {
      "text/plain": [
       "TrainOutput(global_step=5142, training_loss=1.1009237080963146, metrics={'train_runtime': 8231.1899, 'train_samples_per_second': 2.499, 'train_steps_per_second': 0.625, 'total_flos': 1.671104225175552e+17, 'train_loss': 1.1009237080963146, 'epoch': 3.0})"
      ]
     },
     "execution_count": 5,
     "metadata": {},
     "output_type": "execute_result"
    }
   ],
   "source": [
    "trainer = Trainer(\n",
    "    model=model,    \n",
    "    train_dataset=train_ds,\n",
    "    tokenizer=tokenizer,\n",
    "    args=TrainingArguments(\n",
    "        output_dir=\"./data/exp_99gt/train_data/hf_trainer_out\",\n",
    "        num_train_epochs=3,\n",
    "        per_device_train_batch_size=1,\n",
    "        gradient_accumulation_steps=4,\n",
    "        logging_dir='./logs_6',\n",
    "        logging_steps=200,\n",
    "        learning_rate=5e-5,\n",
    "        optim='paged_adamw_8bit',\n",
    "        save_strategy='epoch',\n",
    "    )\n",
    ")\n",
    "\n",
    "trainer.train()"
   ]
  },
  {
   "cell_type": "code",
   "execution_count": 6,
   "metadata": {},
   "outputs": [],
   "source": [
    "trainer.save_model(output_dir=f'./train_exp_99gt/complete')"
   ]
  }
 ],
 "metadata": {
  "kernelspec": {
   "display_name": "llm_promt_reversal",
   "language": "python",
   "name": "python3"
  },
  "language_info": {
   "codemirror_mode": {
    "name": "ipython",
    "version": 3
   },
   "file_extension": ".py",
   "mimetype": "text/x-python",
   "name": "python",
   "nbconvert_exporter": "python",
   "pygments_lexer": "ipython3",
   "version": "3.11.8"
  }
 },
 "nbformat": 4,
 "nbformat_minor": 2
}
