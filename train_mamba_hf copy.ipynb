{
 "cells": [
  {
   "cell_type": "code",
   "execution_count": 1,
   "metadata": {},
   "outputs": [],
   "source": [
    "import torch\n",
    "\n",
    "from transformers import AutoTokenizer, AutoModelForCausalLM, TrainingArguments\n",
    "from datasets import load_dataset, Dataset\n",
    "from transformers import Trainer\n",
    "import polars as pl\n"
   ]
  },
  {
   "cell_type": "code",
   "execution_count": 2,
   "metadata": {},
   "outputs": [
    {
     "name": "stderr",
     "output_type": "stream",
     "text": [
      "Special tokens have been added in the vocabulary, make sure the associated word embeddings are fine-tuned or trained.\n"
     ]
    },
    {
     "data": {
      "application/vnd.jupyter.widget-view+json": {
       "model_id": "9509b6fc29f941e2beb872acf6d3ed1a",
       "version_major": 2,
       "version_minor": 0
      },
      "text/plain": [
       "Loading checkpoint shards:   0%|          | 0/3 [00:00<?, ?it/s]"
      ]
     },
     "metadata": {},
     "output_type": "display_data"
    }
   ],
   "source": [
    "# for loading and traing with HF implementation\n",
    "\n",
    "model_path = 'state-spaces/mamba-2.8b-hf'\n",
    "\n",
    "tokenizer = AutoTokenizer.from_pretrained(model_path, add_eos_token=True)\n",
    "\n",
    "model = AutoModelForCausalLM.from_pretrained(\n",
    "    model_path, \n",
    "    torch_dtype=torch.bfloat16,\n",
    "    device_map={\"\": 0},\n",
    ")\n",
    "\n",
    "special_tokens_dict = {'additional_special_tokens': ['<|INPUT|>', '<|END_INPUT|>',\n",
    "    '<|RESPONSE|>', '<|END_RESPONSE|>'\n",
    "]}\n",
    "tokenizer.add_special_tokens(special_tokens_dict)\n",
    "model.resize_token_embeddings(len(tokenizer))\n",
    "\n",
    "def tokenize_data(x):\n",
    "    \n",
    "    full_input = f\"\"\"<|INPUT|>Recover the prompt that was likely given to the LLM to rewrite original text into the rewritten text.\n",
    "Original text: {x['original_text']}\n",
    "Rewritten text: {x['generated_text']}<|END_INPUT|>\n",
    "<|RESPONSE|>Prompt: {x['prompt']}<|END_RESPONSE|>\"\"\"\n",
    "\n",
    "    result = tokenizer(\n",
    "        full_input,\n",
    "        max_length=512,\n",
    "        padding='max_length',\n",
    "        truncation=True\n",
    "    )\n",
    "    \n",
    "    result[\"input_ids\"].append(tokenizer.eos_token_id)\n",
    "    result[\"attention_mask\"].append(1)\n",
    "    result['labels'] = result[\"input_ids\"].copy()\n",
    "    \n",
    "    return result"
   ]
  },
  {
   "cell_type": "code",
   "execution_count": 3,
   "metadata": {},
   "outputs": [],
   "source": [
    "# dataset = load_dataset(\"parquet\", data_files={'train': './data/train_out_1/*.parquet'})\n",
    "# dataset = load_dataset(\"parquet\", data_files={'train': './data/train_data_2/cleaned.parquet'})\n",
    "\n",
    "# the large 70k samples dataset \n",
    "# dataset = load_dataset(\"parquet\", data_files={'train': './data/train_data_3/complete/complete_ds.parquet'})\n",
    "# dataset = dataset[\"train\"].train_test_split(test_size=0.2)\n",
    "\n",
    "# dataset.save_to_disk(\"./data/train_data_3/complete/hf\")\n",
    "\n",
    "# 3rd party texts rewritten with gemma 2b\n",
    "# df = pl.read_csv('./data/3rd_party_ds/Rewritten texts with Gemma 2B/rewritten_texts_csv.csv', ignore_errors=True).rename(\n",
    "#     {\"rewritten_text\": \"generated_text\"}\n",
    "# )\n",
    "# dataset = Dataset.from_list(df.to_dicts()).train_test_split(test_size=0.2)\n",
    "# dataset.save_to_disk(\"./data/train_data_4/complete/hf\")\n",
    "\n",
    "# 3rd party texts rewritten with gemma 2b v3\n",
    "df = pl.read_csv('./data/3rd_party_ds/rewritten_texts_csv_v3.csv', ignore_errors=True).rename(\n",
    "    {\"rewritten_text\": \"generated_text\"}\n",
    ")\n",
    "dataset = Dataset.from_list(df.to_dicts()).train_test_split(test_size=0.2)\n",
    "# dataset.save_to_disk(\"./data/train_data_4v3/complete/hf\")\n",
    "\n",
    "# chat gpt prompts - exp 6\n",
    "# dataset = load_dataset(\"parquet\", data_files={'train': './data/exp_6/train_data/complete_1/complete_ds.parquet'})\n",
    "# dataset = dataset['train'].train_test_split(test_size=0.2)\n",
    "# dataset.save_to_disk(\"./data/exp_6/train_data/complete/complete_hf\")"
   ]
  },
  {
   "cell_type": "code",
   "execution_count": 4,
   "metadata": {},
   "outputs": [
    {
     "data": {
      "application/vnd.jupyter.widget-view+json": {
       "model_id": "6060e7e71ac94f89af08698a65feb227",
       "version_major": 2,
       "version_minor": 0
      },
      "text/plain": [
       "Map:   0%|          | 0/9666 [00:00<?, ? examples/s]"
      ]
     },
     "metadata": {},
     "output_type": "display_data"
    },
    {
     "data": {
      "application/vnd.jupyter.widget-view+json": {
       "model_id": "c11300f7e7b24b65bafe4ba41dcffa96",
       "version_major": 2,
       "version_minor": 0
      },
      "text/plain": [
       "Map:   0%|          | 0/2417 [00:00<?, ? examples/s]"
      ]
     },
     "metadata": {},
     "output_type": "display_data"
    }
   ],
   "source": [
    "train_ds = dataset['train'].map(tokenize_data, load_from_cache_file=False)\n",
    "train_ds = train_ds.remove_columns([\"prompt\", \"original_text\", \"generated_text\", 'final_prompt'])\n",
    "\n",
    "test_ds = dataset['test'].map(tokenize_data, load_from_cache_file=False)\n",
    "test_ds = test_ds.remove_columns([\"prompt\", \"original_text\", \"generated_text\", 'final_prompt'])"
   ]
  },
  {
   "cell_type": "code",
   "execution_count": 7,
   "metadata": {},
   "outputs": [
    {
     "data": {
      "text/plain": [
       "DatasetDict({\n",
       "    train: Dataset({\n",
       "        features: ['original_text', 'generated_text', 'prompt', 'final_prompt'],\n",
       "        num_rows: 9666\n",
       "    })\n",
       "    test: Dataset({\n",
       "        features: ['original_text', 'generated_text', 'prompt', 'final_prompt'],\n",
       "        num_rows: 2417\n",
       "    })\n",
       "})"
      ]
     },
     "execution_count": 7,
     "metadata": {},
     "output_type": "execute_result"
    }
   ],
   "source": [
    "dataset"
   ]
  },
  {
   "cell_type": "code",
   "execution_count": 5,
   "metadata": {},
   "outputs": [
    {
     "data": {
      "text/html": [
       "\n",
       "    <div>\n",
       "      \n",
       "      <progress value='7248' max='7248' style='width:300px; height:20px; vertical-align: middle;'></progress>\n",
       "      [7248/7248 3:05:10, Epoch 2/3]\n",
       "    </div>\n",
       "    <table border=\"1\" class=\"dataframe\">\n",
       "  <thead>\n",
       " <tr style=\"text-align: left;\">\n",
       "      <th>Epoch</th>\n",
       "      <th>Training Loss</th>\n",
       "      <th>Validation Loss</th>\n",
       "    </tr>\n",
       "  </thead>\n",
       "  <tbody>\n",
       "    <tr>\n",
       "      <td>0</td>\n",
       "      <td>1.585000</td>\n",
       "      <td>1.553978</td>\n",
       "    </tr>\n",
       "    <tr>\n",
       "      <td>2</td>\n",
       "      <td>0.755600</td>\n",
       "      <td>1.607460</td>\n",
       "    </tr>\n",
       "  </tbody>\n",
       "</table><p>"
      ],
      "text/plain": [
       "<IPython.core.display.HTML object>"
      ]
     },
     "metadata": {},
     "output_type": "display_data"
    },
    {
     "data": {
      "text/plain": [
       "TrainOutput(global_step=7248, training_loss=1.1710250577652954, metrics={'train_runtime': 11114.376, 'train_samples_per_second': 2.609, 'train_steps_per_second': 0.652, 'total_flos': 2.355535477260288e+17, 'train_loss': 1.1710250577652954, 'epoch': 3.0})"
      ]
     },
     "execution_count": 5,
     "metadata": {},
     "output_type": "execute_result"
    }
   ],
   "source": [
    "trainer = Trainer(\n",
    "    model=model,    \n",
    "    train_dataset=train_ds,\n",
    "    eval_dataset=test_ds,\n",
    "    tokenizer=tokenizer,\n",
    "    args=TrainingArguments(\n",
    "        output_dir=\"./data/exp_7/train_data/hf_trainer_out\",\n",
    "        num_train_epochs=3,\n",
    "        per_device_train_batch_size=1,\n",
    "        gradient_accumulation_steps=4,\n",
    "        logging_dir='./logs_7',\n",
    "        logging_steps=100,\n",
    "        learning_rate=5e-5,\n",
    "        optim='paged_adamw_8bit',\n",
    "        save_strategy='epoch',\n",
    "        evaluation_strategy=\"epoch\",\n",
    "        lr_scheduler_type=\"cosine\",\n",
    "    )\n",
    ")\n",
    "\n",
    "trainer.train()"
   ]
  },
  {
   "cell_type": "code",
   "execution_count": 6,
   "metadata": {},
   "outputs": [],
   "source": [
    "trainer.save_model(output_dir=f'./train_exp_7/complete')"
   ]
  }
 ],
 "metadata": {
  "kernelspec": {
   "display_name": "llm_promt_reversal",
   "language": "python",
   "name": "python3"
  },
  "language_info": {
   "codemirror_mode": {
    "name": "ipython",
    "version": 3
   },
   "file_extension": ".py",
   "mimetype": "text/x-python",
   "name": "python",
   "nbconvert_exporter": "python",
   "pygments_lexer": "ipython3",
   "version": "3.11.8"
  }
 },
 "nbformat": 4,
 "nbformat_minor": 2
}
