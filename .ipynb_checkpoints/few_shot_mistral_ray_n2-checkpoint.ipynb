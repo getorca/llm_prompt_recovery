{
 "cells": [
  {
   "cell_type": "code",
   "execution_count": 1,
   "metadata": {},
   "outputs": [],
   "source": [
    "import random\n",
    "from jinja2 import Environment, Template, meta\n",
    "import sys\n",
    "from itertools import product\n",
    "from datasets import load_dataset\n",
    "import polars as pl\n",
    "from vllm import LLM, SamplingParams\n",
    "from typing import Dict\n",
    "import numpy as np\n",
    "import ray\n",
    "from transformers import AutoTokenizer\n",
    "from typing import Any, Dict"
   ]
  },
  {
   "cell_type": "code",
   "execution_count": null,
   "metadata": {},
   "outputs": [
    {
     "data": {
      "application/vnd.jupyter.widget-view+json": {
       "model_id": "9eb93f8fd5c646229efa4f7d84baf862",
       "version_major": 2,
       "version_minor": 0
      },
      "text/plain": [
       "tokenizer_config.json:   0%|          | 0.00/1.46k [00:00<?, ?B/s]"
      ]
     },
     "metadata": {},
     "output_type": "display_data"
    },
    {
     "data": {
      "application/vnd.jupyter.widget-view+json": {
       "model_id": "32f8cfee6ee1495aa9ebda35dcea177f",
       "version_major": 2,
       "version_minor": 0
      },
      "text/plain": [
       "tokenizer.model:   0%|          | 0.00/493k [00:00<?, ?B/s]"
      ]
     },
     "metadata": {},
     "output_type": "display_data"
    },
    {
     "data": {
      "application/vnd.jupyter.widget-view+json": {
       "model_id": "361a335163ad4424905b8220882fa1e5",
       "version_major": 2,
       "version_minor": 0
      },
      "text/plain": [
       "tokenizer.json:   0%|          | 0.00/1.80M [00:00<?, ?B/s]"
      ]
     },
     "metadata": {},
     "output_type": "display_data"
    },
    {
     "data": {
      "application/vnd.jupyter.widget-view+json": {
       "model_id": "d50f542374594b72bee82ccd13aae6a4",
       "version_major": 2,
       "version_minor": 0
      },
      "text/plain": [
       "special_tokens_map.json:   0%|          | 0.00/72.0 [00:00<?, ?B/s]"
      ]
     },
     "metadata": {},
     "output_type": "display_data"
    },
    {
     "data": {
      "application/vnd.jupyter.widget-view+json": {
       "model_id": "966d9cc5d33846279754f4a4c5f2aff4",
       "version_major": 2,
       "version_minor": 0
      },
      "text/plain": [
       "config.json:   0%|          | 0.00/596 [00:00<?, ?B/s]"
      ]
     },
     "metadata": {},
     "output_type": "display_data"
    },
    {
     "data": {
      "application/vnd.jupyter.widget-view+json": {
       "model_id": "1a043049fcc045bf85478014d1afada2",
       "version_major": 2,
       "version_minor": 0
      },
      "text/plain": [
       "model.safetensors.index.json:   0%|          | 0.00/25.1k [00:00<?, ?B/s]"
      ]
     },
     "metadata": {},
     "output_type": "display_data"
    },
    {
     "data": {
      "application/vnd.jupyter.widget-view+json": {
       "model_id": "9179a102de074e4aa206942c6c3cdba9",
       "version_major": 2,
       "version_minor": 0
      },
      "text/plain": [
       "Downloading shards:   0%|          | 0/3 [00:00<?, ?it/s]"
      ]
     },
     "metadata": {},
     "output_type": "display_data"
    },
    {
     "data": {
      "application/vnd.jupyter.widget-view+json": {
       "model_id": "0314adbbed5445788bbd3f5967cf4350",
       "version_major": 2,
       "version_minor": 0
      },
      "text/plain": [
       "model-00001-of-00003.safetensors:   0%|          | 0.00/4.94G [00:00<?, ?B/s]"
      ]
     },
     "metadata": {},
     "output_type": "display_data"
    }
   ],
   "source": [
    "# Load model directly\n",
    "from transformers import AutoTokenizer, AutoModelForCausalLM\n",
    "\n",
    "tokenizer = AutoTokenizer.from_pretrained(\"mistralai/Mistral-7B-Instruct-v0.2\")\n",
    "model = AutoModelForCausalLM.from_pretrained(\"mistralai/Mistral-7B-Instruct-v0.2\")"
   ]
  },
  {
   "cell_type": "code",
   "execution_count": 2,
   "metadata": {},
   "outputs": [],
   "source": [
    "# model_name = 'mistralai/Mistral-7B-Instruct-v0.2'\n",
    "model_name = '/home/lawrence/.cache/huggingface/hub/models--mistralai--Mistral-7B-Instruct-v0.2/snapshots/41b61a33a2483885c981aa79e0df6b32407ed873'\n",
    "# model_name = 'google/gemma-7b-it'\n",
    "\n",
    "tokenizer = AutoTokenizer.from_pretrained(\n",
    "    model_name\n",
    ") "
   ]
  },
  {
   "cell_type": "markdown",
   "metadata": {},
   "source": [
    "## import the dataset"
   ]
  },
  {
   "cell_type": "markdown",
   "metadata": {},
   "source": [
    "## load the dataset into ray"
   ]
  },
  {
   "cell_type": "code",
   "execution_count": 3,
   "metadata": {},
   "outputs": [],
   "source": [
    "def get_chat_input(row: Dict[str, Any]) -> Dict[str, Any]:\n",
    "    \n",
    "    #original text prefix\n",
    "    orig_prefix = \"Original Text:\"\n",
    "    #modified text prefix\n",
    "    rewrite_prefix = \"Rewritten Text:\"\n",
    "    # response start\n",
    "    response_start = \"The prompt was:\"\n",
    "\n",
    "    sys_prompt = \"\"\"You are an expert in \"Reverse Prompt Engineering\". You are able to reverse-engineer prompts used to rewrite text.\\n\\nI will be providing you with an \"original text\" and \"rewritten text\". Please try to be as specific as possible and come up with a prompt that is based on the tone, style, and any other properties you consider relevant.\"\"\"\n",
    "\n",
    "    #first example\n",
    "    ex_text_1 = \"The aroma of freshly baked bread wafted through the bustling marketplace, mingling with the shouts of vendors and the excited chatter of customers. A lone scout, her cloak dusted with desert sand, weaved through the crowd, her hand instinctively resting on the hilt of her dagger.\"\n",
    "    ex_rewrite_1 = \"A scent of opportunity fills the air. Trust your instincts and a hidden path will reveal itself.\"\n",
    "    ex_prompt_1 = \"Craft this as a fortune cookie message\"\n",
    "\n",
    "    #second example\n",
    "    ex_text_2 = \"The old lighthouse keeper shuffled down the rickety stairs, his pockets jangling with forgotten keys. He peered out at the churning sea, the salty spray stinging his weathered face. A lone seagull circled overhead, its mournful cry echoing in the wind.\"\n",
    "    ex_rewrite_2 = \"The lighthouse walls creaked with each of the keeper's slow steps, the rhythm a familiar lullaby to the young apprentice perched by the window. He watched the old man descend, a wizened silhouette framed by the churning sea. The salty spray, invisible from his vantage point, seemed to dance on the keeper's face, etching new lines into the weathered map. The cry of the lone seagull was a melody only the old man understood, a language that spoke of years spent guarding this solitary beacon.\"\n",
    "    ex_prompt_2 = \"Reimagine this scene from a different perspective, offering a fresh insight into the events\"\n",
    "\n",
    "    #second example\n",
    "    ex_text_3 = \"The population of the earth is estimated to be around 8 billion people, but there are far more insects! Scientists believe that there are over 10 quintillion (that's 10, followed by 18 zeros) individual insects alive at any given time, outweighing all humans and animals combined by a staggering amount.\"\n",
    "    ex_rewrite_3 = \"Wow, have you ever stopped to think about just how many insects there are? Our planet may be teeming with 8 billion people, but that's nothing compared to the incredible number of insects buzzing, crawling, and flitting around us. Scientists estimate there are over 10 quintillion, that's a 10 with 18 zeros, individual insects alive at any given moment! That's mind-boggling!  And get this, all those insects together weigh more than all the humans and animals on Earth combined.  Pretty incredible, right?\"\n",
    "    ex_prompt_3 = \"Rewrite the following as a speech\"\n",
    "\n",
    "    messages = [\n",
    "        #first example\n",
    "        {\"role\": \"user\", \"content\": f\"{sys_prompt}\\n{orig_prefix} {ex_text_1}\\n{rewrite_prefix} {ex_rewrite_1}\"},\n",
    "        {\"role\": \"assistant\", \"content\": f\"{response_start} {ex_prompt_1}\"},\n",
    "\n",
    "        #second example\n",
    "        {\"role\": \"user\", \"content\": f\"{orig_prefix} {ex_text_2}\\n{rewrite_prefix} {ex_rewrite_2}\"},\n",
    "        {\"role\": \"assistant\", \"content\": f\"{response_start} {ex_prompt_2}\"},\n",
    "\n",
    "        #actual prompt\n",
    "        {\"role\": \"user\", \"content\": f\"{orig_prefix}{ex_text_3}\\n{rewrite_prefix} {ex_rewrite_3}\"},\n",
    "        {\"role\": \"assistant\", \"content\": f\"{response_start} {ex_prompt_3}\"},\n",
    "        \n",
    "        #actual prompt\n",
    "        {\"role\": \"user\", \"content\": f\"{orig_prefix} {row['original_text']}\\n{rewrite_prefix} {row['rewritten_text']}\"},\n",
    "        {\"role\": \"assistant\", \"content\": response_start},\n",
    "    ]\n",
    "        \n",
    "    #give it to Mistral\n",
    "    row['input'] = tokenizer.apply_chat_template(messages, tokenize=False)\n",
    "    \n",
    "    return row\n",
    "\n",
    "\n",
    "    \n",
    "    \n",
    "# ds = (\n",
    "#     ray.data.read_csv('data/3rd_party_ds/llm_dataset_1.csv')\n",
    "#     .map(get_chat_input)\n",
    "# )"
   ]
  },
  {
   "cell_type": "code",
   "execution_count": 10,
   "metadata": {},
   "outputs": [],
   "source": [
    "import pandas as pd\n",
    "\n",
    "df = pd.read_csv('data/predictions/2_above_65.csv')\n",
    "df.rename(columns={'rewrite_prompt': 'old_rewrite_prompt'}, inplace=True)\n",
    "ds = (\n",
    "    ray.data.from_pandas(df)\n",
    "    .map(get_chat_input)\n",
    ").repartition(2) # need to force into multiple blocks <https://discuss.ray.io/t/single-node-4x-gpu-map-batches-only-using-1/12313/2>\n"
   ]
  },
  {
   "cell_type": "code",
   "execution_count": 11,
   "metadata": {},
   "outputs": [
    {
     "data": {
      "text/html": [
       "<div>\n",
       "<style scoped>\n",
       "    .dataframe tbody tr th:only-of-type {\n",
       "        vertical-align: middle;\n",
       "    }\n",
       "\n",
       "    .dataframe tbody tr th {\n",
       "        vertical-align: top;\n",
       "    }\n",
       "\n",
       "    .dataframe thead th {\n",
       "        text-align: right;\n",
       "    }\n",
       "</style>\n",
       "<table border=\"1\" class=\"dataframe\">\n",
       "  <thead>\n",
       "    <tr style=\"text-align: right;\">\n",
       "      <th></th>\n",
       "      <th>original_text</th>\n",
       "      <th>gt_rewrite_prompt</th>\n",
       "      <th>rewritten_text</th>\n",
       "      <th>rewrite_prompt</th>\n",
       "      <th>score</th>\n",
       "      <th>prompt_select</th>\n",
       "    </tr>\n",
       "  </thead>\n",
       "  <tbody>\n",
       "    <tr>\n",
       "      <th>0</th>\n",
       "      <td>Google Opinion Rewards is now live in India, S...</td>\n",
       "      <td>Turn the content into a bridal shower's game i...</td>\n",
       "      <td>**Bridal Shower Game Instructions:**\\n\\nGather...</td>\n",
       "      <td>Create a bridal shower game using Google Opini...</td>\n",
       "      <td>0.650209</td>\n",
       "      <td>Create a bridal shower game using Google Opini...</td>\n",
       "    </tr>\n",
       "    <tr>\n",
       "      <th>1</th>\n",
       "      <td>At last things are starting to get exciting ar...</td>\n",
       "      <td>Turn the content into a music producer's advic...</td>\n",
       "      <td>**Music Producer's Advice for Aspiring Artists...</td>\n",
       "      <td>Rewrite this text to address a specific audien...</td>\n",
       "      <td>0.650419</td>\n",
       "      <td>Rewrite this text to address a specific audien...</td>\n",
       "    </tr>\n",
       "    <tr>\n",
       "      <th>2</th>\n",
       "      <td>Indian employers appear to be upbeat about gov...</td>\n",
       "      <td>Present this as a teacher's lesson plan.</td>\n",
       "      <td>**Lesson Plan**\\n\\n**Subject:** Current Affair...</td>\n",
       "      <td>I'm an elementary school teacher and I'd like ...</td>\n",
       "      <td>0.650421</td>\n",
       "      <td>I'm an elementary school teacher and I'd like ...</td>\n",
       "    </tr>\n",
       "    <tr>\n",
       "      <th>3</th>\n",
       "      <td>In 2011, according to CBO's estimates, average...</td>\n",
       "      <td>Present this as a revolutionary’s rallying cry.</td>\n",
       "      <td>Hear ye, hear ye! The cry goes forth, a clari...</td>\n",
       "      <td>Rewrite the text as a passionate call to actio...</td>\n",
       "      <td>0.650467</td>\n",
       "      <td>Rewrite the text as a passionate call to actio...</td>\n",
       "    </tr>\n",
       "    <tr>\n",
       "      <th>4</th>\n",
       "      <td>Nov 27 (Reuters) - Ferrari president Luca Di M...</td>\n",
       "      <td>Rewrite the message in passive voice</td>\n",
       "      <td>\\nSure, here is the rewritten message in passi...</td>\n",
       "      <td>Rewrite the following text, changing the passi...</td>\n",
       "      <td>0.650510</td>\n",
       "      <td>Rewrite the following text, changing the passi...</td>\n",
       "    </tr>\n",
       "    <tr>\n",
       "      <th>...</th>\n",
       "      <td>...</td>\n",
       "      <td>...</td>\n",
       "      <td>...</td>\n",
       "      <td>...</td>\n",
       "      <td>...</td>\n",
       "      <td>...</td>\n",
       "    </tr>\n",
       "    <tr>\n",
       "      <th>10583</th>\n",
       "      <td>There's nothing better than building a project...</td>\n",
       "      <td>Imagine this text was a acrostic poem in the R...</td>\n",
       "      <td>There's nothing better than building a project...</td>\n",
       "      <td>Rewrite the given text as an acrostic poem in ...</td>\n",
       "      <td>0.926818</td>\n",
       "      <td>Rewrite the given text as an acrostic poem in ...</td>\n",
       "    </tr>\n",
       "    <tr>\n",
       "      <th>10584</th>\n",
       "      <td>We are happy to announce that UKRDA men’s leag...</td>\n",
       "      <td>Imagine this text was a tale in a magical fore...</td>\n",
       "      <td>We are happy to announce that UKRDA men’s leag...</td>\n",
       "      <td>I. Transform the text into a fairy tale or myt...</td>\n",
       "      <td>0.697033</td>\n",
       "      <td>Imagine this text was a tale in a magical fore...</td>\n",
       "    </tr>\n",
       "    <tr>\n",
       "      <th>10585</th>\n",
       "      <td>There is a general misconception about autism,...</td>\n",
       "      <td>Imagine this text was a rap song in a magical ...</td>\n",
       "      <td>Painting Through the Forest Rain\\n\\n(Verse 1)\\...</td>\n",
       "      <td>Rewrite the following text as a rap verse or p...</td>\n",
       "      <td>0.695128</td>\n",
       "      <td>Rewrite the following text as a rap verse or p...</td>\n",
       "    </tr>\n",
       "    <tr>\n",
       "      <th>10586</th>\n",
       "      <td>As more people attempt to turn their ideas for...</td>\n",
       "      <td>Imagine this text was a folk tale in medieval ...</td>\n",
       "      <td>The Tale of SnapEDA and Octopart\\n\\nIn the qua...</td>\n",
       "      <td>Rewrite the following text as a captivating st...</td>\n",
       "      <td>0.680362</td>\n",
       "      <td>Rewrite the following text as a captivating st...</td>\n",
       "    </tr>\n",
       "    <tr>\n",
       "      <th>10587</th>\n",
       "      <td>FOXBOROUGH, Mass. -- When Bill Belichick puts ...</td>\n",
       "      <td>Imagine this text was a villanelle in a cyberp...</td>\n",
       "      <td>The red lights blaze, the gridiron glow,\\nBeli...</td>\n",
       "      <td>Rewrite the given text as a villanelle poem in...</td>\n",
       "      <td>0.707175</td>\n",
       "      <td>Rewrite the given text as a villanelle poem in...</td>\n",
       "    </tr>\n",
       "  </tbody>\n",
       "</table>\n",
       "<p>10588 rows × 6 columns</p>\n",
       "</div>"
      ],
      "text/plain": [
       "                                           original_text  \\\n",
       "0      Google Opinion Rewards is now live in India, S...   \n",
       "1      At last things are starting to get exciting ar...   \n",
       "2      Indian employers appear to be upbeat about gov...   \n",
       "3      In 2011, according to CBO's estimates, average...   \n",
       "4      Nov 27 (Reuters) - Ferrari president Luca Di M...   \n",
       "...                                                  ...   \n",
       "10583  There's nothing better than building a project...   \n",
       "10584  We are happy to announce that UKRDA men’s leag...   \n",
       "10585  There is a general misconception about autism,...   \n",
       "10586  As more people attempt to turn their ideas for...   \n",
       "10587  FOXBOROUGH, Mass. -- When Bill Belichick puts ...   \n",
       "\n",
       "                                       gt_rewrite_prompt  \\\n",
       "0      Turn the content into a bridal shower's game i...   \n",
       "1      Turn the content into a music producer's advic...   \n",
       "2               Present this as a teacher's lesson plan.   \n",
       "3        Present this as a revolutionary’s rallying cry.   \n",
       "4                   Rewrite the message in passive voice   \n",
       "...                                                  ...   \n",
       "10583  Imagine this text was a acrostic poem in the R...   \n",
       "10584  Imagine this text was a tale in a magical fore...   \n",
       "10585  Imagine this text was a rap song in a magical ...   \n",
       "10586  Imagine this text was a folk tale in medieval ...   \n",
       "10587  Imagine this text was a villanelle in a cyberp...   \n",
       "\n",
       "                                          rewritten_text  \\\n",
       "0      **Bridal Shower Game Instructions:**\\n\\nGather...   \n",
       "1      **Music Producer's Advice for Aspiring Artists...   \n",
       "2      **Lesson Plan**\\n\\n**Subject:** Current Affair...   \n",
       "3       Hear ye, hear ye! The cry goes forth, a clari...   \n",
       "4      \\nSure, here is the rewritten message in passi...   \n",
       "...                                                  ...   \n",
       "10583  There's nothing better than building a project...   \n",
       "10584  We are happy to announce that UKRDA men’s leag...   \n",
       "10585  Painting Through the Forest Rain\\n\\n(Verse 1)\\...   \n",
       "10586  The Tale of SnapEDA and Octopart\\n\\nIn the qua...   \n",
       "10587  The red lights blaze, the gridiron glow,\\nBeli...   \n",
       "\n",
       "                                          rewrite_prompt     score  \\\n",
       "0      Create a bridal shower game using Google Opini...  0.650209   \n",
       "1      Rewrite this text to address a specific audien...  0.650419   \n",
       "2      I'm an elementary school teacher and I'd like ...  0.650421   \n",
       "3      Rewrite the text as a passionate call to actio...  0.650467   \n",
       "4      Rewrite the following text, changing the passi...  0.650510   \n",
       "...                                                  ...       ...   \n",
       "10583  Rewrite the given text as an acrostic poem in ...  0.926818   \n",
       "10584  I. Transform the text into a fairy tale or myt...  0.697033   \n",
       "10585  Rewrite the following text as a rap verse or p...  0.695128   \n",
       "10586  Rewrite the following text as a captivating st...  0.680362   \n",
       "10587  Rewrite the given text as a villanelle poem in...  0.707175   \n",
       "\n",
       "                                           prompt_select  \n",
       "0      Create a bridal shower game using Google Opini...  \n",
       "1      Rewrite this text to address a specific audien...  \n",
       "2      I'm an elementary school teacher and I'd like ...  \n",
       "3      Rewrite the text as a passionate call to actio...  \n",
       "4      Rewrite the following text, changing the passi...  \n",
       "...                                                  ...  \n",
       "10583  Rewrite the given text as an acrostic poem in ...  \n",
       "10584  Imagine this text was a tale in a magical fore...  \n",
       "10585  Rewrite the following text as a rap verse or p...  \n",
       "10586  Rewrite the following text as a captivating st...  \n",
       "10587  Rewrite the given text as a villanelle poem in...  \n",
       "\n",
       "[10588 rows x 6 columns]"
      ]
     },
     "execution_count": 11,
     "metadata": {},
     "output_type": "execute_result"
    }
   ],
   "source": [
    "df"
   ]
  },
  {
   "cell_type": "code",
   "execution_count": 8,
   "metadata": {},
   "outputs": [],
   "source": [
    "# Create a sampling params object.\n",
    "sampling_params = SamplingParams(max_tokens=100, n=2)\n",
    "\n",
    "\n",
    "# Create a class to do batch inference.\n",
    "class LLMPredictor:\n",
    "\n",
    "    def __init__(self):\n",
    "        self.llm = LLM(\n",
    "            model=model_name,\n",
    "            gpu_memory_utilization=0.92,\n",
    "            max_model_len=1500,\n",
    "            trust_remote_code=True, \n",
    "        )\n",
    "\n",
    "    def __call__(self, batch: Dict[str, np.ndarray]) -> Dict[str, list]:\n",
    "        outputs = self.llm.generate(batch[\"input\"], sampling_params)\n",
    "        \n",
    "        generated_text = []\n",
    "        for output in outputs:\n",
    "            generated_text.append([o.text for o in output.outputs])\n",
    "        batch[\"rewrite_prompts\"] = generated_text\n",
    "\n",
    "        return batch\n",
    "\n",
    "ds = ds.map_batches(\n",
    "    LLMPredictor,\n",
    "    # Set the concurrency to the number of LLM instances.\n",
    "    concurrency=2,\n",
    "    # Specify the number of GPUs required per LLM instance.\n",
    "    # NOTE: Do NOT set `num_gpus` when using vLLM with tensor-parallelism\n",
    "    # (i.e., `tensor_parallel_size`).\n",
    "    num_gpus=1,\n",
    "    # Specify the batch size for inference.\n",
    "    batch_size=2,\n",
    ")"
   ]
  },
  {
   "cell_type": "code",
   "execution_count": 9,
   "metadata": {},
   "outputs": [
    {
     "name": "stderr",
     "output_type": "stream",
     "text": [
      "2024-04-12 14:35:25,682\tINFO streaming_executor.py:115 -- Starting execution of Dataset. Full log is in /tmp/ray/session_2024-04-12_14-34-34_935382_2167/logs/ray-data.log\n",
      "2024-04-12 14:35:25,683\tINFO streaming_executor.py:116 -- Execution plan of Dataset: InputDataBuffer[Input] -> TaskPoolMapOperator[Map(get_chat_input)] -> AllToAllOperator[Repartition] -> ActorPoolMapOperator[MapBatches(LLMPredictor)] -> TaskPoolMapOperator[Write]\n",
      "\n"
     ]
    },
    {
     "data": {
      "application/vnd.jupyter.widget-view+json": {
       "model_id": "b8a1585efc9d48bc919ceb2946ad6edd",
       "version_major": 2,
       "version_minor": 0
      },
      "text/plain": [
       "- Map(get_chat_input) 1:   0%|          | 0/1 [00:00<?, ?it/s]"
      ]
     },
     "metadata": {},
     "output_type": "display_data"
    },
    {
     "data": {
      "application/vnd.jupyter.widget-view+json": {
       "model_id": "0c69304f5c3f49afb19512a75150a060",
       "version_major": 2,
       "version_minor": 0
      },
      "text/plain": [
       "- Repartition 2:   0%|          | 0/2 [00:00<?, ?it/s]"
      ]
     },
     "metadata": {},
     "output_type": "display_data"
    },
    {
     "data": {
      "application/vnd.jupyter.widget-view+json": {
       "model_id": "0a3ab1aa7a1f4b958479be2b10063c2d",
       "version_major": 2,
       "version_minor": 0
      },
      "text/plain": [
       "Split Repartition 3:   0%|          | 0/2 [00:00<?, ?it/s]"
      ]
     },
     "metadata": {},
     "output_type": "display_data"
    },
    {
     "data": {
      "application/vnd.jupyter.widget-view+json": {
       "model_id": "03eafbeaf17a40cebd4c921523bf6cdf",
       "version_major": 2,
       "version_minor": 0
      },
      "text/plain": [
       "- MapBatches(LLMPredictor) 4:   0%|          | 0/2 [00:00<?, ?it/s]"
      ]
     },
     "metadata": {},
     "output_type": "display_data"
    },
    {
     "data": {
      "application/vnd.jupyter.widget-view+json": {
       "model_id": "a87dff6920db42179d188c0cf8b512b3",
       "version_major": 2,
       "version_minor": 0
      },
      "text/plain": [
       "- Write 5:   0%|          | 0/2 [00:00<?, ?it/s]"
      ]
     },
     "metadata": {},
     "output_type": "display_data"
    },
    {
     "data": {
      "application/vnd.jupyter.widget-view+json": {
       "model_id": "f226870947504dbfb00039412fb1b45c",
       "version_major": 2,
       "version_minor": 0
      },
      "text/plain": [
       "Running 0:   0%|          | 0/2 [00:00<?, ?it/s]"
      ]
     },
     "metadata": {},
     "output_type": "display_data"
    }
   ],
   "source": [
    "ds.write_parquet(\"./data/exp_test/multi_n/\")"
   ]
  },
  {
   "cell_type": "markdown",
   "metadata": {},
   "source": [
    "## score the dataset"
   ]
  }
 ],
 "metadata": {
  "kernelspec": {
   "display_name": "Python 3 (ipykernel)",
   "language": "python",
   "name": "python3"
  },
  "language_info": {
   "codemirror_mode": {
    "name": "ipython",
    "version": 3
   },
   "file_extension": ".py",
   "mimetype": "text/x-python",
   "name": "python",
   "nbconvert_exporter": "python",
   "pygments_lexer": "ipython3",
   "version": "3.9.19"
  }
 },
 "nbformat": 4,
 "nbformat_minor": 4
}
