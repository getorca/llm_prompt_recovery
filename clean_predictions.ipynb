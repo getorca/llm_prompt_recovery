{
 "cells": [
  {
   "cell_type": "code",
   "execution_count": 2,
   "metadata": {},
   "outputs": [
    {
     "name": "stderr",
     "output_type": "stream",
     "text": [
      "[nltk_data] Downloading package punkt to /home/lawrence/nltk_data...\n",
      "[nltk_data]   Package punkt is already up-to-date!\n"
     ]
    },
    {
     "data": {
      "text/plain": [
       "True"
      ]
     },
     "execution_count": 2,
     "metadata": {},
     "output_type": "execute_result"
    }
   ],
   "source": [
    "import polars as pl\n",
    "\n",
    "\n",
    "import nltk\n",
    "from nltk.tokenize import sent_tokenize\n",
    "from polars.datatypes import String\n",
    "\n",
    "nltk.download('punkt')"
   ]
  },
  {
   "cell_type": "code",
   "execution_count": 4,
   "metadata": {},
   "outputs": [],
   "source": [
    "lowest_score = 0.65\n",
    "out_file = \"above_65.csv\""
   ]
  },
  {
   "cell_type": "code",
   "execution_count": 3,
   "metadata": {},
   "outputs": [],
   "source": [
    "df = pl.read_csv(\"./data/predictions/gemma10000.csv\").filter(\n",
    "    pl.col(\"score\") > lowest_score\n",
    ").sort(\"score\").with_columns(\n",
    "    pl.col(\"rewrite_prompt\").map_elements(lambda s: sent_tokenize(s)[0], return_dtype=String)\n",
    ").select('original_text', 'gt_rewrite_prompt', 'rewritten_text', 'rewrite_prompt', 'score')"
   ]
  },
  {
   "cell_type": "code",
   "execution_count": 4,
   "metadata": {},
   "outputs": [
    {
     "data": {
      "text/html": [
       "<div><style>\n",
       ".dataframe > thead > tr,\n",
       ".dataframe > tbody > tr {\n",
       "  text-align: right;\n",
       "  white-space: pre-wrap;\n",
       "}\n",
       "</style>\n",
       "<small>shape: (1_071, 5)</small><table border=\"1\" class=\"dataframe\"><thead><tr><th>original_text</th><th>gt_rewrite_prompt</th><th>rewritten_text</th><th>rewrite_prompt</th><th>score</th></tr><tr><td>str</td><td>str</td><td>str</td><td>str</td><td>f64</td></tr></thead><tbody><tr><td>&quot;Google Opinion…</td><td>&quot;Turn the conte…</td><td>&quot;**Bridal Showe…</td><td>&quot; Create a brid…</td><td>0.6502093</td></tr><tr><td>&quot;At last things…</td><td>&quot;Turn the conte…</td><td>&quot;**Music Produc…</td><td>&quot; Rewrite this …</td><td>0.6504193</td></tr><tr><td>&quot;Indian employe…</td><td>&quot;Present this a…</td><td>&quot;**Lesson Plan*…</td><td>&quot; I&#x27;m an elemen…</td><td>0.6504212</td></tr><tr><td>&quot;In 2011, accor…</td><td>&quot;Present this a…</td><td>&quot; Hear ye, hear…</td><td>&quot; Rewrite the t…</td><td>0.650467</td></tr><tr><td>&quot;Nov 27 (Reuter…</td><td>&quot;Rewrite the me…</td><td>&quot;\n",
       "Sure, here is…</td><td>&quot; Rewrite the f…</td><td>0.6505102</td></tr><tr><td>&hellip;</td><td>&hellip;</td><td>&hellip;</td><td>&hellip;</td><td>&hellip;</td></tr><tr><td>&quot;A developer pl…</td><td>&quot;Rewrite the me…</td><td>&quot; (D dystopian …</td><td>&quot; Rewrite the t…</td><td>0.8962796</td></tr><tr><td>&quot;WASHINGTON — S…</td><td>&quot;Turn the conte…</td><td>&quot; (Country Song…</td><td>&quot; Creatively tr…</td><td>0.8969294</td></tr><tr><td>&quot;SAN CARLOS, TX…</td><td>&quot;Convert the te…</td><td>&quot; (Soap Opera D…</td><td>&quot;Imagine the or…</td><td>0.8997115</td></tr><tr><td>&quot;Official openi…</td><td>&quot;Translate this…</td><td>&quot; (Announcer vo…</td><td>&quot; Rewrite the t…</td><td>0.9000504</td></tr><tr><td>&quot;A Big Tip of t…</td><td>&quot;Change the tex…</td><td>&quot;\n",
       "\n",
       "The relentle…</td><td>&quot; Transform thi…</td><td>0.919003</td></tr></tbody></table></div>"
      ],
      "text/plain": [
       "shape: (1_071, 5)\n",
       "┌─────────────────────┬─────────────────────┬─────────────────────┬────────────────────┬───────────┐\n",
       "│ original_text       ┆ gt_rewrite_prompt   ┆ rewritten_text      ┆ rewrite_prompt     ┆ score     │\n",
       "│ ---                 ┆ ---                 ┆ ---                 ┆ ---                ┆ ---       │\n",
       "│ str                 ┆ str                 ┆ str                 ┆ str                ┆ f64       │\n",
       "╞═════════════════════╪═════════════════════╪═════════════════════╪════════════════════╪═══════════╡\n",
       "│ Google Opinion      ┆ Turn the content    ┆ **Bridal Shower     ┆ Create a bridal    ┆ 0.6502093 │\n",
       "│ Rewards is now li…  ┆ into a bridal s…    ┆ Game Instruction…   ┆ shower game usi…   ┆           │\n",
       "│ At last things are  ┆ Turn the content    ┆ **Music Producer's  ┆ Rewrite this text  ┆ 0.6504193 │\n",
       "│ starting to g…      ┆ into a music pr…    ┆ Advice for As…      ┆ to address a …     ┆           │\n",
       "│ Indian employers    ┆ Present this as a   ┆ **Lesson Plan**     ┆ I'm an elementary  ┆ 0.6504212 │\n",
       "│ appear to be up…    ┆ teacher's less…     ┆                     ┆ school teache…     ┆           │\n",
       "│                     ┆                     ┆ **Subject:** Cu…    ┆                    ┆           │\n",
       "│ In 2011, according  ┆ Present this as a   ┆ Hear ye, hear ye!   ┆ Rewrite the text   ┆ 0.650467  │\n",
       "│ to CBO's esti…      ┆ revolutionary’…     ┆ The cry goes …      ┆ as a passionat…    ┆           │\n",
       "│ Nov 27 (Reuters) -  ┆ Rewrite the message ┆                     ┆ Rewrite the        ┆ 0.6505102 │\n",
       "│ Ferrari presi…      ┆ in passive v…       ┆ Sure, here is the   ┆ following text,    ┆           │\n",
       "│                     ┆                     ┆ rewritten mes…      ┆ cha…               ┆           │\n",
       "│ …                   ┆ …                   ┆ …                   ┆ …                  ┆ …         │\n",
       "│ A developer         ┆ Rewrite the message ┆ (D dystopian future ┆ Rewrite the text   ┆ 0.8962796 │\n",
       "│ planning a          ┆ as a dystopi…       ┆ news report…        ┆ in a dystopian…    ┆           │\n",
       "│ mixed-use…          ┆                     ┆                     ┆                    ┆           │\n",
       "│ WASHINGTON — Sen.   ┆ Turn the content    ┆ (Country Song       ┆ Creatively         ┆ 0.8969294 │\n",
       "│ Mark Udall on …     ┆ into a country …    ┆ Chorus)             ┆ transform the      ┆           │\n",
       "│                     ┆                     ┆ Reputatio…          ┆ given …            ┆           │\n",
       "│ SAN CARLOS, TX—A    ┆ Convert the text    ┆ (Soap Opera         ┆ Imagine the        ┆ 0.8997115 │\n",
       "│ family of Mexic…    ┆ into a soap ope…    ┆ Dialogue)           ┆ original text as a ┆           │\n",
       "│                     ┆                     ┆                     ┆ s…                 ┆           │\n",
       "│                     ┆                     ┆ **Sonia:…           ┆                    ┆           │\n",
       "│ Official opening of ┆ Translate this into ┆  (Announcer voice)  ┆ Rewrite the text   ┆ 0.9000504 │\n",
       "│ Bisdee Tier …       ┆ a vintage ra…       ┆ Attention all…      ┆ as a vintage r…    ┆           │\n",
       "│ A Big Tip of the    ┆ Change the text     ┆                     ┆ Transform this     ┆ 0.919003  │\n",
       "│ Tuque to the Cr…    ┆ into a conspirac…   ┆                     ┆ text into a piec…  ┆           │\n",
       "│                     ┆                     ┆ The relentless      ┆                    ┆           │\n",
       "│                     ┆                     ┆ barrage of scre…    ┆                    ┆           │\n",
       "└─────────────────────┴─────────────────────┴─────────────────────┴────────────────────┴───────────┘"
      ]
     },
     "execution_count": 4,
     "metadata": {},
     "output_type": "execute_result"
    }
   ],
   "source": [
    "df"
   ]
  },
  {
   "cell_type": "code",
   "execution_count": 5,
   "metadata": {},
   "outputs": [],
   "source": [
    "df = df.vstack(\n",
    "    pl.read_csv('/home/lawrence/Projects/contests/llm_prompt_recovery/data/predictions/llm_dataset_1.csv').filter(\n",
    "        pl.col(\"score\") > lowest_score\n",
    "    ).sort(\"score\").with_columns(\n",
    "        pl.col(\"rewrite_prompt\").map_elements(lambda s: sent_tokenize(s)[0], return_dtype=String)\n",
    "    ).select('original_text', 'gt_rewrite_prompt', 'rewritten_text', 'rewrite_prompt', 'score')\n",
    ")"
   ]
  },
  {
   "cell_type": "code",
   "execution_count": 6,
   "metadata": {},
   "outputs": [
    {
     "data": {
      "text/html": [
       "<div><style>\n",
       ".dataframe > thead > tr,\n",
       ".dataframe > tbody > tr {\n",
       "  text-align: right;\n",
       "  white-space: pre-wrap;\n",
       "}\n",
       "</style>\n",
       "<small>shape: (2_185, 5)</small><table border=\"1\" class=\"dataframe\"><thead><tr><th>original_text</th><th>gt_rewrite_prompt</th><th>rewritten_text</th><th>rewrite_prompt</th><th>score</th></tr><tr><td>str</td><td>str</td><td>str</td><td>str</td><td>f64</td></tr></thead><tbody><tr><td>&quot;Google Opinion…</td><td>&quot;Turn the conte…</td><td>&quot;**Bridal Showe…</td><td>&quot; Create a brid…</td><td>0.6502093</td></tr><tr><td>&quot;At last things…</td><td>&quot;Turn the conte…</td><td>&quot;**Music Produc…</td><td>&quot; Rewrite this …</td><td>0.6504193</td></tr><tr><td>&quot;Indian employe…</td><td>&quot;Present this a…</td><td>&quot;**Lesson Plan*…</td><td>&quot; I&#x27;m an elemen…</td><td>0.6504212</td></tr><tr><td>&quot;In 2011, accor…</td><td>&quot;Present this a…</td><td>&quot; Hear ye, hear…</td><td>&quot; Rewrite the t…</td><td>0.650467</td></tr><tr><td>&quot;Nov 27 (Reuter…</td><td>&quot;Rewrite the me…</td><td>&quot;\n",
       "Sure, here is…</td><td>&quot; Rewrite the f…</td><td>0.6505102</td></tr><tr><td>&hellip;</td><td>&hellip;</td><td>&hellip;</td><td>&hellip;</td><td>&hellip;</td></tr><tr><td>&quot;Cellulose is a…</td><td>&quot;Rewrite my tex…</td><td>&quot;Sure, here&#x27;s t…</td><td>&quot; Rewrite the o…</td><td>0.851789</td></tr><tr><td>&quot;No doubt you’v…</td><td>&quot;Rewrite my tex…</td><td>&quot;Sure, here&#x27;s t…</td><td>&quot; Rewrite the o…</td><td>0.8542147</td></tr><tr><td>&quot;The average pa…</td><td>&quot;Convert this i…</td><td>&quot;## Superhero F…</td><td>&quot; Convert the t…</td><td>0.8580646</td></tr><tr><td>&quot;The red liquid…</td><td>&quot;Rewrite the fo…</td><td>&quot;Sure, here&#x27;s t…</td><td>&quot; Rewrite this …</td><td>0.873845</td></tr><tr><td>&quot;Sexual reprodu…</td><td>&quot;Rewrite this t…</td><td>&quot;Sure, here&#x27;s t…</td><td>&quot; Provide a pro…</td><td>0.885809</td></tr></tbody></table></div>"
      ],
      "text/plain": [
       "shape: (2_185, 5)\n",
       "┌─────────────────────┬─────────────────────┬─────────────────────┬────────────────────┬───────────┐\n",
       "│ original_text       ┆ gt_rewrite_prompt   ┆ rewritten_text      ┆ rewrite_prompt     ┆ score     │\n",
       "│ ---                 ┆ ---                 ┆ ---                 ┆ ---                ┆ ---       │\n",
       "│ str                 ┆ str                 ┆ str                 ┆ str                ┆ f64       │\n",
       "╞═════════════════════╪═════════════════════╪═════════════════════╪════════════════════╪═══════════╡\n",
       "│ Google Opinion      ┆ Turn the content    ┆ **Bridal Shower     ┆ Create a bridal    ┆ 0.6502093 │\n",
       "│ Rewards is now li…  ┆ into a bridal s…    ┆ Game Instruction…   ┆ shower game usi…   ┆           │\n",
       "│ At last things are  ┆ Turn the content    ┆ **Music Producer's  ┆ Rewrite this text  ┆ 0.6504193 │\n",
       "│ starting to g…      ┆ into a music pr…    ┆ Advice for As…      ┆ to address a …     ┆           │\n",
       "│ Indian employers    ┆ Present this as a   ┆ **Lesson Plan**     ┆ I'm an elementary  ┆ 0.6504212 │\n",
       "│ appear to be up…    ┆ teacher's less…     ┆                     ┆ school teache…     ┆           │\n",
       "│                     ┆                     ┆ **Subject:** Cu…    ┆                    ┆           │\n",
       "│ In 2011, according  ┆ Present this as a   ┆ Hear ye, hear ye!   ┆ Rewrite the text   ┆ 0.650467  │\n",
       "│ to CBO's esti…      ┆ revolutionary’…     ┆ The cry goes …      ┆ as a passionat…    ┆           │\n",
       "│ Nov 27 (Reuters) -  ┆ Rewrite the message ┆                     ┆ Rewrite the        ┆ 0.6505102 │\n",
       "│ Ferrari presi…      ┆ in passive v…       ┆ Sure, here is the   ┆ following text,    ┆           │\n",
       "│                     ┆                     ┆ rewritten mes…      ┆ cha…               ┆           │\n",
       "│ …                   ┆ …                   ┆ …                   ┆ …                  ┆ …         │\n",
       "│ Cellulose is a      ┆ Rewrite my text     ┆ Sure, here's the    ┆ Rewrite the        ┆ 0.851789  │\n",
       "│ compound found in…  ┆ with urgent, act…   ┆ rewritten text …    ┆ original text      ┆           │\n",
       "│                     ┆                     ┆                     ┆ using…             ┆           │\n",
       "│ No doubt you’ve     ┆ Rewrite my text     ┆ Sure, here's the    ┆ Rewrite the        ┆ 0.8542147 │\n",
       "│ seen this happen…   ┆ with evocative, …   ┆ rewritten text …    ┆ original text      ┆           │\n",
       "│                     ┆                     ┆                     ┆ using…             ┆           │\n",
       "│ The average         ┆ Convert this        ┆ ## Superhero        ┆ Convert the text   ┆ 0.8580646 │\n",
       "│ particle energy     ┆ information into a  ┆ Fitness Routine:    ┆ into a fitness…    ┆           │\n",
       "│ need…               ┆ …                   ┆                     ┆                    ┆           │\n",
       "│                     ┆                     ┆ *…                  ┆                    ┆           │\n",
       "│ The red liquid in   ┆ Rewrite the         ┆ Sure, here's the    ┆ Rewrite this       ┆ 0.873845  │\n",
       "│ this thermomet…     ┆ following sentence  ┆ rewritten sente…    ┆ sentence in        ┆           │\n",
       "│                     ┆ i…                  ┆                     ┆ simple…            ┆           │\n",
       "│ Sexual reproduction ┆ Rewrite this text   ┆ Sure, here's the    ┆ Provide a prompt   ┆ 0.885809  │\n",
       "│ involves hap…       ┆ as if it were …     ┆ text rewritten …    ┆ for rewriting …    ┆           │\n",
       "└─────────────────────┴─────────────────────┴─────────────────────┴────────────────────┴───────────┘"
      ]
     },
     "execution_count": 6,
     "metadata": {},
     "output_type": "execute_result"
    }
   ],
   "source": [
    "df"
   ]
  },
  {
   "cell_type": "code",
   "execution_count": 7,
   "metadata": {},
   "outputs": [],
   "source": [
    "df = df.vstack(\n",
    "    pl.read_csv('/home/lawrence/Projects/contests/llm_prompt_recovery/data/predictions/nboard_v2.csv').filter(\n",
    "        pl.col(\"score\") > lowest_score\n",
    "    ).sort(\"score\").with_columns(\n",
    "        pl.col(\"rewrite_prompt\").map_elements(lambda s: sent_tokenize(s)[0], return_dtype=String)\n",
    "    ).select('original_text', 'gt_rewrite_prompt', 'rewritten_text', 'rewrite_prompt', 'score')\n",
    ")"
   ]
  },
  {
   "cell_type": "code",
   "execution_count": 8,
   "metadata": {},
   "outputs": [
    {
     "data": {
      "text/plain": [
       "\" I'd like you to rewrite the excerpt in a dystopian science fiction style.\""
      ]
     },
     "execution_count": 8,
     "metadata": {},
     "output_type": "execute_result"
    }
   ],
   "source": [
    "df[-77]['rewrite_prompt'][0]"
   ]
  },
  {
   "cell_type": "code",
   "execution_count": 9,
   "metadata": {},
   "outputs": [
    {
     "data": {
      "text/html": [
       "<div><style>\n",
       ".dataframe > thead > tr,\n",
       ".dataframe > tbody > tr {\n",
       "  text-align: right;\n",
       "  white-space: pre-wrap;\n",
       "}\n",
       "</style>\n",
       "<small>shape: (2_309, 5)</small><table border=\"1\" class=\"dataframe\"><thead><tr><th>original_text</th><th>gt_rewrite_prompt</th><th>rewritten_text</th><th>rewrite_prompt</th><th>score</th></tr><tr><td>str</td><td>str</td><td>str</td><td>str</td><td>f64</td></tr></thead><tbody><tr><td>&quot;Google Opinion…</td><td>&quot;Turn the conte…</td><td>&quot;**Bridal Showe…</td><td>&quot; Create a brid…</td><td>0.6502093</td></tr><tr><td>&quot;At last things…</td><td>&quot;Turn the conte…</td><td>&quot;**Music Produc…</td><td>&quot; Rewrite this …</td><td>0.6504193</td></tr><tr><td>&quot;Indian employe…</td><td>&quot;Present this a…</td><td>&quot;**Lesson Plan*…</td><td>&quot; I&#x27;m an elemen…</td><td>0.6504212</td></tr><tr><td>&quot;In 2011, accor…</td><td>&quot;Present this a…</td><td>&quot; Hear ye, hear…</td><td>&quot; Rewrite the t…</td><td>0.650467</td></tr><tr><td>&quot;Nov 27 (Reuter…</td><td>&quot;Rewrite the me…</td><td>&quot;\n",
       "Sure, here is…</td><td>&quot; Rewrite the f…</td><td>0.6505102</td></tr><tr><td>&hellip;</td><td>&hellip;</td><td>&hellip;</td><td>&hellip;</td><td>&hellip;</td></tr><tr><td>&quot;It&#x27;s been a fr…</td><td>&quot;Rewrite the es…</td><td>&quot;In the futuris…</td><td>&quot; Rewrite the t…</td><td>0.823358</td></tr><tr><td>&quot;Even the best …</td><td>&quot;Rewrite the st…</td><td>&quot;And so, the tw…</td><td>&quot; Rewrite the f…</td><td>0.847983</td></tr><tr><td>&quot;Frank has barr…</td><td>&quot;Rewrite the wr…</td><td>&quot;Last night, I …</td><td>&quot; Rewrite the g…</td><td>0.888009</td></tr><tr><td>&quot;Yo, me again. …</td><td>&quot;Rewrite in hai…</td><td>&quot;Haiku:\n",
       "\n",
       "Coffee…</td><td>&quot; Rewrite the g…</td><td>0.891848</td></tr><tr><td>&quot;`` forced&#x27;&#x27; to…</td><td>&quot;Rewrite the po…</td><td>&quot;(Verse 1)\n",
       "Yo, …</td><td>&quot; Rewrite the p…</td><td>0.895944</td></tr></tbody></table></div>"
      ],
      "text/plain": [
       "shape: (2_309, 5)\n",
       "┌─────────────────────┬─────────────────────┬─────────────────────┬────────────────────┬───────────┐\n",
       "│ original_text       ┆ gt_rewrite_prompt   ┆ rewritten_text      ┆ rewrite_prompt     ┆ score     │\n",
       "│ ---                 ┆ ---                 ┆ ---                 ┆ ---                ┆ ---       │\n",
       "│ str                 ┆ str                 ┆ str                 ┆ str                ┆ f64       │\n",
       "╞═════════════════════╪═════════════════════╪═════════════════════╪════════════════════╪═══════════╡\n",
       "│ Google Opinion      ┆ Turn the content    ┆ **Bridal Shower     ┆ Create a bridal    ┆ 0.6502093 │\n",
       "│ Rewards is now li…  ┆ into a bridal s…    ┆ Game Instruction…   ┆ shower game usi…   ┆           │\n",
       "│ At last things are  ┆ Turn the content    ┆ **Music Producer's  ┆ Rewrite this text  ┆ 0.6504193 │\n",
       "│ starting to g…      ┆ into a music pr…    ┆ Advice for As…      ┆ to address a …     ┆           │\n",
       "│ Indian employers    ┆ Present this as a   ┆ **Lesson Plan**     ┆ I'm an elementary  ┆ 0.6504212 │\n",
       "│ appear to be up…    ┆ teacher's less…     ┆                     ┆ school teache…     ┆           │\n",
       "│                     ┆                     ┆ **Subject:** Cu…    ┆                    ┆           │\n",
       "│ In 2011, according  ┆ Present this as a   ┆ Hear ye, hear ye!   ┆ Rewrite the text   ┆ 0.650467  │\n",
       "│ to CBO's esti…      ┆ revolutionary’…     ┆ The cry goes …      ┆ as a passionat…    ┆           │\n",
       "│ Nov 27 (Reuters) -  ┆ Rewrite the message ┆                     ┆ Rewrite the        ┆ 0.6505102 │\n",
       "│ Ferrari presi…      ┆ in passive v…       ┆ Sure, here is the   ┆ following text,    ┆           │\n",
       "│                     ┆                     ┆ rewritten mes…      ┆ cha…               ┆           │\n",
       "│ …                   ┆ …                   ┆ …                   ┆ …                  ┆ …         │\n",
       "│ It's been a         ┆ Rewrite the essay   ┆ In the futuristic   ┆ Rewrite the text   ┆ 0.823358  │\n",
       "│ frustrating         ┆ as a futuristi…     ┆ city of Cyberi…     ┆ as a futuristi…    ┆           │\n",
       "│ afternoo…           ┆                     ┆                     ┆                    ┆           │\n",
       "│ Even the best of us ┆ Rewrite the story   ┆ And so, the two men ┆ Rewrite the        ┆ 0.847983  │\n",
       "│ have a dark …       ┆ so that Batman…     ┆ began to wor…       ┆ following text to  ┆           │\n",
       "│                     ┆                     ┆                     ┆ d…                 ┆           │\n",
       "│ Frank has           ┆ Rewrite the write   ┆ Last night, I had a ┆ Rewrite the given  ┆ 0.888009  │\n",
       "│ barricaded himself  ┆ up as if it wa…     ┆ dream that I…       ┆ text as if it…     ┆           │\n",
       "│ in …                ┆                     ┆                     ┆                    ┆           │\n",
       "│ Yo, me again. It's  ┆ Rewrite in haiku or ┆ Haiku:              ┆ Rewrite the given  ┆ 0.891848  │\n",
       "│ the Protagoni…      ┆ limerick for…       ┆                     ┆ text as poetr…     ┆           │\n",
       "│                     ┆                     ┆ Coffee wake,        ┆                    ┆           │\n",
       "│                     ┆                     ┆ dreamscape …        ┆                    ┆           │\n",
       "│ `` forced'' to take ┆ Rewrite the poem as ┆ (Verse 1)           ┆ Rewrite the        ┆ 0.895944  │\n",
       "│ my grandfath…       ┆ a rap               ┆ Yo, listen up, I'm  ┆ provided text as a ┆           │\n",
       "│                     ┆                     ┆ abo…                ┆ …                  ┆           │\n",
       "└─────────────────────┴─────────────────────┴─────────────────────┴────────────────────┴───────────┘"
      ]
     },
     "execution_count": 9,
     "metadata": {},
     "output_type": "execute_result"
    }
   ],
   "source": [
    "df"
   ]
  },
  {
   "cell_type": "code",
   "execution_count": 10,
   "metadata": {},
   "outputs": [],
   "source": [
    "df = df.vstack(\n",
    "    pl.read_csv(\"./data/predictions/gemini_*.csv\").filter(\n",
    "        pl.col(\"score\") > lowest_score\n",
    "    ).select('original_text', 'gt_rewrite_prompt', 'rewritten_text', 'rewrite_prompt', 'score')\n",
    ")"
   ]
  },
  {
   "cell_type": "code",
   "execution_count": 11,
   "metadata": {},
   "outputs": [],
   "source": [
    "df = df.vstack(\n",
    "    pl.read_csv('./data/predictions/dolly_gemini_with_prompt_11.csv').filter(\n",
    "        pl.col(\"score\") > lowest_score\n",
    "    ).select('original_text', 'gt_rewrite_prompt', 'rewritten_text', 'rewrite_prompt', 'score')\n",
    ")"
   ]
  },
  {
   "cell_type": "code",
   "execution_count": 12,
   "metadata": {},
   "outputs": [],
   "source": [
    "import re\n",
    "\n",
    "\n",
    "df = df.vstack(\n",
    "    pl.read_csv('./data/predictions/my70k_12k.csv').filter(\n",
    "        pl.col(\"score\") > lowest_score\n",
    "    ).with_columns(\n",
    "        pl.col(\"rewrite_prompt\").map_elements(lambda s: sent_tokenize(s)[0], return_dtype=String),\n",
    "        pl.col(\"rewritten_text\").map_elements(lambda s: re.sub(r\"^\\W+\", \"\", s.split(':', 1)[-1]).strip(), return_dtype=String),\n",
    "    ).select('original_text', 'gt_rewrite_prompt', 'rewritten_text', 'rewrite_prompt', 'score')\n",
    ")"
   ]
  },
  {
   "cell_type": "code",
   "execution_count": 13,
   "metadata": {},
   "outputs": [
    {
     "data": {
      "text/plain": [
       "'**Bridal Shower Game Instructions:**\\n\\nGather your friends and family for a fun bridal shower game! Play the Google Opinion Rewards game and earn Play Store credits for completing surveys.\\n\\n- To play, each guest will be given a unique code to participate in the survey.\\n- The code can be found on a sign-up sheet or emailed directly to guests.\\n- When ready, each guest will access the Google Opinion Rewards website on their mobile devices or computers.\\n- Guests will be prompted to create an account or log in to their existing account.\\n- Once logged in, guests will be asked to complete a survey about their favorite wedding products or services.\\n- The more surveys completed, the more Play Store credit users will earn.\\n- The goal is to earn as many Play Store credits as possible within the allotted time frame.\\n- The winner will receive a special prize at the end of the game.'"
      ]
     },
     "execution_count": 13,
     "metadata": {},
     "output_type": "execute_result"
    }
   ],
   "source": [
    "df[0]['rewritten_text'][0]"
   ]
  },
  {
   "cell_type": "code",
   "execution_count": 14,
   "metadata": {},
   "outputs": [],
   "source": [
    "df.write_csv(f\"./data/predictions/{out_file}\")"
   ]
  },
  {
   "cell_type": "code",
   "execution_count": 15,
   "metadata": {},
   "outputs": [
    {
     "data": {
      "text/html": [
       "<div><style>\n",
       ".dataframe > thead > tr,\n",
       ".dataframe > tbody > tr {\n",
       "  text-align: right;\n",
       "  white-space: pre-wrap;\n",
       "}\n",
       "</style>\n",
       "<small>shape: (10_588, 5)</small><table border=\"1\" class=\"dataframe\"><thead><tr><th>original_text</th><th>gt_rewrite_prompt</th><th>rewritten_text</th><th>rewrite_prompt</th><th>score</th></tr><tr><td>str</td><td>str</td><td>str</td><td>str</td><td>f64</td></tr></thead><tbody><tr><td>&quot;Google Opinion…</td><td>&quot;Turn the conte…</td><td>&quot;**Bridal Showe…</td><td>&quot; Create a brid…</td><td>0.6502093</td></tr><tr><td>&quot;At last things…</td><td>&quot;Turn the conte…</td><td>&quot;**Music Produc…</td><td>&quot; Rewrite this …</td><td>0.6504193</td></tr><tr><td>&quot;Indian employe…</td><td>&quot;Present this a…</td><td>&quot;**Lesson Plan*…</td><td>&quot; I&#x27;m an elemen…</td><td>0.6504212</td></tr><tr><td>&quot;In 2011, accor…</td><td>&quot;Present this a…</td><td>&quot; Hear ye, hear…</td><td>&quot; Rewrite the t…</td><td>0.650467</td></tr><tr><td>&quot;Nov 27 (Reuter…</td><td>&quot;Rewrite the me…</td><td>&quot;\n",
       "Sure, here is…</td><td>&quot; Rewrite the f…</td><td>0.6505102</td></tr><tr><td>&hellip;</td><td>&hellip;</td><td>&hellip;</td><td>&hellip;</td><td>&hellip;</td></tr><tr><td>&quot;There&#x27;s nothin…</td><td>&quot;Imagine this t…</td><td>&quot;There&#x27;s nothin…</td><td>&quot;Rewrite the gi…</td><td>0.9268185</td></tr><tr><td>&quot;We are happy t…</td><td>&quot;Imagine this t…</td><td>&quot;We are happy t…</td><td>&quot;I. Transform t…</td><td>0.6970332</td></tr><tr><td>&quot;There is a gen…</td><td>&quot;Imagine this t…</td><td>&quot;Painting Throu…</td><td>&quot;Rewrite the fo…</td><td>0.695128</td></tr><tr><td>&quot;As more people…</td><td>&quot;Imagine this t…</td><td>&quot;The Tale of Sn…</td><td>&quot;Rewrite the fo…</td><td>0.6803619</td></tr><tr><td>&quot;FOXBOROUGH, Ma…</td><td>&quot;Imagine this t…</td><td>&quot;The red lights…</td><td>&quot;Rewrite the gi…</td><td>0.707175</td></tr></tbody></table></div>"
      ],
      "text/plain": [
       "shape: (10_588, 5)\n",
       "┌─────────────────────┬─────────────────────┬─────────────────────┬────────────────────┬───────────┐\n",
       "│ original_text       ┆ gt_rewrite_prompt   ┆ rewritten_text      ┆ rewrite_prompt     ┆ score     │\n",
       "│ ---                 ┆ ---                 ┆ ---                 ┆ ---                ┆ ---       │\n",
       "│ str                 ┆ str                 ┆ str                 ┆ str                ┆ f64       │\n",
       "╞═════════════════════╪═════════════════════╪═════════════════════╪════════════════════╪═══════════╡\n",
       "│ Google Opinion      ┆ Turn the content    ┆ **Bridal Shower     ┆ Create a bridal    ┆ 0.6502093 │\n",
       "│ Rewards is now li…  ┆ into a bridal s…    ┆ Game Instruction…   ┆ shower game usi…   ┆           │\n",
       "│ At last things are  ┆ Turn the content    ┆ **Music Producer's  ┆ Rewrite this text  ┆ 0.6504193 │\n",
       "│ starting to g…      ┆ into a music pr…    ┆ Advice for As…      ┆ to address a …     ┆           │\n",
       "│ Indian employers    ┆ Present this as a   ┆ **Lesson Plan**     ┆ I'm an elementary  ┆ 0.6504212 │\n",
       "│ appear to be up…    ┆ teacher's less…     ┆                     ┆ school teache…     ┆           │\n",
       "│                     ┆                     ┆ **Subject:** Cu…    ┆                    ┆           │\n",
       "│ In 2011, according  ┆ Present this as a   ┆ Hear ye, hear ye!   ┆ Rewrite the text   ┆ 0.650467  │\n",
       "│ to CBO's esti…      ┆ revolutionary’…     ┆ The cry goes …      ┆ as a passionat…    ┆           │\n",
       "│ Nov 27 (Reuters) -  ┆ Rewrite the message ┆                     ┆ Rewrite the        ┆ 0.6505102 │\n",
       "│ Ferrari presi…      ┆ in passive v…       ┆ Sure, here is the   ┆ following text,    ┆           │\n",
       "│                     ┆                     ┆ rewritten mes…      ┆ cha…               ┆           │\n",
       "│ …                   ┆ …                   ┆ …                   ┆ …                  ┆ …         │\n",
       "│ There's nothing     ┆ Imagine this text   ┆ There's nothing     ┆ Rewrite the given  ┆ 0.9268185 │\n",
       "│ better than buil…   ┆ was a acrostic…     ┆ better than buil…   ┆ text as an acr…    ┆           │\n",
       "│ We are happy to     ┆ Imagine this text   ┆ We are happy to     ┆ I. Transform the   ┆ 0.6970332 │\n",
       "│ announce that UK…   ┆ was a tale in …     ┆ announce that UK…   ┆ text into a fai…   ┆           │\n",
       "│ There is a general  ┆ Imagine this text   ┆ Painting Through    ┆ Rewrite the        ┆ 0.695128  │\n",
       "│ misconception…      ┆ was a rap song…     ┆ the Forest Rain…    ┆ following text as  ┆           │\n",
       "│                     ┆                     ┆                     ┆ a …                ┆           │\n",
       "│ As more people      ┆ Imagine this text   ┆ The Tale of SnapEDA ┆ Rewrite the        ┆ 0.6803619 │\n",
       "│ attempt to turn t…  ┆ was a folk tal…     ┆ and Octopart…       ┆ following text as  ┆           │\n",
       "│                     ┆                     ┆                     ┆ a …                ┆           │\n",
       "│ FOXBOROUGH, Mass.   ┆ Imagine this text   ┆ The red lights      ┆ Rewrite the given  ┆ 0.707175  │\n",
       "│ -- When Bill B…     ┆ was a villanel…     ┆ blaze, the gridir…  ┆ text as a vill…    ┆           │\n",
       "└─────────────────────┴─────────────────────┴─────────────────────┴────────────────────┴───────────┘"
      ]
     },
     "execution_count": 15,
     "metadata": {},
     "output_type": "execute_result"
    }
   ],
   "source": [
    "df"
   ]
  },
  {
   "cell_type": "code",
   "execution_count": null,
   "metadata": {},
   "outputs": [],
   "source": [
    "# ToDo: clean responses of roman numerals, \"I. Transform the given text into a sea shanty II.\""
   ]
  },
  {
   "cell_type": "code",
   "execution_count": 119,
   "metadata": {},
   "outputs": [],
   "source": [
    "df = pl.read_csv(f\"./data/predictions/{out_file}\")"
   ]
  },
  {
   "cell_type": "code",
   "execution_count": 120,
   "metadata": {},
   "outputs": [],
   "source": [
    "df = df.with_columns(\n",
    "    pl.col(\"rewrite_prompt\").map_elements(lambda s: s.splitlines()[0].strip(), return_dtype=String)\n",
    ").with_columns(\n",
    "    pl.when(\n",
    "        pl.col(\"rewrite_prompt\").str.len_chars() < 5\n",
    "    ).then(pl.col(\"gt_rewrite_prompt\"))\n",
    "    .when(\n",
    "        pl.col(\"rewrite_prompt\").str.contains(\"I\\. \") # could also strip roman numerals\n",
    "    ).then(pl.col(\"gt_rewrite_prompt\"))\n",
    "    .when(\n",
    "        pl.col(\"rewrite_prompt\").str.contains(\"I'm sorry, \", literal=True)\n",
    "    ).then(pl.col(\"gt_rewrite_prompt\"))\n",
    "    .when(\n",
    "        pl.col(\"rewrite_prompt\").str.contains(\"I cannot \", literal=True)\n",
    "    ).then(pl.col(\"gt_rewrite_prompt\"))\n",
    "    .when(\n",
    "        pl.col(\"rewrite_prompt\").str.contains(\"I'll\", literal=True)\n",
    "    ).then(pl.col(\"gt_rewrite_prompt\"))\n",
    "    .when(\n",
    "        pl.col(\"rewrite_prompt\").str.contains(\"ées \", literal=True)\n",
    "    ).then(pl.col(\"gt_rewrite_prompt\"))\n",
    "    .when(\n",
    "        pl.col(\"rewrite_prompt\").str.contains(\"Part 1:\", literal=True)\n",
    "    ).then(pl.col(\"gt_rewrite_prompt\"))\n",
    "    .when(\n",
    "        pl.col(\"rewrite_prompt\").str.contains(\"[!@#$%^&*_+\\=\\[\\]{};:\\\"\\\\|<>\\/?]\")\n",
    "    ).then(pl.col(\"gt_rewrite_prompt\"))\n",
    "    .otherwise(pl.col(\"rewrite_prompt\")).alias('prompt_select'),\n",
    ").write_csv(f\"./data/predictions/2_{out_file}\")#[-2]['rewrite_prompt'][0]"
   ]
  },
  {
   "cell_type": "code",
   "execution_count": 118,
   "metadata": {},
   "outputs": [
    {
     "data": {
      "text/html": [
       "<div><style>\n",
       ".dataframe > thead > tr,\n",
       ".dataframe > tbody > tr {\n",
       "  text-align: right;\n",
       "  white-space: pre-wrap;\n",
       "}\n",
       "</style>\n",
       "<small>shape: (282, 5)</small><table border=\"1\" class=\"dataframe\"><thead><tr><th>original_text</th><th>gt_rewrite_prompt</th><th>rewritten_text</th><th>rewrite_prompt</th><th>score</th></tr><tr><td>str</td><td>str</td><td>str</td><td>str</td><td>f64</td></tr></thead><tbody><tr><td>&quot;(Washington, D…</td><td>&quot;Turn the conte…</td><td>&quot;\n",
       "\n",
       "**Bridal Sho…</td><td>&quot; Transform thi…</td><td>0.650812</td></tr><tr><td>&quot;Dear Boards, M…</td><td>&quot;Convert the te…</td><td>&quot;(Soap Opera Di…</td><td>&quot; Write a mock …</td><td>0.6537199</td></tr><tr><td>&quot;German Defense…</td><td>&quot;Rewrite this a…</td><td>&quot; (Country song…</td><td>&quot; I&#x27;d like you …</td><td>0.6551384</td></tr><tr><td>&quot;BERNARDS — The…</td><td>&quot;Turn this into…</td><td>&quot;\n",
       "\n",
       "In the realm…</td><td>&quot; I&#x27;d like you …</td><td>0.655897</td></tr><tr><td>&quot;SANTA CLARA, C…</td><td>&quot;Change the tex…</td><td>&quot;\n",
       "\n",
       "**Santa Clar…</td><td>&quot; _Rewrite the …</td><td>0.6563384</td></tr><tr><td>&hellip;</td><td>&hellip;</td><td>&hellip;</td><td>&hellip;</td><td>&hellip;</td></tr><tr><td>&quot;Rep. Keith Ell…</td><td>&quot;Imagine this t…</td><td>&quot;Verse 1)\n",
       "Small…</td><td>&quot;Id be happy to…</td><td>0.7073448</td></tr><tr><td>&quot;Last night, pu…</td><td>&quot;Imagine this t…</td><td>&quot;Verse 1)\n",
       "Zucke…</td><td>&quot;Id be happy to…</td><td>0.722285</td></tr><tr><td>&quot;Pixies, whose …</td><td>&quot;Imagine this t…</td><td>&quot;Pixies&#x27; Joey S…</td><td>&quot;Rewrite the fo…</td><td>0.6927343</td></tr><tr><td>&quot;Coming Soon\n",
       "\n",
       "T…</td><td>&quot;Imagine this t…</td><td>&quot;Verse 1)\n",
       "In th…</td><td>&quot;Id be happy to…</td><td>0.654224</td></tr><tr><td>&quot;She also portr…</td><td>&quot;Alter this tex…</td><td>&quot;My dear reader…</td><td>&quot;I. Imaginary s…</td><td>0.661669</td></tr></tbody></table></div>"
      ],
      "text/plain": [
       "shape: (282, 5)\n",
       "┌─────────────────────┬─────────────────────┬─────────────────────┬────────────────────┬───────────┐\n",
       "│ original_text       ┆ gt_rewrite_prompt   ┆ rewritten_text      ┆ rewrite_prompt     ┆ score     │\n",
       "│ ---                 ┆ ---                 ┆ ---                 ┆ ---                ┆ ---       │\n",
       "│ str                 ┆ str                 ┆ str                 ┆ str                ┆ f64       │\n",
       "╞═════════════════════╪═════════════════════╪═════════════════════╪════════════════════╪═══════════╡\n",
       "│ (Washington, D.C.)  ┆ Turn the content    ┆                     ┆ Transform this     ┆ 0.650812  │\n",
       "│ – President D…      ┆ into a bridal s…    ┆                     ┆ announcement int…  ┆           │\n",
       "│                     ┆                     ┆ **Bridal Shower     ┆                    ┆           │\n",
       "│                     ┆                     ┆ Game Instructi…     ┆                    ┆           │\n",
       "│ Dear Boards, My     ┆ Convert the text    ┆ (Soap Opera         ┆ Write a mock soap  ┆ 0.6537199 │\n",
       "│ apologies if you…   ┆ into a soap ope…    ┆ Dialogue)           ┆ opera episode…     ┆           │\n",
       "│                     ┆                     ┆                     ┆                    ┆           │\n",
       "│                     ┆                     ┆ **INT. BO…          ┆                    ┆           │\n",
       "│ German Defense      ┆ Rewrite this as a   ┆  (Country song)     ┆ I'd like you to    ┆ 0.6551384 │\n",
       "│ minister Ursula v…  ┆ country song.       ┆                     ┆ write a short c…   ┆           │\n",
       "│                     ┆                     ┆ (Verse 1)           ┆                    ┆           │\n",
       "│                     ┆                     ┆ Up in…              ┆                    ┆           │\n",
       "│ BERNARDS — The      ┆ Turn this into an   ┆                     ┆ I'd like you to    ┆ 0.655897  │\n",
       "│ 17-year-old boy w…  ┆ epic poem.          ┆                     ┆ write a poetic,…   ┆           │\n",
       "│                     ┆                     ┆ In the realm of     ┆                    ┆           │\n",
       "│                     ┆                     ┆ healing, where…     ┆                    ┆           │\n",
       "│ SANTA CLARA, Calif. ┆ Change the text     ┆                     ┆ _Rewrite the text  ┆ 0.6563384 │\n",
       "│ – WrestleMan…       ┆ into a superhero…   ┆                     ┆ using a collo…     ┆           │\n",
       "│                     ┆                     ┆ **Santa Clara       ┆                    ┆           │\n",
       "│                     ┆                     ┆ Supergirl:** Yo,…   ┆                    ┆           │\n",
       "│ …                   ┆ …                   ┆ …                   ┆ …                  ┆ …         │\n",
       "│ Rep. Keith Ellison  ┆ Imagine this text   ┆ Verse 1)            ┆ Id be happy to     ┆ 0.7073448 │\n",
       "│ called on the…      ┆ was a rock son…     ┆ Small town blues,   ┆ help you create a… ┆           │\n",
       "│                     ┆                     ┆ ain't…              ┆                    ┆           │\n",
       "│ Last night,         ┆ Imagine this text   ┆ Verse 1)            ┆ Id be happy to     ┆ 0.722285  │\n",
       "│ publisher and       ┆ was a punk roc…     ┆ Zuckerman's         ┆ help you transfor… ┆           │\n",
       "│ real-e…             ┆                     ┆ throwing a …        ┆                    ┆           │\n",
       "│ Pixies, whose new   ┆ Imagine this text   ┆ Pixies' Joey        ┆ Rewrite the        ┆ 0.6927343 │\n",
       "│ LP Head Carrie…     ┆ was a press re…     ┆ Santiago Checks     ┆ following text as  ┆           │\n",
       "│                     ┆                     ┆ Int…                ┆ a …                ┆           │\n",
       "│ Coming Soon         ┆ Imagine this text   ┆ Verse 1)            ┆ Id be happy to     ┆ 0.654224  │\n",
       "│                     ┆ was a k-pop so…     ┆ In this haunted     ┆ help you create a… ┆           │\n",
       "│ The Boy Who         ┆                     ┆ house, …            ┆                    ┆           │\n",
       "│ Harness…            ┆                     ┆                     ┆                    ┆           │\n",
       "│ She also portrayed  ┆ Alter this text as  ┆ My dear readers, I  ┆ I. Imaginary       ┆ 0.661669  │\n",
       "│ herself as a …      ┆ if it were wr…      ┆ know things a…      ┆ scenario: J.K.     ┆           │\n",
       "│                     ┆                     ┆                     ┆ Rowl…              ┆           │\n",
       "└─────────────────────┴─────────────────────┴─────────────────────┴────────────────────┴───────────┘"
      ]
     },
     "execution_count": 118,
     "metadata": {},
     "output_type": "execute_result"
    }
   ],
   "source": [
    "df.filter(pl.col(\"rewrite_prompt\").str.contains(\"[!@#$%^&*_+\\=\\[\\]{};:\\\"\\\\|<>\\/?]\"))#.write_csv('./data/predictions/out_garbage.csv')"
   ]
  },
  {
   "cell_type": "code",
   "execution_count": 50,
   "metadata": {},
   "outputs": [
    {
     "ename": "ColumnNotFoundError",
     "evalue": "unable to find column \"rewrite_text\"; valid columns: [\"original_text\", \"gt_rewrite_prompt\", \"rewritten_text\", \"rewrite_prompt\", \"score\"]\n\nError originated just after this operation:\nDF [\"original_text\", \"gt_rewrite_prompt\", \"rewritten_text\", \"rewrite_prompt\"]; PROJECT */5 COLUMNS; SELECTION: \"None\"",
     "output_type": "error",
     "traceback": [
      "\u001b[0;31m---------------------------------------------------------------------------\u001b[0m",
      "\u001b[0;31mColumnNotFoundError\u001b[0m                       Traceback (most recent call last)",
      "Cell \u001b[0;32mIn[50], line 1\u001b[0m\n\u001b[0;32m----> 1\u001b[0m df \u001b[38;5;241m=\u001b[39m \u001b[43mdf\u001b[49m\u001b[38;5;241;43m.\u001b[39;49m\u001b[43mfilter\u001b[49m\u001b[43m(\u001b[49m\n\u001b[1;32m      2\u001b[0m \u001b[43m    \u001b[49m\u001b[43mpl\u001b[49m\u001b[38;5;241;43m.\u001b[39;49m\u001b[43mcol\u001b[49m\u001b[43m(\u001b[49m\u001b[38;5;124;43m\"\u001b[39;49m\u001b[38;5;124;43mrewrite_prompt\u001b[39;49m\u001b[38;5;124;43m\"\u001b[39;49m\u001b[43m)\u001b[49m\u001b[38;5;241;43m.\u001b[39;49m\u001b[43mstr\u001b[49m\u001b[38;5;241;43m.\u001b[39;49m\u001b[43mlen_chars\u001b[49m\u001b[43m(\u001b[49m\u001b[43m)\u001b[49m\u001b[43m \u001b[49m\u001b[38;5;241;43m>\u001b[39;49m\u001b[43m \u001b[49m\u001b[38;5;241;43m5\u001b[39;49m\u001b[43m,\u001b[49m\n\u001b[1;32m      3\u001b[0m \u001b[43m    \u001b[49m\u001b[38;5;241;43m~\u001b[39;49m\u001b[43mpl\u001b[49m\u001b[38;5;241;43m.\u001b[39;49m\u001b[43mcol\u001b[49m\u001b[43m(\u001b[49m\u001b[38;5;124;43m\"\u001b[39;49m\u001b[38;5;124;43mrewrite_text\u001b[39;49m\u001b[38;5;124;43m\"\u001b[39;49m\u001b[43m)\u001b[49m\u001b[38;5;241;43m.\u001b[39;49m\u001b[43mstr\u001b[49m\u001b[38;5;241;43m.\u001b[39;49m\u001b[43mcontains\u001b[49m\u001b[43m(\u001b[49m\u001b[38;5;124;43m\"\u001b[39;49m\u001b[38;5;124;43mI\u001b[39;49m\u001b[38;5;124;43m\\\u001b[39;49m\u001b[38;5;124;43m. \u001b[39;49m\u001b[38;5;124;43m\"\u001b[39;49m\u001b[43m)\u001b[49m\u001b[43m,\u001b[49m\n\u001b[1;32m      4\u001b[0m \u001b[43m    \u001b[49m\u001b[38;5;241;43m~\u001b[39;49m\u001b[43mpl\u001b[49m\u001b[38;5;241;43m.\u001b[39;49m\u001b[43mcol\u001b[49m\u001b[43m(\u001b[49m\u001b[38;5;124;43m\"\u001b[39;49m\u001b[38;5;124;43mrewrite_text\u001b[39;49m\u001b[38;5;124;43m\"\u001b[39;49m\u001b[43m)\u001b[49m\u001b[38;5;241;43m.\u001b[39;49m\u001b[43mstr\u001b[49m\u001b[38;5;241;43m.\u001b[39;49m\u001b[43mcontains\u001b[49m\u001b[43m(\u001b[49m\u001b[38;5;124;43m\"\u001b[39;49m\u001b[38;5;124;43mI\u001b[39;49m\u001b[38;5;124;43m'\u001b[39;49m\u001b[38;5;124;43mm sorry, \u001b[39;49m\u001b[38;5;124;43m\"\u001b[39;49m\u001b[43m,\u001b[49m\u001b[43m \u001b[49m\u001b[43mliteral\u001b[49m\u001b[38;5;241;43m=\u001b[39;49m\u001b[38;5;28;43;01mTrue\u001b[39;49;00m\u001b[43m)\u001b[49m\n\u001b[1;32m      5\u001b[0m \u001b[43m)\u001b[49m\u001b[38;5;241m.\u001b[39mwith_columns(\n\u001b[1;32m      6\u001b[0m     pl\u001b[38;5;241m.\u001b[39mcol(\u001b[38;5;124m\"\u001b[39m\u001b[38;5;124mrewrite_prompt\u001b[39m\u001b[38;5;124m\"\u001b[39m)\u001b[38;5;241m.\u001b[39mmap_elements(\u001b[38;5;28;01mlambda\u001b[39;00m s: s\u001b[38;5;241m.\u001b[39msplitlines()[\u001b[38;5;241m0\u001b[39m]\u001b[38;5;241m.\u001b[39mstrip(), return_dtype\u001b[38;5;241m=\u001b[39mString),\n\u001b[1;32m      7\u001b[0m ) \u001b[38;5;66;03m#.write_csv(f\"./data/predictions/2_{out_file}\")#[-2]['rewrite_prompt'][0]\u001b[39;00m\n",
      "File \u001b[0;32m~/anaconda3/envs/llm_promt_reversal/lib/python3.11/site-packages/polars/dataframe/frame.py:4263\u001b[0m, in \u001b[0;36mDataFrame.filter\u001b[0;34m(self, *predicates, **constraints)\u001b[0m\n\u001b[1;32m   4165\u001b[0m \u001b[38;5;28;01mdef\u001b[39;00m \u001b[38;5;21mfilter\u001b[39m(\n\u001b[1;32m   4166\u001b[0m     \u001b[38;5;28mself\u001b[39m,\n\u001b[1;32m   4167\u001b[0m     \u001b[38;5;241m*\u001b[39mpredicates: (\n\u001b[0;32m   (...)\u001b[0m\n\u001b[1;32m   4174\u001b[0m     \u001b[38;5;241m*\u001b[39m\u001b[38;5;241m*\u001b[39mconstraints: Any,\n\u001b[1;32m   4175\u001b[0m ) \u001b[38;5;241m-\u001b[39m\u001b[38;5;241m>\u001b[39m DataFrame:\n\u001b[1;32m   4176\u001b[0m \u001b[38;5;250m    \u001b[39m\u001b[38;5;124;03m\"\"\"\u001b[39;00m\n\u001b[1;32m   4177\u001b[0m \u001b[38;5;124;03m    Filter the rows in the DataFrame based on one or more predicate expressions.\u001b[39;00m\n\u001b[1;32m   4178\u001b[0m \n\u001b[0;32m   (...)\u001b[0m\n\u001b[1;32m   4261\u001b[0m \u001b[38;5;124;03m    └─────┴─────┴─────┘\u001b[39;00m\n\u001b[1;32m   4262\u001b[0m \u001b[38;5;124;03m    \"\"\"\u001b[39;00m\n\u001b[0;32m-> 4263\u001b[0m     \u001b[38;5;28;01mreturn\u001b[39;00m \u001b[38;5;28;43mself\u001b[39;49m\u001b[38;5;241;43m.\u001b[39;49m\u001b[43mlazy\u001b[49m\u001b[43m(\u001b[49m\u001b[43m)\u001b[49m\u001b[38;5;241;43m.\u001b[39;49m\u001b[43mfilter\u001b[49m\u001b[43m(\u001b[49m\u001b[38;5;241;43m*\u001b[39;49m\u001b[43mpredicates\u001b[49m\u001b[43m,\u001b[49m\u001b[43m \u001b[49m\u001b[38;5;241;43m*\u001b[39;49m\u001b[38;5;241;43m*\u001b[39;49m\u001b[43mconstraints\u001b[49m\u001b[43m)\u001b[49m\u001b[38;5;241;43m.\u001b[39;49m\u001b[43mcollect\u001b[49m\u001b[43m(\u001b[49m\u001b[43m_eager\u001b[49m\u001b[38;5;241;43m=\u001b[39;49m\u001b[38;5;28;43;01mTrue\u001b[39;49;00m\u001b[43m)\u001b[49m\n",
      "File \u001b[0;32m~/anaconda3/envs/llm_promt_reversal/lib/python3.11/site-packages/polars/lazyframe/frame.py:1934\u001b[0m, in \u001b[0;36mLazyFrame.collect\u001b[0;34m(self, type_coercion, predicate_pushdown, projection_pushdown, simplify_expression, slice_pushdown, comm_subplan_elim, comm_subexpr_elim, no_optimization, streaming, background, _eager)\u001b[0m\n\u001b[1;32m   1931\u001b[0m \u001b[38;5;28;01mif\u001b[39;00m background:\n\u001b[1;32m   1932\u001b[0m     \u001b[38;5;28;01mreturn\u001b[39;00m InProcessQuery(ldf\u001b[38;5;241m.\u001b[39mcollect_concurrently())\n\u001b[0;32m-> 1934\u001b[0m \u001b[38;5;28;01mreturn\u001b[39;00m wrap_df(ldf\u001b[38;5;241m.\u001b[39mcollect())\n",
      "\u001b[0;31mColumnNotFoundError\u001b[0m: unable to find column \"rewrite_text\"; valid columns: [\"original_text\", \"gt_rewrite_prompt\", \"rewritten_text\", \"rewrite_prompt\", \"score\"]\n\nError originated just after this operation:\nDF [\"original_text\", \"gt_rewrite_prompt\", \"rewritten_text\", \"rewrite_prompt\"]; PROJECT */5 COLUMNS; SELECTION: \"None\""
     ]
    }
   ],
   "source": [
    "df = df.filter(\n",
    "    pl.col(\"rewrite_prompt\").str.len_chars() > 5,\n",
    "    ~pl.col(\"rewrite_prompt\").str.contains(\"I\\. \"),\n",
    "    ~pl.col(\"rewrite_prompt\").str.contains(\"I'm sorry, \", literal=True)\n",
    ").with_columns(\n",
    "    pl.col(\"rewrite_prompt\").map_elements(lambda s: s.splitlines()[0].strip(), return_dtype=String),\n",
    ") #.write_csv(f\"./data/predictions/2_{out_file}\")#[-2]['rewrite_prompt'][0]"
   ]
  },
  {
   "cell_type": "code",
   "execution_count": 48,
   "metadata": {},
   "outputs": [
    {
     "data": {
      "text/html": [
       "<div><style>\n",
       ".dataframe > thead > tr,\n",
       ".dataframe > tbody > tr {\n",
       "  text-align: right;\n",
       "  white-space: pre-wrap;\n",
       "}\n",
       "</style>\n",
       "<small>shape: (575, 5)</small><table border=\"1\" class=\"dataframe\"><thead><tr><th>original_text</th><th>gt_rewrite_prompt</th><th>rewritten_text</th><th>rewrite_prompt</th><th>score</th></tr><tr><td>str</td><td>str</td><td>str</td><td>str</td><td>f64</td></tr></thead><tbody><tr><td>&quot;Senate Minorit…</td><td>&quot;Describe this …</td><td>&quot;**Introducing …</td><td>&quot;I. Transform t…</td><td>0.661499</td></tr><tr><td>&quot;No nation is m…</td><td>&quot;Change the tex…</td><td>&quot;\n",
       "\n",
       "Once upon a …</td><td>&quot;I. Transform t…</td><td>0.665937</td></tr><tr><td>&quot;Orchard Park, …</td><td>&quot;Turn the text …</td><td>&quot;\n",
       "\n",
       "Tweet 1: #Bi…</td><td>&quot;I. Reimagine t…</td><td>0.680552</td></tr><tr><td>&quot;“Are my childr…</td><td>&quot;Make the text …</td><td>&quot;# **Meditation…</td><td>&quot;I. Transform t…</td><td>0.6806999</td></tr><tr><td>&quot;Pep Guardiola …</td><td>&quot;Convert the te…</td><td>&quot;**Exotic Pet C…</td><td>&quot;I. Transform t…</td><td>0.6890792</td></tr><tr><td>&hellip;</td><td>&hellip;</td><td>&hellip;</td><td>&hellip;</td><td>&hellip;</td></tr><tr><td>&quot;The Taoiseach …</td><td>&quot;Imagine this t…</td><td>&quot;In the Age of …</td><td>&quot;I. Transform t…</td><td>0.8216679</td></tr><tr><td>&quot;Home Daily New…</td><td>&quot;Imagine this t…</td><td>&quot;Home Daily New…</td><td>&quot;I. Rewrite the…</td><td>0.7366013</td></tr><tr><td>&quot;President Dona…</td><td>&quot;Imagine this t…</td><td>&quot;In the neon-li…</td><td>&quot;I. Transform t…</td><td>0.652531</td></tr><tr><td>&quot;Online Perry E…</td><td>&quot;Imagine this t…</td><td>&quot;Online Perry E…</td><td>&quot;I. Transform t…</td><td>0.7515506</td></tr><tr><td>&quot;We are happy t…</td><td>&quot;Imagine this t…</td><td>&quot;We are happy t…</td><td>&quot;I. Transform t…</td><td>0.6970332</td></tr></tbody></table></div>"
      ],
      "text/plain": [
       "shape: (575, 5)\n",
       "┌─────────────────────┬─────────────────────┬─────────────────────┬────────────────────┬───────────┐\n",
       "│ original_text       ┆ gt_rewrite_prompt   ┆ rewritten_text      ┆ rewrite_prompt     ┆ score     │\n",
       "│ ---                 ┆ ---                 ┆ ---                 ┆ ---                ┆ ---       │\n",
       "│ str                 ┆ str                 ┆ str                 ┆ str                ┆ f64       │\n",
       "╞═════════════════════╪═════════════════════╪═════════════════════╪════════════════════╪═══════════╡\n",
       "│ Senate Minority     ┆ Describe this as a  ┆ **Introducing the   ┆ I. Transform the   ┆ 0.661499  │\n",
       "│ Leader Harry Rei…   ┆ perfume adver…      ┆ captivating sc…     ┆ text into a pro…   ┆           │\n",
       "│ No nation is more   ┆ Change the text     ┆                     ┆ I. Transform the   ┆ 0.665937  │\n",
       "│ keen to have t…     ┆ into a fairy tal…   ┆                     ┆ text into a sto…   ┆           │\n",
       "│                     ┆                     ┆ Once upon a time,   ┆                    ┆           │\n",
       "│                     ┆                     ┆ in a land wh…       ┆                    ┆           │\n",
       "│ Orchard Park, N.Y.  ┆ Turn the text into  ┆                     ┆ I. Reimagine the   ┆ 0.680552  │\n",
       "│ — The script …      ┆ a series of t…      ┆                     ┆ given text into…   ┆           │\n",
       "│                     ┆                     ┆ Tweet 1:            ┆                    ┆           │\n",
       "│                     ┆                     ┆ #BillsNation,       ┆                    ┆           │\n",
       "│                     ┆                     ┆ prepare…            ┆                    ┆           │\n",
       "│ “Are my children    ┆ Make the text into  ┆ # **Meditation App  ┆ I. Transform the   ┆ 0.6806999 │\n",
       "│ safe?” It’s a t…    ┆ a meditation …      ┆ Session Scrip…      ┆ original text i…   ┆           │\n",
       "│ Pep Guardiola has   ┆ Convert the text    ┆ **Exotic Pet Care   ┆ I. Transform the   ┆ 0.6890792 │\n",
       "│ underlined Man…     ┆ into an exotic …    ┆ Guide: Manches…     ┆ original text i…   ┆           │\n",
       "│ …                   ┆ …                   ┆ …                   ┆ …                  ┆ …         │\n",
       "│ The Taoiseach has   ┆ Imagine this text   ┆ In the Age of Old   ┆ I. Transform the   ┆ 0.8216679 │\n",
       "│ called for for…     ┆ was a fairy ta…     ┆ Rome, when the…     ┆ text into an an…   ┆           │\n",
       "│ Home Daily News     ┆ Imagine this text   ┆ Home Daily News     ┆ I. Rewrite the     ┆ 0.7366013 │\n",
       "│ Does Second Amen…   ┆ was a recipe i…     ┆ Does Second Amen…   ┆ following text as… ┆           │\n",
       "│ President Donald    ┆ Imagine this text   ┆ In the neon-lit,    ┆ I. Transform the   ┆ 0.652531  │\n",
       "│ Trump on Saturd…    ┆ was a parody i…     ┆ grimy streets o…    ┆ given text into…   ┆           │\n",
       "│ Online Perry Ellis  ┆ Imagine this text   ┆ Online Perry Ellis  ┆ I. Transform the   ┆ 0.7515506 │\n",
       "│ Outlet              ┆ was a marketin…     ┆ Outlet              ┆ given text into…   ┆           │\n",
       "│                     ┆                     ┆                     ┆                    ┆           │\n",
       "│ Shop …              ┆                     ┆ Shop …              ┆                    ┆           │\n",
       "│ We are happy to     ┆ Imagine this text   ┆ We are happy to     ┆ I. Transform the   ┆ 0.6970332 │\n",
       "│ announce that UK…   ┆ was a tale in …     ┆ announce that UK…   ┆ text into a fai…   ┆           │\n",
       "└─────────────────────┴─────────────────────┴─────────────────────┴────────────────────┴───────────┘"
      ]
     },
     "execution_count": 48,
     "metadata": {},
     "output_type": "execute_result"
    }
   ],
   "source": [
    "df.filter(\n",
    "    pl.col(\"rewrite_prompt\").str.contains(\"I\\. \"),\n",
    ")"
   ]
  }
 ],
 "metadata": {
  "kernelspec": {
   "display_name": "llm_promt_reversal",
   "language": "python",
   "name": "python3"
  },
  "language_info": {
   "codemirror_mode": {
    "name": "ipython",
    "version": 3
   },
   "file_extension": ".py",
   "mimetype": "text/x-python",
   "name": "python",
   "nbconvert_exporter": "python",
   "pygments_lexer": "ipython3",
   "version": "3.11.8"
  }
 },
 "nbformat": 4,
 "nbformat_minor": 2
}
