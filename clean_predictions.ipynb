{
 "cells": [
  {
   "cell_type": "code",
   "execution_count": 77,
   "metadata": {},
   "outputs": [
    {
     "name": "stderr",
     "output_type": "stream",
     "text": [
      "[nltk_data] Downloading package punkt to /home/lawrence/nltk_data...\n",
      "[nltk_data]   Package punkt is already up-to-date!\n"
     ]
    },
    {
     "data": {
      "text/plain": [
       "True"
      ]
     },
     "execution_count": 77,
     "metadata": {},
     "output_type": "execute_result"
    }
   ],
   "source": [
    "import polars as pl\n",
    "\n",
    "\n",
    "import nltk\n",
    "from nltk.tokenize import sent_tokenize\n",
    "from polars.datatypes import String\n",
    "\n",
    "nltk.download('punkt')"
   ]
  },
  {
   "cell_type": "code",
   "execution_count": 78,
   "metadata": {},
   "outputs": [],
   "source": [
    "df = pl.read_csv(\"./data/predictions/gemma10000.csv\").filter(\n",
    "    pl.col(\"score\") > 0.70\n",
    ").sort(\"score\").with_columns(\n",
    "    pl.col(\"rewrite_prompt\").map_elements(lambda s: sent_tokenize(s)[0], return_dtype=String)\n",
    ").select('original_text', 'gt_rewrite_prompt', 'rewritten_text', 'rewrite_prompt', 'score')"
   ]
  },
  {
   "cell_type": "code",
   "execution_count": 79,
   "metadata": {},
   "outputs": [
    {
     "data": {
      "text/html": [
       "<div><style>\n",
       ".dataframe > thead > tr,\n",
       ".dataframe > tbody > tr {\n",
       "  text-align: right;\n",
       "  white-space: pre-wrap;\n",
       "}\n",
       "</style>\n",
       "<small>shape: (515, 5)</small><table border=\"1\" class=\"dataframe\"><thead><tr><th>original_text</th><th>gt_rewrite_prompt</th><th>rewritten_text</th><th>rewrite_prompt</th><th>score</th></tr><tr><td>str</td><td>str</td><td>str</td><td>str</td><td>f64</td></tr></thead><tbody><tr><td>&quot;Juan Pablo Mon…</td><td>&quot;Turn the conte…</td><td>&quot;**Welcome to t…</td><td>&quot;Creatively rew…</td><td>0.7001195</td></tr><tr><td>&quot;Mid-4, #Philli…</td><td>&quot;Turn this into…</td><td>&quot;\n",
       "Sure, here&#x27;s …</td><td>&quot; Create a sitc…</td><td>0.700227</td></tr><tr><td>&quot;Akula (Shark) …</td><td>&quot;Write the text…</td><td>&quot;Sure, here is …</td><td>&quot; Rewrite the t…</td><td>0.70023</td></tr><tr><td>&quot;The owner of a…</td><td>&quot;Turn the conte…</td><td>&quot;## From Threat…</td><td>&quot; Systematicall…</td><td>0.7004925</td></tr><tr><td>&quot;India Mulling …</td><td>&quot;Turn the conte…</td><td>&quot;My dearest [Na…</td><td>&quot; Rewrite the t…</td><td>0.7004958</td></tr><tr><td>&hellip;</td><td>&hellip;</td><td>&hellip;</td><td>&hellip;</td><td>&hellip;</td></tr><tr><td>&quot;A developer pl…</td><td>&quot;Rewrite the me…</td><td>&quot; (D dystopian …</td><td>&quot; Rewrite the t…</td><td>0.8962796</td></tr><tr><td>&quot;WASHINGTON — S…</td><td>&quot;Turn the conte…</td><td>&quot; (Country Song…</td><td>&quot; Creatively tr…</td><td>0.8969294</td></tr><tr><td>&quot;SAN CARLOS, TX…</td><td>&quot;Convert the te…</td><td>&quot; (Soap Opera D…</td><td>&quot;Imagine the or…</td><td>0.8997115</td></tr><tr><td>&quot;Official openi…</td><td>&quot;Translate this…</td><td>&quot; (Announcer vo…</td><td>&quot; Rewrite the t…</td><td>0.9000504</td></tr><tr><td>&quot;A Big Tip of t…</td><td>&quot;Change the tex…</td><td>&quot;\n",
       "\n",
       "The relentle…</td><td>&quot; Transform thi…</td><td>0.919003</td></tr></tbody></table></div>"
      ],
      "text/plain": [
       "shape: (515, 5)\n",
       "┌─────────────────────┬─────────────────────┬─────────────────────┬────────────────────┬───────────┐\n",
       "│ original_text       ┆ gt_rewrite_prompt   ┆ rewritten_text      ┆ rewrite_prompt     ┆ score     │\n",
       "│ ---                 ┆ ---                 ┆ ---                 ┆ ---                ┆ ---       │\n",
       "│ str                 ┆ str                 ┆ str                 ┆ str                ┆ f64       │\n",
       "╞═════════════════════╪═════════════════════╪═════════════════════╪════════════════════╪═══════════╡\n",
       "│ Juan Pablo Montoya  ┆ Turn the content    ┆ **Welcome to the    ┆ Creatively rewrite ┆ 0.7001195 │\n",
       "│ rolls down pi…      ┆ into a retro ar…    ┆ Barber Motorspo…    ┆ the text to t…     ┆           │\n",
       "│ Mid-4, #Phillies    ┆ Turn this into a    ┆                     ┆ Create a sitcom    ┆ 0.700227  │\n",
       "│ trail Toronto 8…    ┆ sitcom catchphr…    ┆ Sure, here's a      ┆ catchphrase ins…   ┆           │\n",
       "│                     ┆                     ┆ sitcom catchphra…   ┆                    ┆           │\n",
       "│ Akula (Shark) is a  ┆ Write the text as   ┆ Sure, here is the   ┆ Rewrite the text   ┆ 0.70023   │\n",
       "│ serious hunti…      ┆ if it were a f…     ┆ text rewritten…     ┆ as an informat…    ┆           │\n",
       "│ The owner of a      ┆ Turn the content    ┆ ## From Threat to   ┆ Systematically     ┆ 0.7004925 │\n",
       "│ Texas constructio…  ┆ into a startup …    ┆ Transformation…     ┆ transform the te…  ┆           │\n",
       "│ India Mulling       ┆ Turn the content    ┆ My dearest [Name],  ┆ Rewrite the text   ┆ 0.7004958 │\n",
       "│ Introduction Of Ta… ┆ into a romantic…    ┆                     ┆ into a passion…    ┆           │\n",
       "│                     ┆                     ┆ With the win…       ┆                    ┆           │\n",
       "│ …                   ┆ …                   ┆ …                   ┆ …                  ┆ …         │\n",
       "│ A developer         ┆ Rewrite the message ┆ (D dystopian future ┆ Rewrite the text   ┆ 0.8962796 │\n",
       "│ planning a          ┆ as a dystopi…       ┆ news report…        ┆ in a dystopian…    ┆           │\n",
       "│ mixed-use…          ┆                     ┆                     ┆                    ┆           │\n",
       "│ WASHINGTON — Sen.   ┆ Turn the content    ┆ (Country Song       ┆ Creatively         ┆ 0.8969294 │\n",
       "│ Mark Udall on …     ┆ into a country …    ┆ Chorus)             ┆ transform the      ┆           │\n",
       "│                     ┆                     ┆ Reputatio…          ┆ given …            ┆           │\n",
       "│ SAN CARLOS, TX—A    ┆ Convert the text    ┆ (Soap Opera         ┆ Imagine the        ┆ 0.8997115 │\n",
       "│ family of Mexic…    ┆ into a soap ope…    ┆ Dialogue)           ┆ original text as a ┆           │\n",
       "│                     ┆                     ┆                     ┆ s…                 ┆           │\n",
       "│                     ┆                     ┆ **Sonia:…           ┆                    ┆           │\n",
       "│ Official opening of ┆ Translate this into ┆  (Announcer voice)  ┆ Rewrite the text   ┆ 0.9000504 │\n",
       "│ Bisdee Tier …       ┆ a vintage ra…       ┆ Attention all…      ┆ as a vintage r…    ┆           │\n",
       "│ A Big Tip of the    ┆ Change the text     ┆                     ┆ Transform this     ┆ 0.919003  │\n",
       "│ Tuque to the Cr…    ┆ into a conspirac…   ┆                     ┆ text into a piec…  ┆           │\n",
       "│                     ┆                     ┆ The relentless      ┆                    ┆           │\n",
       "│                     ┆                     ┆ barrage of scre…    ┆                    ┆           │\n",
       "└─────────────────────┴─────────────────────┴─────────────────────┴────────────────────┴───────────┘"
      ]
     },
     "execution_count": 79,
     "metadata": {},
     "output_type": "execute_result"
    }
   ],
   "source": [
    "df"
   ]
  },
  {
   "cell_type": "code",
   "execution_count": 80,
   "metadata": {},
   "outputs": [],
   "source": [
    "df = df.vstack(\n",
    "    pl.read_csv('/home/lawrence/Projects/contests/llm_prompt_recovery/data/predictions/llm_dataset_1.csv').filter(\n",
    "        pl.col(\"score\") > 0.70\n",
    "    ).sort(\"score\").with_columns(\n",
    "        pl.col(\"rewrite_prompt\").map_elements(lambda s: sent_tokenize(s)[0], return_dtype=String)\n",
    "    ).select('original_text', 'gt_rewrite_prompt', 'rewritten_text', 'rewrite_prompt', 'score')\n",
    ")"
   ]
  },
  {
   "cell_type": "code",
   "execution_count": 81,
   "metadata": {},
   "outputs": [
    {
     "data": {
      "text/html": [
       "<div><style>\n",
       ".dataframe > thead > tr,\n",
       ".dataframe > tbody > tr {\n",
       "  text-align: right;\n",
       "  white-space: pre-wrap;\n",
       "}\n",
       "</style>\n",
       "<small>shape: (895, 5)</small><table border=\"1\" class=\"dataframe\"><thead><tr><th>original_text</th><th>gt_rewrite_prompt</th><th>rewritten_text</th><th>rewrite_prompt</th><th>score</th></tr><tr><td>str</td><td>str</td><td>str</td><td>str</td><td>f64</td></tr></thead><tbody><tr><td>&quot;Juan Pablo Mon…</td><td>&quot;Turn the conte…</td><td>&quot;**Welcome to t…</td><td>&quot;Creatively rew…</td><td>0.7001195</td></tr><tr><td>&quot;Mid-4, #Philli…</td><td>&quot;Turn this into…</td><td>&quot;\n",
       "Sure, here&#x27;s …</td><td>&quot; Create a sitc…</td><td>0.700227</td></tr><tr><td>&quot;Akula (Shark) …</td><td>&quot;Write the text…</td><td>&quot;Sure, here is …</td><td>&quot; Rewrite the t…</td><td>0.70023</td></tr><tr><td>&quot;The owner of a…</td><td>&quot;Turn the conte…</td><td>&quot;## From Threat…</td><td>&quot; Systematicall…</td><td>0.7004925</td></tr><tr><td>&quot;India Mulling …</td><td>&quot;Turn the conte…</td><td>&quot;My dearest [Na…</td><td>&quot; Rewrite the t…</td><td>0.7004958</td></tr><tr><td>&hellip;</td><td>&hellip;</td><td>&hellip;</td><td>&hellip;</td><td>&hellip;</td></tr><tr><td>&quot;Cellulose is a…</td><td>&quot;Rewrite my tex…</td><td>&quot;Sure, here&#x27;s t…</td><td>&quot; Rewrite the o…</td><td>0.851789</td></tr><tr><td>&quot;No doubt you’v…</td><td>&quot;Rewrite my tex…</td><td>&quot;Sure, here&#x27;s t…</td><td>&quot; Rewrite the o…</td><td>0.8542147</td></tr><tr><td>&quot;The average pa…</td><td>&quot;Convert this i…</td><td>&quot;## Superhero F…</td><td>&quot; Convert the t…</td><td>0.8580646</td></tr><tr><td>&quot;The red liquid…</td><td>&quot;Rewrite the fo…</td><td>&quot;Sure, here&#x27;s t…</td><td>&quot; Rewrite this …</td><td>0.873845</td></tr><tr><td>&quot;Sexual reprodu…</td><td>&quot;Rewrite this t…</td><td>&quot;Sure, here&#x27;s t…</td><td>&quot; Provide a pro…</td><td>0.885809</td></tr></tbody></table></div>"
      ],
      "text/plain": [
       "shape: (895, 5)\n",
       "┌─────────────────────┬─────────────────────┬─────────────────────┬────────────────────┬───────────┐\n",
       "│ original_text       ┆ gt_rewrite_prompt   ┆ rewritten_text      ┆ rewrite_prompt     ┆ score     │\n",
       "│ ---                 ┆ ---                 ┆ ---                 ┆ ---                ┆ ---       │\n",
       "│ str                 ┆ str                 ┆ str                 ┆ str                ┆ f64       │\n",
       "╞═════════════════════╪═════════════════════╪═════════════════════╪════════════════════╪═══════════╡\n",
       "│ Juan Pablo Montoya  ┆ Turn the content    ┆ **Welcome to the    ┆ Creatively rewrite ┆ 0.7001195 │\n",
       "│ rolls down pi…      ┆ into a retro ar…    ┆ Barber Motorspo…    ┆ the text to t…     ┆           │\n",
       "│ Mid-4, #Phillies    ┆ Turn this into a    ┆                     ┆ Create a sitcom    ┆ 0.700227  │\n",
       "│ trail Toronto 8…    ┆ sitcom catchphr…    ┆ Sure, here's a      ┆ catchphrase ins…   ┆           │\n",
       "│                     ┆                     ┆ sitcom catchphra…   ┆                    ┆           │\n",
       "│ Akula (Shark) is a  ┆ Write the text as   ┆ Sure, here is the   ┆ Rewrite the text   ┆ 0.70023   │\n",
       "│ serious hunti…      ┆ if it were a f…     ┆ text rewritten…     ┆ as an informat…    ┆           │\n",
       "│ The owner of a      ┆ Turn the content    ┆ ## From Threat to   ┆ Systematically     ┆ 0.7004925 │\n",
       "│ Texas constructio…  ┆ into a startup …    ┆ Transformation…     ┆ transform the te…  ┆           │\n",
       "│ India Mulling       ┆ Turn the content    ┆ My dearest [Name],  ┆ Rewrite the text   ┆ 0.7004958 │\n",
       "│ Introduction Of Ta… ┆ into a romantic…    ┆                     ┆ into a passion…    ┆           │\n",
       "│                     ┆                     ┆ With the win…       ┆                    ┆           │\n",
       "│ …                   ┆ …                   ┆ …                   ┆ …                  ┆ …         │\n",
       "│ Cellulose is a      ┆ Rewrite my text     ┆ Sure, here's the    ┆ Rewrite the        ┆ 0.851789  │\n",
       "│ compound found in…  ┆ with urgent, act…   ┆ rewritten text …    ┆ original text      ┆           │\n",
       "│                     ┆                     ┆                     ┆ using…             ┆           │\n",
       "│ No doubt you’ve     ┆ Rewrite my text     ┆ Sure, here's the    ┆ Rewrite the        ┆ 0.8542147 │\n",
       "│ seen this happen…   ┆ with evocative, …   ┆ rewritten text …    ┆ original text      ┆           │\n",
       "│                     ┆                     ┆                     ┆ using…             ┆           │\n",
       "│ The average         ┆ Convert this        ┆ ## Superhero        ┆ Convert the text   ┆ 0.8580646 │\n",
       "│ particle energy     ┆ information into a  ┆ Fitness Routine:    ┆ into a fitness…    ┆           │\n",
       "│ need…               ┆ …                   ┆                     ┆                    ┆           │\n",
       "│                     ┆                     ┆ *…                  ┆                    ┆           │\n",
       "│ The red liquid in   ┆ Rewrite the         ┆ Sure, here's the    ┆ Rewrite this       ┆ 0.873845  │\n",
       "│ this thermomet…     ┆ following sentence  ┆ rewritten sente…    ┆ sentence in        ┆           │\n",
       "│                     ┆ i…                  ┆                     ┆ simple…            ┆           │\n",
       "│ Sexual reproduction ┆ Rewrite this text   ┆ Sure, here's the    ┆ Provide a prompt   ┆ 0.885809  │\n",
       "│ involves hap…       ┆ as if it were …     ┆ text rewritten …    ┆ for rewriting …    ┆           │\n",
       "└─────────────────────┴─────────────────────┴─────────────────────┴────────────────────┴───────────┘"
      ]
     },
     "execution_count": 81,
     "metadata": {},
     "output_type": "execute_result"
    }
   ],
   "source": [
    "df"
   ]
  },
  {
   "cell_type": "code",
   "execution_count": 82,
   "metadata": {},
   "outputs": [],
   "source": [
    "df = df.vstack(\n",
    "    pl.read_csv('/home/lawrence/Projects/contests/llm_prompt_recovery/data/predictions/nboard_v2.csv').filter(\n",
    "        pl.col(\"score\") > 0.70\n",
    "    ).sort(\"score\").with_columns(\n",
    "        pl.col(\"rewrite_prompt\").map_elements(lambda s: sent_tokenize(s)[0], return_dtype=String)\n",
    "    ).select('original_text', 'gt_rewrite_prompt', 'rewritten_text', 'rewrite_prompt', 'score')\n",
    ")"
   ]
  },
  {
   "cell_type": "code",
   "execution_count": 84,
   "metadata": {},
   "outputs": [],
   "source": [
    "df.write_csv('/home/lawrence/Projects/contests/llm_prompt_recovery/data/predictions/combined.csv')"
   ]
  },
  {
   "cell_type": "code",
   "execution_count": 67,
   "metadata": {},
   "outputs": [
    {
     "data": {
      "text/plain": [
       "' Rewrite the text to reflect a different outcome for the prisoner.'"
      ]
     },
     "execution_count": 67,
     "metadata": {},
     "output_type": "execute_result"
    }
   ],
   "source": [
    "df[-77]['rewrite_prompt'][0]"
   ]
  },
  {
   "cell_type": "code",
   "execution_count": 49,
   "metadata": {},
   "outputs": [
    {
     "data": {
      "text/html": [
       "<div><style>\n",
       ".dataframe > thead > tr,\n",
       ".dataframe > tbody > tr {\n",
       "  text-align: right;\n",
       "  white-space: pre-wrap;\n",
       "}\n",
       "</style>\n",
       "<small>shape: (515, 8)</small><table border=\"1\" class=\"dataframe\"><thead><tr><th></th><th>original_text</th><th>gt_rewrite_prompt</th><th>prompt</th><th>rewritten_text</th><th>input</th><th>rewrite_prompt</th><th>score</th></tr><tr><td>i64</td><td>str</td><td>str</td><td>str</td><td>str</td><td>str</td><td>str</td><td>f64</td></tr></thead><tbody><tr><td>6613</td><td>&quot;Juan Pablo Mon…</td><td>&quot;Turn the conte…</td><td>&quot;Turn the conte…</td><td>&quot;**Welcome to t…</td><td>&quot;&lt;s&gt;[INST] You …</td><td>&quot;Creatively rew…</td><td>0.7001195</td></tr><tr><td>9717</td><td>&quot;Mid-4, #Philli…</td><td>&quot;Turn this into…</td><td>&quot;Turn this into…</td><td>&quot;\n",
       "Sure, here&#x27;s …</td><td>&quot;&lt;s&gt;[INST] You …</td><td>&quot; Create a sitc…</td><td>0.700227</td></tr><tr><td>2608</td><td>&quot;Akula (Shark) …</td><td>&quot;Write the text…</td><td>&quot;Write the text…</td><td>&quot;Sure, here is …</td><td>&quot;&lt;s&gt;[INST] You …</td><td>&quot; Rewrite the t…</td><td>0.70023</td></tr><tr><td>8805</td><td>&quot;The owner of a…</td><td>&quot;Turn the conte…</td><td>&quot;Turn the conte…</td><td>&quot;## From Threat…</td><td>&quot;&lt;s&gt;[INST] You …</td><td>&quot; Systematicall…</td><td>0.7004925</td></tr><tr><td>8989</td><td>&quot;India Mulling …</td><td>&quot;Turn the conte…</td><td>&quot;Turn the conte…</td><td>&quot;My dearest [Na…</td><td>&quot;&lt;s&gt;[INST] You …</td><td>&quot; Rewrite the t…</td><td>0.7004958</td></tr><tr><td>&hellip;</td><td>&hellip;</td><td>&hellip;</td><td>&hellip;</td><td>&hellip;</td><td>&hellip;</td><td>&hellip;</td><td>&hellip;</td></tr><tr><td>7031</td><td>&quot;A developer pl…</td><td>&quot;Rewrite the me…</td><td>&quot;Rewrite the me…</td><td>&quot; (D dystopian …</td><td>&quot;&lt;s&gt;[INST] You …</td><td>&quot; Rewrite the t…</td><td>0.8962796</td></tr><tr><td>4328</td><td>&quot;WASHINGTON — S…</td><td>&quot;Turn the conte…</td><td>&quot;Turn the conte…</td><td>&quot; (Country Song…</td><td>&quot;&lt;s&gt;[INST] You …</td><td>&quot; Creatively tr…</td><td>0.8969294</td></tr><tr><td>8575</td><td>&quot;SAN CARLOS, TX…</td><td>&quot;Convert the te…</td><td>&quot;Convert the te…</td><td>&quot; (Soap Opera D…</td><td>&quot;&lt;s&gt;[INST] You …</td><td>&quot;Imagine the or…</td><td>0.8997115</td></tr><tr><td>2391</td><td>&quot;Official openi…</td><td>&quot;Translate this…</td><td>&quot;Translate this…</td><td>&quot; (Announcer vo…</td><td>&quot;&lt;s&gt;[INST] You …</td><td>&quot; Rewrite the t…</td><td>0.9000504</td></tr><tr><td>5301</td><td>&quot;A Big Tip of t…</td><td>&quot;Change the tex…</td><td>&quot;Change the tex…</td><td>&quot;\n",
       "\n",
       "The relentle…</td><td>&quot;&lt;s&gt;[INST] You …</td><td>&quot; Transform thi…</td><td>0.919003</td></tr></tbody></table></div>"
      ],
      "text/plain": [
       "shape: (515, 8)\n",
       "┌──────┬─────────────┬─────────────┬────────────┬────────────┬────────────┬────────────┬───────────┐\n",
       "│      ┆ original_te ┆ gt_rewrite_ ┆ prompt     ┆ rewritten_ ┆ input      ┆ rewrite_pr ┆ score     │\n",
       "│ ---  ┆ xt          ┆ prompt      ┆ ---        ┆ text       ┆ ---        ┆ ompt       ┆ ---       │\n",
       "│ i64  ┆ ---         ┆ ---         ┆ str        ┆ ---        ┆ str        ┆ ---        ┆ f64       │\n",
       "│      ┆ str         ┆ str         ┆            ┆ str        ┆            ┆ str        ┆           │\n",
       "╞══════╪═════════════╪═════════════╪════════════╪════════════╪════════════╪════════════╪═══════════╡\n",
       "│ 6613 ┆ Juan Pablo  ┆ Turn the    ┆ Turn the   ┆ **Welcome  ┆ <s>[INST]  ┆ Creatively ┆ 0.7001195 │\n",
       "│      ┆ Montoya     ┆ content     ┆ content    ┆ to the     ┆ You are an ┆ rewrite    ┆           │\n",
       "│      ┆ rolls down  ┆ into a      ┆ into a     ┆ Barber     ┆ expert in  ┆ the text   ┆           │\n",
       "│      ┆ pi…         ┆ retro ar…   ┆ retro ar…  ┆ Motorspo…  ┆ \"…         ┆ to t…      ┆           │\n",
       "│ 9717 ┆ Mid-4,      ┆ Turn this   ┆ Turn this  ┆            ┆ <s>[INST]  ┆ Create a   ┆ 0.700227  │\n",
       "│      ┆ #Phillies   ┆ into a      ┆ into a     ┆ Sure,      ┆ You are an ┆ sitcom cat ┆           │\n",
       "│      ┆ trail       ┆ sitcom      ┆ sitcom     ┆ here's a   ┆ expert in  ┆ chphrase   ┆           │\n",
       "│      ┆ Toronto 8…  ┆ catchphr…   ┆ catchphr…  ┆ sitcom     ┆ \"…         ┆ ins…       ┆           │\n",
       "│      ┆             ┆             ┆            ┆ catchphra… ┆            ┆            ┆           │\n",
       "│ 2608 ┆ Akula       ┆ Write the   ┆ Write the  ┆ Sure, here ┆ <s>[INST]  ┆ Rewrite    ┆ 0.70023   │\n",
       "│      ┆ (Shark) is  ┆ text as if  ┆ text as if ┆ is the     ┆ You are an ┆ the text   ┆           │\n",
       "│      ┆ a serious   ┆ it were a   ┆ it were a  ┆ text       ┆ expert in  ┆ as an      ┆           │\n",
       "│      ┆ hunti…      ┆ f…          ┆ f…         ┆ rewritten… ┆ \"…         ┆ informat…  ┆           │\n",
       "│ 8805 ┆ The owner   ┆ Turn the    ┆ Turn the   ┆ ## From    ┆ <s>[INST]  ┆ Systematic ┆ 0.7004925 │\n",
       "│      ┆ of a Texas  ┆ content     ┆ content    ┆ Threat to  ┆ You are an ┆ ally       ┆           │\n",
       "│      ┆ constructio ┆ into a      ┆ into a     ┆ Transforma ┆ expert in  ┆ transform  ┆           │\n",
       "│      ┆ …           ┆ startup …   ┆ startup …  ┆ tion…      ┆ \"…         ┆ the te…    ┆           │\n",
       "│ 8989 ┆ India       ┆ Turn the    ┆ Turn the   ┆ My dearest ┆ <s>[INST]  ┆ Rewrite    ┆ 0.7004958 │\n",
       "│      ┆ Mulling Int ┆ content     ┆ content    ┆ [Name],    ┆ You are an ┆ the text   ┆           │\n",
       "│      ┆ roduction   ┆ into a      ┆ into a     ┆            ┆ expert in  ┆ into a     ┆           │\n",
       "│      ┆ Of Ta…      ┆ romantic…   ┆ romantic…  ┆ With the   ┆ \"…         ┆ passion…   ┆           │\n",
       "│      ┆             ┆             ┆            ┆ win…       ┆            ┆            ┆           │\n",
       "│ …    ┆ …           ┆ …           ┆ …          ┆ …          ┆ …          ┆ …          ┆ …         │\n",
       "│ 7031 ┆ A developer ┆ Rewrite the ┆ Rewrite    ┆ (D         ┆ <s>[INST]  ┆ Rewrite    ┆ 0.8962796 │\n",
       "│      ┆ planning a  ┆ message as  ┆ the        ┆ dystopian  ┆ You are an ┆ the text   ┆           │\n",
       "│      ┆ mixed-use…  ┆ a dystopi…  ┆ message as ┆ future     ┆ expert in  ┆ in a       ┆           │\n",
       "│      ┆             ┆             ┆ a dystopi… ┆ news       ┆ \"…         ┆ dystopian… ┆           │\n",
       "│      ┆             ┆             ┆            ┆ report…    ┆            ┆            ┆           │\n",
       "│ 4328 ┆ WASHINGTON  ┆ Turn the    ┆ Turn the   ┆ (Country   ┆ <s>[INST]  ┆ Creatively ┆ 0.8969294 │\n",
       "│      ┆ — Sen. Mark ┆ content     ┆ content    ┆ Song       ┆ You are an ┆ transform  ┆           │\n",
       "│      ┆ Udall on …  ┆ into a      ┆ into a     ┆ Chorus)    ┆ expert in  ┆ the given  ┆           │\n",
       "│      ┆             ┆ country …   ┆ country …  ┆ Reputatio… ┆ \"…         ┆ …          ┆           │\n",
       "│ 8575 ┆ SAN CARLOS, ┆ Convert the ┆ Convert    ┆ (Soap      ┆ <s>[INST]  ┆ Imagine    ┆ 0.8997115 │\n",
       "│      ┆ TX—A family ┆ text into a ┆ the text   ┆ Opera      ┆ You are an ┆ the        ┆           │\n",
       "│      ┆ of Mexic…   ┆ soap ope…   ┆ into a     ┆ Dialogue)  ┆ expert in  ┆ original   ┆           │\n",
       "│      ┆             ┆             ┆ soap ope…  ┆            ┆ \"…         ┆ text as a  ┆           │\n",
       "│      ┆             ┆             ┆            ┆ **Sonia:…  ┆            ┆ s…         ┆           │\n",
       "│ 2391 ┆ Official    ┆ Translate   ┆ Translate  ┆ (Announcer ┆ <s>[INST]  ┆ Rewrite    ┆ 0.9000504 │\n",
       "│      ┆ opening of  ┆ this into a ┆ this into  ┆ voice)     ┆ You are an ┆ the text   ┆           │\n",
       "│      ┆ Bisdee Tier ┆ vintage ra… ┆ a vintage  ┆ Attention  ┆ expert in  ┆ as a       ┆           │\n",
       "│      ┆ …           ┆             ┆ ra…        ┆ all…       ┆ \"…         ┆ vintage r… ┆           │\n",
       "│ 5301 ┆ A Big Tip   ┆ Change the  ┆ Change the ┆            ┆ <s>[INST]  ┆ Transform  ┆ 0.919003  │\n",
       "│      ┆ of the      ┆ text into a ┆ text into  ┆            ┆ You are an ┆ this text  ┆           │\n",
       "│      ┆ Tuque to    ┆ conspirac…  ┆ a          ┆ The        ┆ expert in  ┆ into a     ┆           │\n",
       "│      ┆ the Cr…     ┆             ┆ conspirac… ┆ relentless ┆ \"…         ┆ piec…      ┆           │\n",
       "│      ┆             ┆             ┆            ┆ barrage of ┆            ┆            ┆           │\n",
       "│      ┆             ┆             ┆            ┆ scre…      ┆            ┆            ┆           │\n",
       "└──────┴─────────────┴─────────────┴────────────┴────────────┴────────────┴────────────┴───────────┘"
      ]
     },
     "execution_count": 49,
     "metadata": {},
     "output_type": "execute_result"
    }
   ],
   "source": [
    "df"
   ]
  }
 ],
 "metadata": {
  "kernelspec": {
   "display_name": "llm_promt_reversal",
   "language": "python",
   "name": "python3"
  },
  "language_info": {
   "codemirror_mode": {
    "name": "ipython",
    "version": 3
   },
   "file_extension": ".py",
   "mimetype": "text/x-python",
   "name": "python",
   "nbconvert_exporter": "python",
   "pygments_lexer": "ipython3",
   "version": "3.1.undefined"
  }
 },
 "nbformat": 4,
 "nbformat_minor": 2
}
