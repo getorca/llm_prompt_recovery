{
 "cells": [
  {
   "cell_type": "code",
   "execution_count": 32,
   "metadata": {},
   "outputs": [],
   "source": [
    "import random\n",
    "from jinja2 import Environment, Template, meta\n",
    "import sys\n",
    "from itertools import product\n",
    "from datasets import load_dataset\n",
    "import polars as pl\n",
    "from vllm import LLM, SamplingParams\n",
    "from typing import Dict\n",
    "import numpy as np\n",
    "import ray\n",
    "from transformers import AutoTokenizer\n",
    "from typing import Any, Dict\n",
    "from vllm.lora.request import LoRARequest"
   ]
  },
  {
   "cell_type": "code",
   "execution_count": 2,
   "metadata": {},
   "outputs": [],
   "source": [
    "# # Load model directly\n",
    "# from transformers import AutoTokenizer, AutoModelForCausalLM\n",
    "\n",
    "# tokenizer = AutoTokenizer.from_pretrained(\"mistralai/Mistral-7B-Instruct-v0.2\", cache_dir=\"/gpfs/home/yiyayu/scratch/cache\")\n",
    "# model = AutoModelForCausalLM.from_pretrained(\"mistralai/Mistral-7B-Instruct-v0.2\", cache_dir=\"/gpfs/home/yiyayu/scratch/cache\")"
   ]
  },
  {
   "cell_type": "code",
   "execution_count": 3,
   "metadata": {},
   "outputs": [],
   "source": [
    "# model_name = 'mistralai/Mistral-7B-Instruct-v0.2'\n",
    "model_name = '/gpfs/home/yiyayu/scratch/cache/models--mistralai--Mistral-7B-Instruct-v0.2/snapshots/41b61a33a2483885c981aa79e0df6b32407ed873'\n",
    "# model_name = '/home/lawrence/.cache/huggingface/hub/models--mistralai--Mistral-7B-Instruct-v0.2/snapshots/41b61a33a2483885c981aa79e0df6b32407ed873'\n",
    "# # model_name = 'google/gemma-7b-it'\n",
    "\n",
    "tokenizer = AutoTokenizer.from_pretrained(\n",
    "    model_name\n",
    ") "
   ]
  },
  {
   "cell_type": "markdown",
   "metadata": {},
   "source": [
    "## import the dataset"
   ]
  },
  {
   "cell_type": "markdown",
   "metadata": {},
   "source": [
    "## load the dataset into ray"
   ]
  },
  {
   "cell_type": "code",
   "execution_count": 4,
   "metadata": {},
   "outputs": [],
   "source": [
    "def get_chat_input(row: Dict[str, Any]) -> Dict[str, Any]:\n",
    "    \n",
    "    #original text prefix\n",
    "    orig_prefix = \"Original Text:\"\n",
    "    #modified text prefix\n",
    "    rewrite_prefix = \"Rewritten Text:\"\n",
    "    # response start\n",
    "    response_start = \"The prompt was:\"\n",
    "\n",
    "    sys_prompt = \"\"\"You are an expert in \"Reverse Prompt Engineering\". You are able to reverse-engineer prompts used to rewrite text.\\n\\nI will be providing you with an \"original text\" and \"rewritten text\". Please try to be as specific as possible and come up with a prompt that is based on the tone, style, and any other properties you consider relevant.\"\"\"\n",
    "\n",
    "    messages = [\n",
    "        #actual prompt\n",
    "        {\"role\": \"user\", \"content\": f\"{sys_prompt}\\n{orig_prefix} {row['original_text']}\\n{rewrite_prefix} {row['rewritten_text']}\"},\n",
    "        {\"role\": \"assistant\", \"content\": response_start},\n",
    "    ]\n",
    "        \n",
    "    #give it to Mistral\n",
    "    row['input'] = tokenizer.apply_chat_template(messages, tokenize=False)\n",
    "    \n",
    "    return row\n"
   ]
  },
  {
   "cell_type": "code",
   "execution_count": null,
   "metadata": {},
   "outputs": [],
   "source": [
    "import pandas as pd\n",
    "\n",
    "df = pd.read_csv('data/predictions/llm_dataset_1.csv') #2_above_65\n",
    "df.rename(columns={'rewrite_prompt': 'old_rewrite_prompt'}, inplace=True)\n",
    "ds = (\n",
    "    ray.data.from_pandas(df)\n",
    "    .map(get_chat_input)\n",
    ").repartition(250) # need to force into multiple blocks <https://discuss.ray.io/t/single-node-4x-gpu-map-batches-only-using-1/12313/2>\n"
   ]
  },
  {
   "cell_type": "code",
   "execution_count": 6,
   "metadata": {},
   "outputs": [
    {
     "data": {
      "text/html": [
       "<div>\n",
       "<style scoped>\n",
       "    .dataframe tbody tr th:only-of-type {\n",
       "        vertical-align: middle;\n",
       "    }\n",
       "\n",
       "    .dataframe tbody tr th {\n",
       "        vertical-align: top;\n",
       "    }\n",
       "\n",
       "    .dataframe thead th {\n",
       "        text-align: right;\n",
       "    }\n",
       "</style>\n",
       "<table border=\"1\" class=\"dataframe\">\n",
       "  <thead>\n",
       "    <tr style=\"text-align: right;\">\n",
       "      <th></th>\n",
       "      <th>Unnamed: 0.1</th>\n",
       "      <th>Unnamed: 0</th>\n",
       "      <th>original_text</th>\n",
       "      <th>gt_rewrite_prompt</th>\n",
       "      <th>rewritten_text</th>\n",
       "      <th>input</th>\n",
       "      <th>old_rewrite_prompt</th>\n",
       "      <th>score</th>\n",
       "    </tr>\n",
       "  </thead>\n",
       "  <tbody>\n",
       "    <tr>\n",
       "      <th>0</th>\n",
       "      <td>0</td>\n",
       "      <td>202</td>\n",
       "      <td>Refer again to water’s phase diagram ( Figure ...</td>\n",
       "      <td>Rewrite my text with emphasis on the emotions ...</td>\n",
       "      <td>Sure, here's the rewritten text with emphasis ...</td>\n",
       "      <td>&lt;s&gt;[INST] You are an expert in \"Reverse Prompt...</td>\n",
       "      <td>Rewrite the scientific text into a poetic and...</td>\n",
       "      <td>0.478315</td>\n",
       "    </tr>\n",
       "    <tr>\n",
       "      <th>1</th>\n",
       "      <td>1</td>\n",
       "      <td>709</td>\n",
       "      <td>Water pollution comes from many sources. One o...</td>\n",
       "      <td>Present this topic as a series of experimental...</td>\n",
       "      <td>## Memory's Canvas: A Tapestry of Water Pollut...</td>\n",
       "      <td>&lt;s&gt;[INST] You are an expert in \"Reverse Prompt...</td>\n",
       "      <td>hoodwink the audience and present the given t...</td>\n",
       "      <td>0.604024</td>\n",
       "    </tr>\n",
       "    <tr>\n",
       "      <th>2</th>\n",
       "      <td>2</td>\n",
       "      <td>117</td>\n",
       "      <td>Amphibians have a relatively complex circulato...</td>\n",
       "      <td>Explain this to me like I'm five.</td>\n",
       "      <td>Sure. Here's an explanation that a five-year-o...</td>\n",
       "      <td>&lt;s&gt;[INST] You are an expert in \"Reverse Prompt...</td>\n",
       "      <td>Simplify the following text for young childre...</td>\n",
       "      <td>0.488786</td>\n",
       "    </tr>\n",
       "    <tr>\n",
       "      <th>3</th>\n",
       "      <td>3</td>\n",
       "      <td>325</td>\n",
       "      <td>The mode is the most common value. It is the v...</td>\n",
       "      <td>Transform this paragraph into a series of emoj...</td>\n",
       "      <td>Sure, here's the emojis to capture the essence...</td>\n",
       "      <td>&lt;s&gt;[INST] You are an expert in \"Reverse Prompt...</td>\n",
       "      <td>Creatively represent the information using em...</td>\n",
       "      <td>0.696663</td>\n",
       "    </tr>\n",
       "    <tr>\n",
       "      <th>4</th>\n",
       "      <td>4</td>\n",
       "      <td>81</td>\n",
       "      <td>Electromagnetism is magnetism produced by an e...</td>\n",
       "      <td>Rewrite the following sentence in simpler terms</td>\n",
       "      <td>Sure, here's the rewritten sentence in simpler...</td>\n",
       "      <td>&lt;s&gt;[INST] You are an expert in \"Reverse Prompt...</td>\n",
       "      <td>Simplify and clarify the given complex scient...</td>\n",
       "      <td>0.498370</td>\n",
       "    </tr>\n",
       "    <tr>\n",
       "      <th>...</th>\n",
       "      <td>...</td>\n",
       "      <td>...</td>\n",
       "      <td>...</td>\n",
       "      <td>...</td>\n",
       "      <td>...</td>\n",
       "      <td>...</td>\n",
       "      <td>...</td>\n",
       "      <td>...</td>\n",
       "    </tr>\n",
       "    <tr>\n",
       "      <th>9978</th>\n",
       "      <td>9978</td>\n",
       "      <td>1</td>\n",
       "      <td>All amphibians have digestive, excretory, and ...</td>\n",
       "      <td>Translate this technical sentence into plain E...</td>\n",
       "      <td>Sure, here's the translated sentence into plai...</td>\n",
       "      <td>&lt;s&gt;[INST] You are an expert in \"Reverse Prompt...</td>\n",
       "      <td>Simplify and clarify this scientific text for...</td>\n",
       "      <td>0.484933</td>\n",
       "    </tr>\n",
       "    <tr>\n",
       "      <th>9979</th>\n",
       "      <td>9979</td>\n",
       "      <td>262</td>\n",
       "      <td>Facilitated diffusion is the diffusion of solu...</td>\n",
       "      <td>Transform this information into the outline fo...</td>\n",
       "      <td>**Outline of a New Social Movement: \"Facilitat...</td>\n",
       "      <td>&lt;s&gt;[INST] You are an expert in \"Reverse Prompt...</td>\n",
       "      <td>Transform the text into a proposal for a new ...</td>\n",
       "      <td>0.645402</td>\n",
       "    </tr>\n",
       "    <tr>\n",
       "      <th>9980</th>\n",
       "      <td>9980</td>\n",
       "      <td>95</td>\n",
       "      <td>Mitosis occurs in four phases, called prophase...</td>\n",
       "      <td>Rephrase this sentence to be more reader-friendly</td>\n",
       "      <td>Sure, here's the rephrased sentence to be more...</td>\n",
       "      <td>&lt;s&gt;[INST] You are an expert in \"Reverse Prompt...</td>\n",
       "      <td>Make this sentence more conversational and en...</td>\n",
       "      <td>0.652722</td>\n",
       "    </tr>\n",
       "    <tr>\n",
       "      <th>9981</th>\n",
       "      <td>9981</td>\n",
       "      <td>452</td>\n",
       "      <td>This odd-looking creature is a fish called a p...</td>\n",
       "      <td>Express this concept as if it were a conversat...</td>\n",
       "      <td>Sure, here's the conversation:\\n\\n**Alien A:**...</td>\n",
       "      <td>&lt;s&gt;[INST] You are an expert in \"Reverse Prompt...</td>\n",
       "      <td>Transform this text into a dialogue between al...</td>\n",
       "      <td>0.624627</td>\n",
       "    </tr>\n",
       "    <tr>\n",
       "      <th>9982</th>\n",
       "      <td>9982</td>\n",
       "      <td>570</td>\n",
       "      <td>Symptoms of chlamydia may include a burning se...</td>\n",
       "      <td>Imagine this as a news report from the future.</td>\n",
       "      <td>## Future News: Chlamydia Still a Threat Despi...</td>\n",
       "      <td>&lt;s&gt;[INST] You are an expert in \"Reverse Prompt...</td>\n",
       "      <td>Rewrite the following text in a news article ...</td>\n",
       "      <td>0.472537</td>\n",
       "    </tr>\n",
       "  </tbody>\n",
       "</table>\n",
       "<p>9983 rows × 8 columns</p>\n",
       "</div>"
      ],
      "text/plain": [
       "      Unnamed: 0.1  Unnamed: 0  \\\n",
       "0                0         202   \n",
       "1                1         709   \n",
       "2                2         117   \n",
       "3                3         325   \n",
       "4                4          81   \n",
       "...            ...         ...   \n",
       "9978          9978           1   \n",
       "9979          9979         262   \n",
       "9980          9980          95   \n",
       "9981          9981         452   \n",
       "9982          9982         570   \n",
       "\n",
       "                                          original_text  \\\n",
       "0     Refer again to water’s phase diagram ( Figure ...   \n",
       "1     Water pollution comes from many sources. One o...   \n",
       "2     Amphibians have a relatively complex circulato...   \n",
       "3     The mode is the most common value. It is the v...   \n",
       "4     Electromagnetism is magnetism produced by an e...   \n",
       "...                                                 ...   \n",
       "9978  All amphibians have digestive, excretory, and ...   \n",
       "9979  Facilitated diffusion is the diffusion of solu...   \n",
       "9980  Mitosis occurs in four phases, called prophase...   \n",
       "9981  This odd-looking creature is a fish called a p...   \n",
       "9982  Symptoms of chlamydia may include a burning se...   \n",
       "\n",
       "                                      gt_rewrite_prompt  \\\n",
       "0     Rewrite my text with emphasis on the emotions ...   \n",
       "1     Present this topic as a series of experimental...   \n",
       "2                     Explain this to me like I'm five.   \n",
       "3     Transform this paragraph into a series of emoj...   \n",
       "4       Rewrite the following sentence in simpler terms   \n",
       "...                                                 ...   \n",
       "9978  Translate this technical sentence into plain E...   \n",
       "9979  Transform this information into the outline fo...   \n",
       "9980  Rephrase this sentence to be more reader-friendly   \n",
       "9981  Express this concept as if it were a conversat...   \n",
       "9982     Imagine this as a news report from the future.   \n",
       "\n",
       "                                         rewritten_text  \\\n",
       "0     Sure, here's the rewritten text with emphasis ...   \n",
       "1     ## Memory's Canvas: A Tapestry of Water Pollut...   \n",
       "2     Sure. Here's an explanation that a five-year-o...   \n",
       "3     Sure, here's the emojis to capture the essence...   \n",
       "4     Sure, here's the rewritten sentence in simpler...   \n",
       "...                                                 ...   \n",
       "9978  Sure, here's the translated sentence into plai...   \n",
       "9979  **Outline of a New Social Movement: \"Facilitat...   \n",
       "9980  Sure, here's the rephrased sentence to be more...   \n",
       "9981  Sure, here's the conversation:\\n\\n**Alien A:**...   \n",
       "9982  ## Future News: Chlamydia Still a Threat Despi...   \n",
       "\n",
       "                                                  input  \\\n",
       "0     <s>[INST] You are an expert in \"Reverse Prompt...   \n",
       "1     <s>[INST] You are an expert in \"Reverse Prompt...   \n",
       "2     <s>[INST] You are an expert in \"Reverse Prompt...   \n",
       "3     <s>[INST] You are an expert in \"Reverse Prompt...   \n",
       "4     <s>[INST] You are an expert in \"Reverse Prompt...   \n",
       "...                                                 ...   \n",
       "9978  <s>[INST] You are an expert in \"Reverse Prompt...   \n",
       "9979  <s>[INST] You are an expert in \"Reverse Prompt...   \n",
       "9980  <s>[INST] You are an expert in \"Reverse Prompt...   \n",
       "9981  <s>[INST] You are an expert in \"Reverse Prompt...   \n",
       "9982  <s>[INST] You are an expert in \"Reverse Prompt...   \n",
       "\n",
       "                                     old_rewrite_prompt     score  \n",
       "0      Rewrite the scientific text into a poetic and...  0.478315  \n",
       "1      hoodwink the audience and present the given t...  0.604024  \n",
       "2      Simplify the following text for young childre...  0.488786  \n",
       "3      Creatively represent the information using em...  0.696663  \n",
       "4      Simplify and clarify the given complex scient...  0.498370  \n",
       "...                                                 ...       ...  \n",
       "9978   Simplify and clarify this scientific text for...  0.484933  \n",
       "9979   Transform the text into a proposal for a new ...  0.645402  \n",
       "9980   Make this sentence more conversational and en...  0.652722  \n",
       "9981  Transform this text into a dialogue between al...  0.624627  \n",
       "9982   Rewrite the following text in a news article ...  0.472537  \n",
       "\n",
       "[9983 rows x 8 columns]"
      ]
     },
     "execution_count": 6,
     "metadata": {},
     "output_type": "execute_result"
    }
   ],
   "source": [
    "df"
   ]
  },
  {
   "cell_type": "code",
   "execution_count": 7,
   "metadata": {},
   "outputs": [],
   "source": [
    "# Create a sampling params object.\n",
    "sampling_params = SamplingParams(max_tokens=30, n=2)\n",
    "\n",
    "\n",
    "# Create a class to do batch inference.\n",
    "class LLMPredictor:\n",
    "\n",
    "    def __init__(self):\n",
    "        self.llm = LLM(\n",
    "            model=model_name,\n",
    "            # cache_dir=\"/gpfs/home/yiyayu/scratch/cache\",\n",
    "            gpu_memory_utilization=0.85,\n",
    "            max_model_len=1200,\n",
    "            trust_remote_code=True,\n",
    "            enable_lora=True \n",
    "        )\n",
    "        # self.lora_path = 'mistral_pr_lora_over65'\n",
    "\n",
    "    def __call__(self, batch: Dict[str, np.ndarray]) -> Dict[str, list]:\n",
    "        outputs = self.llm.generate(\n",
    "            batch[\"input\"], \n",
    "            sampling_params,\n",
    "            # lora_request=LoRARequest(\"pr_adapter\", 1, self.lora_path)\n",
    "        )\n",
    "        \n",
    "        generated_text = []\n",
    "        for output in outputs:\n",
    "            generated_text.append([o.text for o in output.outputs])\n",
    "        batch[\"rewrite_prompts\"] = generated_text\n",
    "\n",
    "        return batch\n",
    "\n",
    "ds = ds.map_batches(\n",
    "    LLMPredictor,\n",
    "    # Set the concurrency to the number of LLM instances.\n",
    "    concurrency=2,\n",
    "    # Specify the number of GPUs required per LLM instance.\n",
    "    # NOTE: Do NOT set `num_gpus` when using vLLM with tensor-parallelism\n",
    "    # (i.e., `tensor_parallel_size`).\n",
    "    num_gpus=1,\n",
    "    # Specify the batch size for inference.\n",
    "    batch_size=4,\n",
    ")"
   ]
  },
  {
   "cell_type": "code",
   "execution_count": 28,
   "metadata": {},
   "outputs": [
    {
     "name": "stderr",
     "output_type": "stream",
     "text": [
      "2024-04-14 17:44:06,320\tINFO streaming_executor.py:115 -- Starting execution of Dataset. Full log is in /tmp/ray/session_2024-04-14_17-25-16_146156_1192853/logs/ray-data.log\n",
      "2024-04-14 17:44:06,320\tINFO streaming_executor.py:116 -- Execution plan of Dataset: InputDataBuffer[Input] -> TaskPoolMapOperator[Map(get_chat_input)] -> AllToAllOperator[Repartition] -> ActorPoolMapOperator[MapBatches(LLMPredictor)] -> TaskPoolMapOperator[Write]\n",
      "\n"
     ]
    },
    {
     "data": {
      "application/vnd.jupyter.widget-view+json": {
       "model_id": "",
       "version_major": 2,
       "version_minor": 0
      },
      "text/plain": [
       "- Map(get_chat_input) 1:   0%|          | 0/1 [00:00<?, ?it/s]"
      ]
     },
     "metadata": {},
     "output_type": "display_data"
    },
    {
     "data": {
      "application/vnd.jupyter.widget-view+json": {
       "model_id": "",
       "version_major": 2,
       "version_minor": 0
      },
      "text/plain": [
       "- Repartition 2:   0%|          | 0/250 [00:00<?, ?it/s]"
      ]
     },
     "metadata": {},
     "output_type": "display_data"
    },
    {
     "data": {
      "application/vnd.jupyter.widget-view+json": {
       "model_id": "2f520dd51de1450fa8f20d8a5f5b3b60",
       "version_major": 2,
       "version_minor": 0
      },
      "text/plain": [
       "Split Repartition 3:   0%|          | 0/250 [00:00<?, ?it/s]"
      ]
     },
     "metadata": {},
     "output_type": "display_data"
    },
    {
     "data": {
      "application/vnd.jupyter.widget-view+json": {
       "model_id": "",
       "version_major": 2,
       "version_minor": 0
      },
      "text/plain": [
       "- MapBatches(LLMPredictor) 4:   0%|          | 0/250 [00:00<?, ?it/s]"
      ]
     },
     "metadata": {},
     "output_type": "display_data"
    },
    {
     "data": {
      "application/vnd.jupyter.widget-view+json": {
       "model_id": "8cc68f7387f44fcf852d244083a1af15",
       "version_major": 2,
       "version_minor": 0
      },
      "text/plain": [
       "- Write 5:   0%|          | 0/250 [00:00<?, ?it/s]"
      ]
     },
     "metadata": {},
     "output_type": "display_data"
    },
    {
     "data": {
      "application/vnd.jupyter.widget-view+json": {
       "model_id": "83129a04816a46918b5f908416f6747f",
       "version_major": 2,
       "version_minor": 0
      },
      "text/plain": [
       "Running 0:   0%|          | 0/250 [00:00<?, ?it/s]"
      ]
     },
     "metadata": {},
     "output_type": "display_data"
    }
   ],
   "source": [
    "ds.write_parquet(\"./data/exp_test/multi_n_with_lora2/\")"
   ]
  },
  {
   "cell_type": "markdown",
   "metadata": {},
   "source": [
    "## score the dataset"
   ]
  },
  {
   "cell_type": "code",
   "execution_count": 33,
   "metadata": {},
   "outputs": [],
   "source": [
    "df = pl.read_parquet(\"./data/exp_test/multi_n_with_lora3/*.parquet\")"
   ]
  },
  {
   "cell_type": "code",
   "execution_count": 34,
   "metadata": {},
   "outputs": [
    {
     "data": {
      "text/html": [
       "<div><style>\n",
       ".dataframe > thead > tr,\n",
       ".dataframe > tbody > tr {\n",
       "  text-align: right;\n",
       "  white-space: pre-wrap;\n",
       "}\n",
       "</style>\n",
       "<small>shape: (9_983, 9)</small><table border=\"1\" class=\"dataframe\"><thead><tr><th>Unnamed: 0.1</th><th>Unnamed: 0</th><th>original_text</th><th>gt_rewrite_prompt</th><th>rewritten_text</th><th>input</th><th>old_rewrite_prompt</th><th>score</th><th>rewrite_prompts</th></tr><tr><td>i64</td><td>i64</td><td>str</td><td>str</td><td>str</td><td>str</td><td>str</td><td>f64</td><td>list[str]</td></tr></thead><tbody><tr><td>39</td><td>394</td><td>&quot;Figure 9.3 Thi…</td><td>&quot;Turn this para…</td><td>&quot;The text does …</td><td>&quot;&lt;s&gt;[INST] You …</td><td>&quot; I cannot fulf…</td><td>0.5094235</td><td>[&quot; &quot;Given a text describing a physical phenomenon, create guidelines for training dragons in a fantasy realm based on the information provided.&quot;\n",
       "\n",
       "Based on&quot;, &quot; &quot;Given a text describing physics concepts related to a moving vehicle, generate guidelines for training dragons in a fantasy realm based on the information provided.&quot;&quot;]</td></tr><tr><td>40</td><td>453</td><td>&quot;Science rests …</td><td>&quot;Create a dialo…</td><td>&quot;Sure, here&#x27;s t…</td><td>&quot;&lt;s&gt;[INST] You …</td><td>&quot; Write a scrip…</td><td>0.588464</td><td>[&quot; &quot;Write a dialog between two characters discussing the limits of science in terms of observable phenomena and the existence of supernatural beings or events.&quot;\n",
       "&quot;, &quot; &quot;Write a dialogue between two characters discussing the definition and scope of science in relation to observable phenomena and supernatural beings or events.&quot;&quot;]</td></tr><tr><td>41</td><td>53</td><td>&quot;Introduction T…</td><td>&quot;Rewrite the fo…</td><td>&quot;Sure, here&#x27;s t…</td><td>&quot;&lt;s&gt;[INST] You …</td><td>&quot; Simplify the …</td><td>0.5603066</td><td>[&quot; &quot;Rewrite the following text into simpler language while maintaining the original tone and focus on the role of the immune system in protecting the body from path&quot;, &quot; &quot;_Describe the function and components of the immune system in simpler terms, focusing on its role in protecting the body from germs and its response when germ&quot;]</td></tr><tr><td>42</td><td>388</td><td>&quot;Figure 21.13 E…</td><td>&quot;Translate this…</td><td>&quot;Sure, here&#x27;s t…</td><td>&quot;&lt;s&gt;[INST] You …</td><td>&quot; Rewrite the t…</td><td>0.462264</td><td>[&quot; &quot;Translate the following academic text into a conversational style while maintaining the tone and preserving the essential information.&quot;\n",
       "\n",
       "For Figure 21&quot;, &quot; &quot;Translate the following scientific passage into a conversational and simplified style while maintaining the original tone and intent.&quot;\n",
       "\n",
       "I. Passage:&quot;]</td></tr><tr><td>43</td><td>695</td><td>&quot;Not only salt,…</td><td>&quot;Turn this into…</td><td>&quot;## The Salty K…</td><td>&quot;&lt;s&gt;[INST] You …</td><td>&quot; Provide a dia…</td><td>0.6735528</td><td>[&quot; &quot;Develop a script for a scene in a kitchen setting where a chef explains how water can dissolve various solutes, emphasizing it&quot;, &quot; &quot;_Create a title and a short scene in a kitchen setting, where a chef explains that water can dissolve many solutes, making it a&quot;]</td></tr><tr><td>&hellip;</td><td>&hellip;</td><td>&hellip;</td><td>&hellip;</td><td>&hellip;</td><td>&hellip;</td><td>&hellip;</td><td>&hellip;</td><td>&hellip;</td></tr><tr><td>9978</td><td>1</td><td>&quot;All amphibians…</td><td>&quot;Translate this…</td><td>&quot;Sure, here&#x27;s t…</td><td>&quot;&lt;s&gt;[INST] You …</td><td>&quot; Simplify and …</td><td>0.484933</td><td>[&quot; &quot;Translate the given text about amphibians&#x27; organ systems into simpler, plain English while maintaining the original tone and preserving the key information&quot;, &quot; &quot;Translate the given text into plain English, maintaining the original tone and using simpler language to explain the shared organ system and its functions in amph&quot;]</td></tr><tr><td>9979</td><td>262</td><td>&quot;Facilitated di…</td><td>&quot;Transform this…</td><td>&quot;**Outline of a…</td><td>&quot;&lt;s&gt;[INST] You …</td><td>&quot; Transform the…</td><td>0.645402</td><td>[&quot; &quot;Rewrite the given text in the form of a presentation for a new social movement called &#x27;Facilitated Diffusion Awareness&#x27;.&quot;&quot;, &quot; distinctive tone of a call to action or advocacy, and a shift in context from a biological explanation to a social movement focused on &quot;Facilitated&quot;]</td></tr><tr><td>9980</td><td>95</td><td>&quot;Mitosis occurs…</td><td>&quot;Rephrase this …</td><td>&quot;Sure, here&#x27;s t…</td><td>&quot;&lt;s&gt;[INST] You …</td><td>&quot; Make this sen…</td><td>0.6527217</td><td>[&quot; &quot;Rewrite the given sentence to make it more reader-friendly by using includes instead of occurs in and keeping the number and names of the phases&quot;, &quot; &quot;Rewrite the given sentence in a more reader-friendly way, maintaining the original meaning.&quot;\n",
       "\n",
       "This prompt focuses on making the sentence more&quot;]</td></tr><tr><td>9981</td><td>452</td><td>&quot;This odd-looki…</td><td>&quot;Express this c…</td><td>&quot;Sure, here&#x27;s t…</td><td>&quot;&lt;s&gt;[INST] You …</td><td>&quot;Transform this…</td><td>0.6246274</td><td>[&quot;&quot;Write a conversation between two aliens discussing the defense mechanisms of the puffer fish on Earth, focusing on its ability to expand its belly and produce&quot;, &quot; &quot;_Write a conversational text between two aliens discussing the unique defensive mechanisms of the Earth&#x27;s puffer fish._&quot;\n",
       "\n",
       "This prompt focuses&quot;]</td></tr><tr><td>9982</td><td>570</td><td>&quot;Symptoms of ch…</td><td>&quot;Imagine this a…</td><td>&quot;## Future News…</td><td>&quot;&lt;s&gt;[INST] You …</td><td>&quot; Rewrite the f…</td><td>0.472537</td><td>[&quot; &quot;Write a news article about the persistence of Chlamydia as a health issue despite being curable with antibiotics, focusing on the&quot;, &quot;1. Write a news article about the persistence of Chlamydia as a health issue despite being treatable, focusing on its asymptomatic&quot;]</td></tr></tbody></table></div>"
      ],
      "text/plain": [
       "shape: (9_983, 9)\n",
       "┌───────────┬───────────┬───────────┬───────────┬───┬───────────┬───────────┬───────────┬──────────┐\n",
       "│ Unnamed:  ┆ Unnamed:  ┆ original_ ┆ gt_rewrit ┆ … ┆ input     ┆ old_rewri ┆ score     ┆ rewrite_ │\n",
       "│ 0.1       ┆ 0         ┆ text      ┆ e_prompt  ┆   ┆ ---       ┆ te_prompt ┆ ---       ┆ prompts  │\n",
       "│ ---       ┆ ---       ┆ ---       ┆ ---       ┆   ┆ str       ┆ ---       ┆ f64       ┆ ---      │\n",
       "│ i64       ┆ i64       ┆ str       ┆ str       ┆   ┆           ┆ str       ┆           ┆ list[str │\n",
       "│           ┆           ┆           ┆           ┆   ┆           ┆           ┆           ┆ ]        │\n",
       "╞═══════════╪═══════════╪═══════════╪═══════════╪═══╪═══════════╪═══════════╪═══════════╪══════════╡\n",
       "│ 39        ┆ 394       ┆ Figure    ┆ Turn this ┆ … ┆ <s>[INST] ┆ I cannot  ┆ 0.5094235 ┆ [\"       │\n",
       "│           ┆           ┆ 9.3 This  ┆ paragraph ┆   ┆ You are   ┆ fulfill   ┆           ┆ \"Given a │\n",
       "│           ┆           ┆ car is in ┆ into a    ┆   ┆ an expert ┆ this      ┆           ┆ text des │\n",
       "│           ┆           ┆ dynami…   ┆ set o…    ┆   ┆ in \"…     ┆ prompt    ┆           ┆ cribing  │\n",
       "│           ┆           ┆           ┆           ┆   ┆           ┆ as…       ┆           ┆ a ph…    │\n",
       "│ 40        ┆ 453       ┆ Science   ┆ Create a  ┆ … ┆ <s>[INST] ┆ Write a   ┆ 0.588464  ┆ [\"       │\n",
       "│           ┆           ┆ rests on  ┆ dialogue  ┆   ┆ You are   ┆ script    ┆           ┆ \"Write a │\n",
       "│           ┆           ┆ evidence  ┆ between   ┆   ┆ an expert ┆ for a     ┆           ┆ dialog   │\n",
       "│           ┆           ┆ and lo…   ┆ two ch…   ┆   ┆ in \"…     ┆ dialogue  ┆           ┆ between  │\n",
       "│           ┆           ┆           ┆           ┆   ┆           ┆ b…        ┆           ┆ two c…   │\n",
       "│ 41        ┆ 53        ┆ Introduct ┆ Rewrite   ┆ … ┆ <s>[INST] ┆ Simplify  ┆ 0.5603066 ┆ [\"       │\n",
       "│           ┆           ┆ ion The   ┆ the       ┆   ┆ You are   ┆ the text, ┆           ┆ \"Rewrite │\n",
       "│           ┆           ┆ environme ┆ following ┆   ┆ an expert ┆ making it ┆           ┆ the foll │\n",
       "│           ┆           ┆ nt con…   ┆ sentence  ┆   ┆ in \"…     ┆ ea…       ┆           ┆ owing    │\n",
       "│           ┆           ┆           ┆ i…        ┆   ┆           ┆           ┆           ┆ text i…  │\n",
       "│ 42        ┆ 388       ┆ Figure    ┆ Translate ┆ … ┆ <s>[INST] ┆ Rewrite   ┆ 0.462264  ┆ [\" \"Tran │\n",
       "│           ┆           ┆ 21.13 Ext ┆ this      ┆   ┆ You are   ┆ the text  ┆           ┆ slate    │\n",
       "│           ┆           ┆ inction   ┆ technical ┆   ┆ an expert ┆ in        ┆           ┆ the foll │\n",
       "│           ┆           ┆ intensit… ┆ sentenc…  ┆   ┆ in \"…     ┆ simple,   ┆           ┆ owing    │\n",
       "│           ┆           ┆           ┆           ┆   ┆           ┆ cle…      ┆           ┆ acad…    │\n",
       "│ 43        ┆ 695       ┆ Not only  ┆ Turn this ┆ … ┆ <s>[INST] ┆ Provide a ┆ 0.6735528 ┆ [\"       │\n",
       "│           ┆           ┆ salt, but ┆ into a    ┆   ┆ You are   ┆ dialogue  ┆           ┆ \"Develop │\n",
       "│           ┆           ┆ many      ┆ script    ┆   ┆ an expert ┆ script    ┆           ┆ a script │\n",
       "│           ┆           ┆ other so… ┆ for a co… ┆   ┆ in \"…     ┆ for a…    ┆           ┆ for a    │\n",
       "│           ┆           ┆           ┆           ┆   ┆           ┆           ┆           ┆ scene…   │\n",
       "│ …         ┆ …         ┆ …         ┆ …         ┆ … ┆ …         ┆ …         ┆ …         ┆ …        │\n",
       "│ 9978      ┆ 1         ┆ All amphi ┆ Translate ┆ … ┆ <s>[INST] ┆ Simplify  ┆ 0.484933  ┆ [\" \"Tran │\n",
       "│           ┆           ┆ bians     ┆ this      ┆   ┆ You are   ┆ and       ┆           ┆ slate    │\n",
       "│           ┆           ┆ have dige ┆ technical ┆   ┆ an expert ┆ clarify   ┆           ┆ the      │\n",
       "│           ┆           ┆ stive, e… ┆ sentenc…  ┆   ┆ in \"…     ┆ this      ┆           ┆ given    │\n",
       "│           ┆           ┆           ┆           ┆   ┆           ┆ scien…    ┆           ┆ text     │\n",
       "│           ┆           ┆           ┆           ┆   ┆           ┆           ┆           ┆ abo…     │\n",
       "│ 9979      ┆ 262       ┆ Facilitat ┆ Transform ┆ … ┆ <s>[INST] ┆ Transform ┆ 0.645402  ┆ [\"       │\n",
       "│           ┆           ┆ ed        ┆ this info ┆   ┆ You are   ┆ the text  ┆           ┆ \"Rewrite │\n",
       "│           ┆           ┆ diffusion ┆ rmation   ┆   ┆ an expert ┆ into a    ┆           ┆ the      │\n",
       "│           ┆           ┆ is the    ┆ into …    ┆   ┆ in \"…     ┆ propo…    ┆           ┆ given    │\n",
       "│           ┆           ┆ dif…      ┆           ┆   ┆           ┆           ┆           ┆ text in  │\n",
       "│           ┆           ┆           ┆           ┆   ┆           ┆           ┆           ┆ th…      │\n",
       "│ 9980      ┆ 95        ┆ Mitosis   ┆ Rephrase  ┆ … ┆ <s>[INST] ┆ Make this ┆ 0.6527217 ┆ [\"       │\n",
       "│           ┆           ┆ occurs in ┆ this      ┆   ┆ You are   ┆ sentence  ┆           ┆ \"Rewrite │\n",
       "│           ┆           ┆ four      ┆ sentence  ┆   ┆ an expert ┆ more      ┆           ┆ the      │\n",
       "│           ┆           ┆ phases,   ┆ to be     ┆   ┆ in \"…     ┆ convers…  ┆           ┆ given    │\n",
       "│           ┆           ┆ c…        ┆ mor…      ┆   ┆           ┆           ┆           ┆ sentence │\n",
       "│           ┆           ┆           ┆           ┆   ┆           ┆           ┆           ┆ t…       │\n",
       "│ 9981      ┆ 452       ┆ This odd- ┆ Express   ┆ … ┆ <s>[INST] ┆ Transform ┆ 0.6246274 ┆ [\"\"Write │\n",
       "│           ┆           ┆ looking   ┆ this      ┆   ┆ You are   ┆ this text ┆           ┆ a conver │\n",
       "│           ┆           ┆ creature  ┆ concept   ┆   ┆ an expert ┆ into a    ┆           ┆ sation   │\n",
       "│           ┆           ┆ is a f…   ┆ as if it  ┆   ┆ in \"…     ┆ dialo…    ┆           ┆ between  │\n",
       "│           ┆           ┆           ┆ we…       ┆   ┆           ┆           ┆           ┆ …        │\n",
       "│ 9982      ┆ 570       ┆ Symptoms  ┆ Imagine   ┆ … ┆ <s>[INST] ┆  Rewrite  ┆ 0.472537  ┆ [\"       │\n",
       "│           ┆           ┆ of        ┆ this as a ┆   ┆ You are   ┆ the       ┆           ┆ \"Write a │\n",
       "│           ┆           ┆ chlamydia ┆ news      ┆   ┆ an expert ┆ following ┆           ┆ news     │\n",
       "│           ┆           ┆ may       ┆ report    ┆   ┆ in \"…     ┆ text in   ┆           ┆ article  │\n",
       "│           ┆           ┆ includ…   ┆ fr…       ┆   ┆           ┆ a…        ┆           ┆ about t… │\n",
       "└───────────┴───────────┴───────────┴───────────┴───┴───────────┴───────────┴───────────┴──────────┘"
      ]
     },
     "execution_count": 34,
     "metadata": {},
     "output_type": "execute_result"
    }
   ],
   "source": [
    "df"
   ]
  },
  {
   "cell_type": "code",
   "execution_count": 35,
   "metadata": {},
   "outputs": [],
   "source": [
    "df = df.with_columns(\n",
    "    pl.col(\"rewrite_prompts\").list.get(0).alias(\"rewrite_prompt_1\"),\n",
    "    pl.col(\"rewrite_prompts\").list.get(1).alias(\"rewrite_prompt_2\")\n",
    ").to_pandas()"
   ]
  },
  {
   "cell_type": "code",
   "execution_count": 40,
   "metadata": {},
   "outputs": [
    {
     "ename": "KeyError",
     "evalue": "'prompt_select'",
     "output_type": "error",
     "traceback": [
      "\u001b[0;31m---------------------------------------------------------------------------\u001b[0m",
      "\u001b[0;31mKeyError\u001b[0m                                  Traceback (most recent call last)",
      "File \u001b[0;32m/gpfs/projects/KozakovGroup/yiyang/miniconda3/envs/lm/lib/python3.9/site-packages/pandas/core/indexes/base.py:3805\u001b[0m, in \u001b[0;36mIndex.get_loc\u001b[0;34m(self, key)\u001b[0m\n\u001b[1;32m   3804\u001b[0m \u001b[38;5;28;01mtry\u001b[39;00m:\n\u001b[0;32m-> 3805\u001b[0m     \u001b[38;5;28;01mreturn\u001b[39;00m \u001b[38;5;28;43mself\u001b[39;49m\u001b[38;5;241;43m.\u001b[39;49m\u001b[43m_engine\u001b[49m\u001b[38;5;241;43m.\u001b[39;49m\u001b[43mget_loc\u001b[49m\u001b[43m(\u001b[49m\u001b[43mcasted_key\u001b[49m\u001b[43m)\u001b[49m\n\u001b[1;32m   3806\u001b[0m \u001b[38;5;28;01mexcept\u001b[39;00m \u001b[38;5;167;01mKeyError\u001b[39;00m \u001b[38;5;28;01mas\u001b[39;00m err:\n",
      "File \u001b[0;32mindex.pyx:167\u001b[0m, in \u001b[0;36mpandas._libs.index.IndexEngine.get_loc\u001b[0;34m()\u001b[0m\n",
      "File \u001b[0;32mindex.pyx:196\u001b[0m, in \u001b[0;36mpandas._libs.index.IndexEngine.get_loc\u001b[0;34m()\u001b[0m\n",
      "File \u001b[0;32mpandas/_libs/hashtable_class_helper.pxi:7081\u001b[0m, in \u001b[0;36mpandas._libs.hashtable.PyObjectHashTable.get_item\u001b[0;34m()\u001b[0m\n",
      "File \u001b[0;32mpandas/_libs/hashtable_class_helper.pxi:7089\u001b[0m, in \u001b[0;36mpandas._libs.hashtable.PyObjectHashTable.get_item\u001b[0;34m()\u001b[0m\n",
      "\u001b[0;31mKeyError\u001b[0m: 'prompt_select'",
      "\nThe above exception was the direct cause of the following exception:\n",
      "\u001b[0;31mKeyError\u001b[0m                                  Traceback (most recent call last)",
      "Cell \u001b[0;32mIn[40], line 19\u001b[0m\n\u001b[1;32m     17\u001b[0m df[\u001b[38;5;124m'\u001b[39m\u001b[38;5;124mscore_1\u001b[39m\u001b[38;5;124m'\u001b[39m] \u001b[38;5;241m=\u001b[39m df\u001b[38;5;241m.\u001b[39mapply(\u001b[38;5;28;01mlambda\u001b[39;00m row: calc_prompt_similarity(row, \u001b[38;5;124m'\u001b[39m\u001b[38;5;124mrewrite_prompt_1\u001b[39m\u001b[38;5;124m'\u001b[39m), axis\u001b[38;5;241m=\u001b[39m\u001b[38;5;241m1\u001b[39m)\n\u001b[1;32m     18\u001b[0m df[\u001b[38;5;124m'\u001b[39m\u001b[38;5;124mscore_2\u001b[39m\u001b[38;5;124m'\u001b[39m] \u001b[38;5;241m=\u001b[39m df\u001b[38;5;241m.\u001b[39mapply(\u001b[38;5;28;01mlambda\u001b[39;00m row: calc_prompt_similarity(row, \u001b[38;5;124m'\u001b[39m\u001b[38;5;124mrewrite_prompt_2\u001b[39m\u001b[38;5;124m'\u001b[39m), axis\u001b[38;5;241m=\u001b[39m\u001b[38;5;241m1\u001b[39m)\n\u001b[0;32m---> 19\u001b[0m df[\u001b[38;5;124m'\u001b[39m\u001b[38;5;124mprompt_select_score\u001b[39m\u001b[38;5;124m'\u001b[39m] \u001b[38;5;241m=\u001b[39m \u001b[43mdf\u001b[49m\u001b[38;5;241;43m.\u001b[39;49m\u001b[43mapply\u001b[49m\u001b[43m(\u001b[49m\u001b[38;5;28;43;01mlambda\u001b[39;49;00m\u001b[43m \u001b[49m\u001b[43mrow\u001b[49m\u001b[43m:\u001b[49m\u001b[43m \u001b[49m\u001b[43mcalc_prompt_similarity\u001b[49m\u001b[43m(\u001b[49m\u001b[43mrow\u001b[49m\u001b[43m,\u001b[49m\u001b[43m \u001b[49m\u001b[38;5;124;43m'\u001b[39;49m\u001b[38;5;124;43mprompt_select\u001b[39;49m\u001b[38;5;124;43m'\u001b[39;49m\u001b[43m)\u001b[49m\u001b[43m,\u001b[49m\u001b[43m \u001b[49m\u001b[43maxis\u001b[49m\u001b[38;5;241;43m=\u001b[39;49m\u001b[38;5;241;43m1\u001b[39;49m\u001b[43m)\u001b[49m\n",
      "File \u001b[0;32m/gpfs/projects/KozakovGroup/yiyang/miniconda3/envs/lm/lib/python3.9/site-packages/pandas/core/frame.py:10361\u001b[0m, in \u001b[0;36mDataFrame.apply\u001b[0;34m(self, func, axis, raw, result_type, args, by_row, engine, engine_kwargs, **kwargs)\u001b[0m\n\u001b[1;32m  10347\u001b[0m \u001b[38;5;28;01mfrom\u001b[39;00m \u001b[38;5;21;01mpandas\u001b[39;00m\u001b[38;5;21;01m.\u001b[39;00m\u001b[38;5;21;01mcore\u001b[39;00m\u001b[38;5;21;01m.\u001b[39;00m\u001b[38;5;21;01mapply\u001b[39;00m \u001b[38;5;28;01mimport\u001b[39;00m frame_apply\n\u001b[1;32m  10349\u001b[0m op \u001b[38;5;241m=\u001b[39m frame_apply(\n\u001b[1;32m  10350\u001b[0m     \u001b[38;5;28mself\u001b[39m,\n\u001b[1;32m  10351\u001b[0m     func\u001b[38;5;241m=\u001b[39mfunc,\n\u001b[0;32m   (...)\u001b[0m\n\u001b[1;32m  10359\u001b[0m     kwargs\u001b[38;5;241m=\u001b[39mkwargs,\n\u001b[1;32m  10360\u001b[0m )\n\u001b[0;32m> 10361\u001b[0m \u001b[38;5;28;01mreturn\u001b[39;00m \u001b[43mop\u001b[49m\u001b[38;5;241;43m.\u001b[39;49m\u001b[43mapply\u001b[49m\u001b[43m(\u001b[49m\u001b[43m)\u001b[49m\u001b[38;5;241m.\u001b[39m__finalize__(\u001b[38;5;28mself\u001b[39m, method\u001b[38;5;241m=\u001b[39m\u001b[38;5;124m\"\u001b[39m\u001b[38;5;124mapply\u001b[39m\u001b[38;5;124m\"\u001b[39m)\n",
      "File \u001b[0;32m/gpfs/projects/KozakovGroup/yiyang/miniconda3/envs/lm/lib/python3.9/site-packages/pandas/core/apply.py:916\u001b[0m, in \u001b[0;36mFrameApply.apply\u001b[0;34m(self)\u001b[0m\n\u001b[1;32m    913\u001b[0m \u001b[38;5;28;01melif\u001b[39;00m \u001b[38;5;28mself\u001b[39m\u001b[38;5;241m.\u001b[39mraw:\n\u001b[1;32m    914\u001b[0m     \u001b[38;5;28;01mreturn\u001b[39;00m \u001b[38;5;28mself\u001b[39m\u001b[38;5;241m.\u001b[39mapply_raw(engine\u001b[38;5;241m=\u001b[39m\u001b[38;5;28mself\u001b[39m\u001b[38;5;241m.\u001b[39mengine, engine_kwargs\u001b[38;5;241m=\u001b[39m\u001b[38;5;28mself\u001b[39m\u001b[38;5;241m.\u001b[39mengine_kwargs)\n\u001b[0;32m--> 916\u001b[0m \u001b[38;5;28;01mreturn\u001b[39;00m \u001b[38;5;28;43mself\u001b[39;49m\u001b[38;5;241;43m.\u001b[39;49m\u001b[43mapply_standard\u001b[49m\u001b[43m(\u001b[49m\u001b[43m)\u001b[49m\n",
      "File \u001b[0;32m/gpfs/projects/KozakovGroup/yiyang/miniconda3/envs/lm/lib/python3.9/site-packages/pandas/core/apply.py:1063\u001b[0m, in \u001b[0;36mFrameApply.apply_standard\u001b[0;34m(self)\u001b[0m\n\u001b[1;32m   1061\u001b[0m \u001b[38;5;28;01mdef\u001b[39;00m \u001b[38;5;21mapply_standard\u001b[39m(\u001b[38;5;28mself\u001b[39m):\n\u001b[1;32m   1062\u001b[0m     \u001b[38;5;28;01mif\u001b[39;00m \u001b[38;5;28mself\u001b[39m\u001b[38;5;241m.\u001b[39mengine \u001b[38;5;241m==\u001b[39m \u001b[38;5;124m\"\u001b[39m\u001b[38;5;124mpython\u001b[39m\u001b[38;5;124m\"\u001b[39m:\n\u001b[0;32m-> 1063\u001b[0m         results, res_index \u001b[38;5;241m=\u001b[39m \u001b[38;5;28;43mself\u001b[39;49m\u001b[38;5;241;43m.\u001b[39;49m\u001b[43mapply_series_generator\u001b[49m\u001b[43m(\u001b[49m\u001b[43m)\u001b[49m\n\u001b[1;32m   1064\u001b[0m     \u001b[38;5;28;01melse\u001b[39;00m:\n\u001b[1;32m   1065\u001b[0m         results, res_index \u001b[38;5;241m=\u001b[39m \u001b[38;5;28mself\u001b[39m\u001b[38;5;241m.\u001b[39mapply_series_numba()\n",
      "File \u001b[0;32m/gpfs/projects/KozakovGroup/yiyang/miniconda3/envs/lm/lib/python3.9/site-packages/pandas/core/apply.py:1081\u001b[0m, in \u001b[0;36mFrameApply.apply_series_generator\u001b[0;34m(self)\u001b[0m\n\u001b[1;32m   1078\u001b[0m \u001b[38;5;28;01mwith\u001b[39;00m option_context(\u001b[38;5;124m\"\u001b[39m\u001b[38;5;124mmode.chained_assignment\u001b[39m\u001b[38;5;124m\"\u001b[39m, \u001b[38;5;28;01mNone\u001b[39;00m):\n\u001b[1;32m   1079\u001b[0m     \u001b[38;5;28;01mfor\u001b[39;00m i, v \u001b[38;5;129;01min\u001b[39;00m \u001b[38;5;28menumerate\u001b[39m(series_gen):\n\u001b[1;32m   1080\u001b[0m         \u001b[38;5;66;03m# ignore SettingWithCopy here in case the user mutates\u001b[39;00m\n\u001b[0;32m-> 1081\u001b[0m         results[i] \u001b[38;5;241m=\u001b[39m \u001b[38;5;28;43mself\u001b[39;49m\u001b[38;5;241;43m.\u001b[39;49m\u001b[43mfunc\u001b[49m\u001b[43m(\u001b[49m\u001b[43mv\u001b[49m\u001b[43m,\u001b[49m\u001b[43m \u001b[49m\u001b[38;5;241;43m*\u001b[39;49m\u001b[38;5;28;43mself\u001b[39;49m\u001b[38;5;241;43m.\u001b[39;49m\u001b[43margs\u001b[49m\u001b[43m,\u001b[49m\u001b[43m \u001b[49m\u001b[38;5;241;43m*\u001b[39;49m\u001b[38;5;241;43m*\u001b[39;49m\u001b[38;5;28;43mself\u001b[39;49m\u001b[38;5;241;43m.\u001b[39;49m\u001b[43mkwargs\u001b[49m\u001b[43m)\u001b[49m\n\u001b[1;32m   1082\u001b[0m         \u001b[38;5;28;01mif\u001b[39;00m \u001b[38;5;28misinstance\u001b[39m(results[i], ABCSeries):\n\u001b[1;32m   1083\u001b[0m             \u001b[38;5;66;03m# If we have a view on v, we need to make a copy because\u001b[39;00m\n\u001b[1;32m   1084\u001b[0m             \u001b[38;5;66;03m#  series_generator will swap out the underlying data\u001b[39;00m\n\u001b[1;32m   1085\u001b[0m             results[i] \u001b[38;5;241m=\u001b[39m results[i]\u001b[38;5;241m.\u001b[39mcopy(deep\u001b[38;5;241m=\u001b[39m\u001b[38;5;28;01mFalse\u001b[39;00m)\n",
      "Cell \u001b[0;32mIn[40], line 19\u001b[0m, in \u001b[0;36m<lambda>\u001b[0;34m(row)\u001b[0m\n\u001b[1;32m     17\u001b[0m df[\u001b[38;5;124m'\u001b[39m\u001b[38;5;124mscore_1\u001b[39m\u001b[38;5;124m'\u001b[39m] \u001b[38;5;241m=\u001b[39m df\u001b[38;5;241m.\u001b[39mapply(\u001b[38;5;28;01mlambda\u001b[39;00m row: calc_prompt_similarity(row, \u001b[38;5;124m'\u001b[39m\u001b[38;5;124mrewrite_prompt_1\u001b[39m\u001b[38;5;124m'\u001b[39m), axis\u001b[38;5;241m=\u001b[39m\u001b[38;5;241m1\u001b[39m)\n\u001b[1;32m     18\u001b[0m df[\u001b[38;5;124m'\u001b[39m\u001b[38;5;124mscore_2\u001b[39m\u001b[38;5;124m'\u001b[39m] \u001b[38;5;241m=\u001b[39m df\u001b[38;5;241m.\u001b[39mapply(\u001b[38;5;28;01mlambda\u001b[39;00m row: calc_prompt_similarity(row, \u001b[38;5;124m'\u001b[39m\u001b[38;5;124mrewrite_prompt_2\u001b[39m\u001b[38;5;124m'\u001b[39m), axis\u001b[38;5;241m=\u001b[39m\u001b[38;5;241m1\u001b[39m)\n\u001b[0;32m---> 19\u001b[0m df[\u001b[38;5;124m'\u001b[39m\u001b[38;5;124mprompt_select_score\u001b[39m\u001b[38;5;124m'\u001b[39m] \u001b[38;5;241m=\u001b[39m df\u001b[38;5;241m.\u001b[39mapply(\u001b[38;5;28;01mlambda\u001b[39;00m row: \u001b[43mcalc_prompt_similarity\u001b[49m\u001b[43m(\u001b[49m\u001b[43mrow\u001b[49m\u001b[43m,\u001b[49m\u001b[43m \u001b[49m\u001b[38;5;124;43m'\u001b[39;49m\u001b[38;5;124;43mprompt_select\u001b[39;49m\u001b[38;5;124;43m'\u001b[39;49m\u001b[43m)\u001b[49m, axis\u001b[38;5;241m=\u001b[39m\u001b[38;5;241m1\u001b[39m)\n",
      "Cell \u001b[0;32mIn[40], line 15\u001b[0m, in \u001b[0;36mcalc_prompt_similarity\u001b[0;34m(row, rewrite_prompt_col)\u001b[0m\n\u001b[1;32m     14\u001b[0m \u001b[38;5;28;01mdef\u001b[39;00m \u001b[38;5;21mcalc_prompt_similarity\u001b[39m(row, rewrite_prompt_col):\n\u001b[0;32m---> 15\u001b[0m     \u001b[38;5;28;01mreturn\u001b[39;00m get_sharpened_cosine_similarity(row[\u001b[38;5;124m'\u001b[39m\u001b[38;5;124mgt_rewrite_prompt\u001b[39m\u001b[38;5;124m'\u001b[39m], \u001b[43mrow\u001b[49m\u001b[43m[\u001b[49m\u001b[38;5;124;43m'\u001b[39;49m\u001b[38;5;132;43;01m{}\u001b[39;49;00m\u001b[38;5;124;43m'\u001b[39;49m\u001b[38;5;241;43m.\u001b[39;49m\u001b[43mformat\u001b[49m\u001b[43m(\u001b[49m\u001b[43mrewrite_prompt_col\u001b[49m\u001b[43m)\u001b[49m\u001b[43m]\u001b[49m)\n",
      "File \u001b[0;32m/gpfs/projects/KozakovGroup/yiyang/miniconda3/envs/lm/lib/python3.9/site-packages/pandas/core/series.py:1112\u001b[0m, in \u001b[0;36mSeries.__getitem__\u001b[0;34m(self, key)\u001b[0m\n\u001b[1;32m   1109\u001b[0m     \u001b[38;5;28;01mreturn\u001b[39;00m \u001b[38;5;28mself\u001b[39m\u001b[38;5;241m.\u001b[39m_values[key]\n\u001b[1;32m   1111\u001b[0m \u001b[38;5;28;01melif\u001b[39;00m key_is_scalar:\n\u001b[0;32m-> 1112\u001b[0m     \u001b[38;5;28;01mreturn\u001b[39;00m \u001b[38;5;28;43mself\u001b[39;49m\u001b[38;5;241;43m.\u001b[39;49m\u001b[43m_get_value\u001b[49m\u001b[43m(\u001b[49m\u001b[43mkey\u001b[49m\u001b[43m)\u001b[49m\n\u001b[1;32m   1114\u001b[0m \u001b[38;5;66;03m# Convert generator to list before going through hashable part\u001b[39;00m\n\u001b[1;32m   1115\u001b[0m \u001b[38;5;66;03m# (We will iterate through the generator there to check for slices)\u001b[39;00m\n\u001b[1;32m   1116\u001b[0m \u001b[38;5;28;01mif\u001b[39;00m is_iterator(key):\n",
      "File \u001b[0;32m/gpfs/projects/KozakovGroup/yiyang/miniconda3/envs/lm/lib/python3.9/site-packages/pandas/core/series.py:1228\u001b[0m, in \u001b[0;36mSeries._get_value\u001b[0;34m(self, label, takeable)\u001b[0m\n\u001b[1;32m   1225\u001b[0m     \u001b[38;5;28;01mreturn\u001b[39;00m \u001b[38;5;28mself\u001b[39m\u001b[38;5;241m.\u001b[39m_values[label]\n\u001b[1;32m   1227\u001b[0m \u001b[38;5;66;03m# Similar to Index.get_value, but we do not fall back to positional\u001b[39;00m\n\u001b[0;32m-> 1228\u001b[0m loc \u001b[38;5;241m=\u001b[39m \u001b[38;5;28;43mself\u001b[39;49m\u001b[38;5;241;43m.\u001b[39;49m\u001b[43mindex\u001b[49m\u001b[38;5;241;43m.\u001b[39;49m\u001b[43mget_loc\u001b[49m\u001b[43m(\u001b[49m\u001b[43mlabel\u001b[49m\u001b[43m)\u001b[49m\n\u001b[1;32m   1230\u001b[0m \u001b[38;5;28;01mif\u001b[39;00m is_integer(loc):\n\u001b[1;32m   1231\u001b[0m     \u001b[38;5;28;01mreturn\u001b[39;00m \u001b[38;5;28mself\u001b[39m\u001b[38;5;241m.\u001b[39m_values[loc]\n",
      "File \u001b[0;32m/gpfs/projects/KozakovGroup/yiyang/miniconda3/envs/lm/lib/python3.9/site-packages/pandas/core/indexes/base.py:3812\u001b[0m, in \u001b[0;36mIndex.get_loc\u001b[0;34m(self, key)\u001b[0m\n\u001b[1;32m   3807\u001b[0m     \u001b[38;5;28;01mif\u001b[39;00m \u001b[38;5;28misinstance\u001b[39m(casted_key, \u001b[38;5;28mslice\u001b[39m) \u001b[38;5;129;01mor\u001b[39;00m (\n\u001b[1;32m   3808\u001b[0m         \u001b[38;5;28misinstance\u001b[39m(casted_key, abc\u001b[38;5;241m.\u001b[39mIterable)\n\u001b[1;32m   3809\u001b[0m         \u001b[38;5;129;01mand\u001b[39;00m \u001b[38;5;28many\u001b[39m(\u001b[38;5;28misinstance\u001b[39m(x, \u001b[38;5;28mslice\u001b[39m) \u001b[38;5;28;01mfor\u001b[39;00m x \u001b[38;5;129;01min\u001b[39;00m casted_key)\n\u001b[1;32m   3810\u001b[0m     ):\n\u001b[1;32m   3811\u001b[0m         \u001b[38;5;28;01mraise\u001b[39;00m InvalidIndexError(key)\n\u001b[0;32m-> 3812\u001b[0m     \u001b[38;5;28;01mraise\u001b[39;00m \u001b[38;5;167;01mKeyError\u001b[39;00m(key) \u001b[38;5;28;01mfrom\u001b[39;00m \u001b[38;5;21;01merr\u001b[39;00m\n\u001b[1;32m   3813\u001b[0m \u001b[38;5;28;01mexcept\u001b[39;00m \u001b[38;5;167;01mTypeError\u001b[39;00m:\n\u001b[1;32m   3814\u001b[0m     \u001b[38;5;66;03m# If we have a listlike key, _check_indexing_error will raise\u001b[39;00m\n\u001b[1;32m   3815\u001b[0m     \u001b[38;5;66;03m#  InvalidIndexError. Otherwise we fall through and re-raise\u001b[39;00m\n\u001b[1;32m   3816\u001b[0m     \u001b[38;5;66;03m#  the TypeError.\u001b[39;00m\n\u001b[1;32m   3817\u001b[0m     \u001b[38;5;28mself\u001b[39m\u001b[38;5;241m.\u001b[39m_check_indexing_error(key)\n",
      "\u001b[0;31mKeyError\u001b[0m: 'prompt_select'"
     ]
    }
   ],
   "source": [
    "import numpy as np\n",
    "from sentence_transformers import SentenceTransformer, util\n",
    "from sklearn.metrics.pairwise import cosine_similarity\n",
    "\n",
    "st_model = SentenceTransformer('sentence-transformers/sentence-t5-base')\n",
    "\n",
    "def get_sharpened_cosine_similarity(text1, text2):\n",
    "    embeddings1 = st_model.encode(text1)\n",
    "    embeddings2 = st_model.encode(text2)\n",
    "    cosine_score = util.cos_sim(embeddings1, embeddings2)\n",
    "    # print(cosine_score) \n",
    "    return (cosine_score[0] ** 3).numpy()[0]\n",
    "\n",
    "def calc_prompt_similarity(row, rewrite_prompt_col):\n",
    "    return get_sharpened_cosine_similarity(row['gt_rewrite_prompt'], row['{}'.format(rewrite_prompt_col)])\n",
    "\n",
    "df['score_1'] = df.apply(lambda row: calc_prompt_similarity(row, 'rewrite_prompt_1'), axis=1)\n",
    "df['score_2'] = df.apply(lambda row: calc_prompt_similarity(row, 'rewrite_prompt_2'), axis=1)\n",
    "df['prompt_select_score'] = df.apply(lambda row: calc_prompt_similarity(row, 'prompt_select'), axis=1)\n"
   ]
  },
  {
   "cell_type": "code",
   "execution_count": 46,
   "metadata": {},
   "outputs": [
    {
     "data": {
      "text/html": [
       "<div><style>\n",
       ".dataframe > thead > tr,\n",
       ".dataframe > tbody > tr {\n",
       "  text-align: right;\n",
       "  white-space: pre-wrap;\n",
       "}\n",
       "</style>\n",
       "<small>shape: (9_983, 14)</small><table border=\"1\" class=\"dataframe\"><thead><tr><th></th><th>Unnamed: 0.1</th><th>Unnamed: 0</th><th>original_text</th><th>gt_rewrite_prompt</th><th>rewritten_text</th><th>input</th><th>old_rewrite_prompt</th><th>score</th><th>rewrite_prompts</th><th>rewrite_prompt_1</th><th>rewrite_prompt_2</th><th>score_1</th><th>score_2</th></tr><tr><td>i64</td><td>i64</td><td>i64</td><td>str</td><td>str</td><td>str</td><td>str</td><td>str</td><td>f64</td><td>str</td><td>str</td><td>str</td><td>f64</td><td>f64</td></tr></thead><tbody><tr><td>0</td><td>39</td><td>394</td><td>&quot;Figure 9.3 Thi…</td><td>&quot;Turn this para…</td><td>&quot;The text does …</td><td>&quot;&lt;s&gt;[INST] You …</td><td>&quot; I cannot fulf…</td><td>0.5094235</td><td>&quot;[&#x27; &quot;Given a te…</td><td>&quot; &quot;Given a text…</td><td>&quot; &quot;Given a text…</td><td>0.8248</td><td>0.7688948</td></tr><tr><td>1</td><td>40</td><td>453</td><td>&quot;Science rests …</td><td>&quot;Create a dialo…</td><td>&quot;Sure, here&#x27;s t…</td><td>&quot;&lt;s&gt;[INST] You …</td><td>&quot; Write a scrip…</td><td>0.588464</td><td>&quot;[&#x27; &quot;Write a di…</td><td>&quot; &quot;Write a dial…</td><td>&quot; &quot;Write a dial…</td><td>0.719603</td><td>0.7275696</td></tr><tr><td>2</td><td>41</td><td>53</td><td>&quot;Introduction T…</td><td>&quot;Rewrite the fo…</td><td>&quot;Sure, here&#x27;s t…</td><td>&quot;&lt;s&gt;[INST] You …</td><td>&quot; Simplify the …</td><td>0.5603066</td><td>&quot;[&#x27; &quot;Rewrite th…</td><td>&quot; &quot;Rewrite the …</td><td>&quot; &quot;_Describe th…</td><td>0.7252815</td><td>0.582107</td></tr><tr><td>3</td><td>42</td><td>388</td><td>&quot;Figure 21.13 E…</td><td>&quot;Translate this…</td><td>&quot;Sure, here&#x27;s t…</td><td>&quot;&lt;s&gt;[INST] You …</td><td>&quot; Rewrite the t…</td><td>0.462264</td><td>&quot;[&#x27; &quot;Translate …</td><td>&quot; &quot;Translate th…</td><td>&quot; &quot;Translate th…</td><td>0.488263</td><td>0.570618</td></tr><tr><td>4</td><td>43</td><td>695</td><td>&quot;Not only salt,…</td><td>&quot;Turn this into…</td><td>&quot;## The Salty K…</td><td>&quot;&lt;s&gt;[INST] You …</td><td>&quot; Provide a dia…</td><td>0.6735528</td><td>&quot;[&#x27; &quot;Develop a …</td><td>&quot; &quot;Develop a sc…</td><td>&quot; &quot;_Create a ti…</td><td>0.7012007</td><td>0.581864</td></tr><tr><td>&hellip;</td><td>&hellip;</td><td>&hellip;</td><td>&hellip;</td><td>&hellip;</td><td>&hellip;</td><td>&hellip;</td><td>&hellip;</td><td>&hellip;</td><td>&hellip;</td><td>&hellip;</td><td>&hellip;</td><td>&hellip;</td><td>&hellip;</td></tr><tr><td>9978</td><td>9978</td><td>1</td><td>&quot;All amphibians…</td><td>&quot;Translate this…</td><td>&quot;Sure, here&#x27;s t…</td><td>&quot;&lt;s&gt;[INST] You …</td><td>&quot; Simplify and …</td><td>0.484933</td><td>&quot;[&#x27; &quot;Translate …</td><td>&quot; &quot;Translate th…</td><td>&quot; &quot;Translate th…</td><td>0.579571</td><td>0.648444</td></tr><tr><td>9979</td><td>9979</td><td>262</td><td>&quot;Facilitated di…</td><td>&quot;Transform this…</td><td>&quot;**Outline of a…</td><td>&quot;&lt;s&gt;[INST] You …</td><td>&quot; Transform the…</td><td>0.645402</td><td>&quot;[&#x27; &quot;Rewrite th…</td><td>&quot; &quot;Rewrite the …</td><td>&quot; distinctive t…</td><td>0.7594546</td><td>0.602455</td></tr><tr><td>9980</td><td>9980</td><td>95</td><td>&quot;Mitosis occurs…</td><td>&quot;Rephrase this …</td><td>&quot;Sure, here&#x27;s t…</td><td>&quot;&lt;s&gt;[INST] You …</td><td>&quot; Make this sen…</td><td>0.6527217</td><td>&quot;[&#x27; &quot;Rewrite th…</td><td>&quot; &quot;Rewrite the …</td><td>&quot; &quot;Rewrite the …</td><td>0.7855944</td><td>0.8298072</td></tr><tr><td>9981</td><td>9981</td><td>452</td><td>&quot;This odd-looki…</td><td>&quot;Express this c…</td><td>&quot;Sure, here&#x27;s t…</td><td>&quot;&lt;s&gt;[INST] You …</td><td>&quot;Transform this…</td><td>0.6246274</td><td>&quot;[&#x27;&quot;Write a con…</td><td>&quot;&quot;Write a conve…</td><td>&quot; &quot;_Write a con…</td><td>0.666589</td><td>0.6311319</td></tr><tr><td>9982</td><td>9982</td><td>570</td><td>&quot;Symptoms of ch…</td><td>&quot;Imagine this a…</td><td>&quot;## Future News…</td><td>&quot;&lt;s&gt;[INST] You …</td><td>&quot; Rewrite the f…</td><td>0.472537</td><td>&quot;[&#x27; &quot;Write a ne…</td><td>&quot; &quot;Write a news…</td><td>&quot;1. Write a new…</td><td>0.445868</td><td>0.427009</td></tr></tbody></table></div>"
      ],
      "text/plain": [
       "shape: (9_983, 14)\n",
       "┌──────┬────────────┬────────────┬────────────┬───┬────────────┬───────────┬───────────┬───────────┐\n",
       "│      ┆ Unnamed:   ┆ Unnamed: 0 ┆ original_t ┆ … ┆ rewrite_pr ┆ rewrite_p ┆ score_1   ┆ score_2   │\n",
       "│ ---  ┆ 0.1        ┆ ---        ┆ ext        ┆   ┆ ompt_1     ┆ rompt_2   ┆ ---       ┆ ---       │\n",
       "│ i64  ┆ ---        ┆ i64        ┆ ---        ┆   ┆ ---        ┆ ---       ┆ f64       ┆ f64       │\n",
       "│      ┆ i64        ┆            ┆ str        ┆   ┆ str        ┆ str       ┆           ┆           │\n",
       "╞══════╪════════════╪════════════╪════════════╪═══╪════════════╪═══════════╪═══════════╪═══════════╡\n",
       "│ 0    ┆ 39         ┆ 394        ┆ Figure 9.3 ┆ … ┆ \"Given a   ┆ \"Given a  ┆ 0.8248    ┆ 0.7688948 │\n",
       "│      ┆            ┆            ┆ This car   ┆   ┆ text       ┆ text desc ┆           ┆           │\n",
       "│      ┆            ┆            ┆ is in      ┆   ┆ describing ┆ ribing    ┆           ┆           │\n",
       "│      ┆            ┆            ┆ dynami…    ┆   ┆ a phys…    ┆ physic…   ┆           ┆           │\n",
       "│ 1    ┆ 40         ┆ 453        ┆ Science    ┆ … ┆ \"Write a   ┆ \"Write a  ┆ 0.719603  ┆ 0.7275696 │\n",
       "│      ┆            ┆            ┆ rests on   ┆   ┆ dialog     ┆ dialogue  ┆           ┆           │\n",
       "│      ┆            ┆            ┆ evidence   ┆   ┆ between    ┆ between   ┆           ┆           │\n",
       "│      ┆            ┆            ┆ and lo…    ┆   ┆ two cha…   ┆ two c…    ┆           ┆           │\n",
       "│ 2    ┆ 41         ┆ 53         ┆ Introducti ┆ … ┆ \"Rewrite   ┆ \"_Describ ┆ 0.7252815 ┆ 0.582107  │\n",
       "│      ┆            ┆            ┆ on The env ┆   ┆ the        ┆ e the     ┆           ┆           │\n",
       "│      ┆            ┆            ┆ ironment   ┆   ┆ following  ┆ function  ┆           ┆           │\n",
       "│      ┆            ┆            ┆ con…       ┆   ┆ text int…  ┆ and com…  ┆           ┆           │\n",
       "│ 3    ┆ 42         ┆ 388        ┆ Figure     ┆ … ┆ \"Translate ┆ \"Translat ┆ 0.488263  ┆ 0.570618  │\n",
       "│      ┆            ┆            ┆ 21.13      ┆   ┆ the        ┆ e the     ┆           ┆           │\n",
       "│      ┆            ┆            ┆ Extinction ┆   ┆ following  ┆ following ┆           ┆           │\n",
       "│      ┆            ┆            ┆ intensit…  ┆   ┆ academ…    ┆ scient…   ┆           ┆           │\n",
       "│ 4    ┆ 43         ┆ 695        ┆ Not only   ┆ … ┆ \"Develop a ┆ \"_Create  ┆ 0.7012007 ┆ 0.581864  │\n",
       "│      ┆            ┆            ┆ salt, but  ┆   ┆ script for ┆ a title   ┆           ┆           │\n",
       "│      ┆            ┆            ┆ many other ┆   ┆ a scene i… ┆ and a     ┆           ┆           │\n",
       "│      ┆            ┆            ┆ so…        ┆   ┆            ┆ short sc… ┆           ┆           │\n",
       "│ …    ┆ …          ┆ …          ┆ …          ┆ … ┆ …          ┆ …         ┆ …         ┆ …         │\n",
       "│ 9978 ┆ 9978       ┆ 1          ┆ All        ┆ … ┆ \"Translate ┆ \"Translat ┆ 0.579571  ┆ 0.648444  │\n",
       "│      ┆            ┆            ┆ amphibians ┆   ┆ the given  ┆ e the     ┆           ┆           │\n",
       "│      ┆            ┆            ┆ have       ┆   ┆ text       ┆ given     ┆           ┆           │\n",
       "│      ┆            ┆            ┆ digestive, ┆   ┆ about…     ┆ text into ┆           ┆           │\n",
       "│      ┆            ┆            ┆ e…         ┆   ┆            ┆ …         ┆           ┆           │\n",
       "│ 9979 ┆ 9979       ┆ 262        ┆ Facilitate ┆ … ┆ \"Rewrite   ┆ distincti ┆ 0.7594546 ┆ 0.602455  │\n",
       "│      ┆            ┆            ┆ d          ┆   ┆ the given  ┆ ve tone   ┆           ┆           │\n",
       "│      ┆            ┆            ┆ diffusion  ┆   ┆ text in    ┆ of a call ┆           ┆           │\n",
       "│      ┆            ┆            ┆ is the     ┆   ┆ the …      ┆ to a…     ┆           ┆           │\n",
       "│      ┆            ┆            ┆ dif…       ┆   ┆            ┆           ┆           ┆           │\n",
       "│ 9980 ┆ 9980       ┆ 95         ┆ Mitosis    ┆ … ┆ \"Rewrite   ┆ \"Rewrite  ┆ 0.7855944 ┆ 0.8298072 │\n",
       "│      ┆            ┆            ┆ occurs in  ┆   ┆ the given  ┆ the given ┆           ┆           │\n",
       "│      ┆            ┆            ┆ four       ┆   ┆ sentence   ┆ sentence  ┆           ┆           │\n",
       "│      ┆            ┆            ┆ phases, c… ┆   ┆ to …       ┆ in …      ┆           ┆           │\n",
       "│ 9981 ┆ 9981       ┆ 452        ┆ This odd-l ┆ … ┆ \"Write a   ┆ \"_Write a ┆ 0.666589  ┆ 0.6311319 │\n",
       "│      ┆            ┆            ┆ ooking     ┆   ┆ conversati ┆ conversat ┆           ┆           │\n",
       "│      ┆            ┆            ┆ creature   ┆   ┆ on between ┆ ional     ┆           ┆           │\n",
       "│      ┆            ┆            ┆ is a f…    ┆   ┆ tw…        ┆ text b…   ┆           ┆           │\n",
       "│ 9982 ┆ 9982       ┆ 570        ┆ Symptoms   ┆ … ┆ \"Write a   ┆ 1. Write  ┆ 0.445868  ┆ 0.427009  │\n",
       "│      ┆            ┆            ┆ of         ┆   ┆ news       ┆ a news    ┆           ┆           │\n",
       "│      ┆            ┆            ┆ chlamydia  ┆   ┆ article    ┆ article   ┆           ┆           │\n",
       "│      ┆            ┆            ┆ may        ┆   ┆ about the… ┆ about th… ┆           ┆           │\n",
       "│      ┆            ┆            ┆ includ…    ┆   ┆            ┆           ┆           ┆           │\n",
       "└──────┴────────────┴────────────┴────────────┴───┴────────────┴───────────┴───────────┴───────────┘"
      ]
     },
     "execution_count": 46,
     "metadata": {},
     "output_type": "execute_result"
    }
   ],
   "source": [
    "df"
   ]
  },
  {
   "cell_type": "code",
   "execution_count": 47,
   "metadata": {},
   "outputs": [],
   "source": [
    "df.write_csv('./data/exp_test/multi_n_with_lora3/multi_n_scored.csv')"
   ]
  },
  {
   "cell_type": "markdown",
   "metadata": {},
   "source": [
    "## prepare for DPO training"
   ]
  },
  {
   "cell_type": "code",
   "execution_count": 48,
   "metadata": {},
   "outputs": [],
   "source": [
    "df = pl.read_csv('./data/exp_test/multi_n_with_lora3/multi_n_scored.csv')"
   ]
  },
  {
   "cell_type": "code",
   "execution_count": 45,
   "metadata": {},
   "outputs": [
    {
     "ename": "ColumnNotFoundError",
     "evalue": "unable to find column \"prompt_select_score\"; valid columns: [\"\", \"Unnamed: 0.1\", \"Unnamed: 0\", \"original_text\", \"gt_rewrite_prompt\", \"rewritten_text\", \"input\", \"old_rewrite_prompt\", \"score\", \"rewrite_prompts\", \"rewrite_prompt_1\", \"rewrite_prompt_2\", \"score_1\", \"score_2\"]\n\nError originated just after this operation:\nDF [\"\", \"Unnamed: 0.1\", \"Unnamed: 0\", \"original_text\"]; PROJECT */14 COLUMNS; SELECTION: \"None\"",
     "output_type": "error",
     "traceback": [
      "\u001b[0;31m---------------------------------------------------------------------------\u001b[0m",
      "\u001b[0;31mColumnNotFoundError\u001b[0m                       Traceback (most recent call last)",
      "Cell \u001b[0;32mIn[45], line 1\u001b[0m\n\u001b[0;32m----> 1\u001b[0m \u001b[43mdf\u001b[49m\u001b[38;5;241;43m.\u001b[39;49m\u001b[43mfilter\u001b[49m\u001b[43m(\u001b[49m\n\u001b[1;32m      2\u001b[0m \u001b[43m    \u001b[49m\u001b[43mpl\u001b[49m\u001b[38;5;241;43m.\u001b[39;49m\u001b[43mcol\u001b[49m\u001b[43m(\u001b[49m\u001b[38;5;124;43m'\u001b[39;49m\u001b[38;5;124;43mprompt_select_score\u001b[39;49m\u001b[38;5;124;43m'\u001b[39;49m\u001b[43m)\u001b[49m\u001b[43m \u001b[49m\u001b[38;5;241;43m<\u001b[39;49m\u001b[43m \u001b[49m\u001b[38;5;241;43m0.99\u001b[39;49m\u001b[43m    \u001b[49m\n\u001b[1;32m      3\u001b[0m \u001b[43m)\u001b[49m\u001b[38;5;241m.\u001b[39mwith_columns(\n\u001b[1;32m      4\u001b[0m     pl\u001b[38;5;241m.\u001b[39mwhen(\n\u001b[1;32m      5\u001b[0m         pl\u001b[38;5;241m.\u001b[39mcol(\u001b[38;5;124m\"\u001b[39m\u001b[38;5;124mscore\u001b[39m\u001b[38;5;124m\"\u001b[39m) \u001b[38;5;241m>\u001b[39m pl\u001b[38;5;241m.\u001b[39mcol(\u001b[38;5;124m\"\u001b[39m\u001b[38;5;124mscore_1\u001b[39m\u001b[38;5;124m\"\u001b[39m),\n\u001b[1;32m      6\u001b[0m         pl\u001b[38;5;241m.\u001b[39mcol(\u001b[38;5;124m\"\u001b[39m\u001b[38;5;124mscore\u001b[39m\u001b[38;5;124m\"\u001b[39m) \u001b[38;5;241m>\u001b[39m pl\u001b[38;5;241m.\u001b[39mcol(\u001b[38;5;124m\"\u001b[39m\u001b[38;5;124mscore_2\u001b[39m\u001b[38;5;124m\"\u001b[39m)\n\u001b[1;32m      7\u001b[0m     )\u001b[38;5;241m.\u001b[39mthen(        \n\u001b[1;32m      8\u001b[0m         pl\u001b[38;5;241m.\u001b[39mcol(\u001b[38;5;124m\"\u001b[39m\u001b[38;5;124mold_rewrite_prompt\u001b[39m\u001b[38;5;124m\"\u001b[39m)\u001b[38;5;241m.\u001b[39malias(\u001b[38;5;124m\"\u001b[39m\u001b[38;5;124mchosen\u001b[39m\u001b[38;5;124m\"\u001b[39m)\n\u001b[1;32m      9\u001b[0m     )\n\u001b[1;32m     10\u001b[0m     \u001b[38;5;241m.\u001b[39mwhen(\n\u001b[1;32m     11\u001b[0m         pl\u001b[38;5;241m.\u001b[39mcol(\u001b[38;5;124m\"\u001b[39m\u001b[38;5;124mscore_1\u001b[39m\u001b[38;5;124m\"\u001b[39m) \u001b[38;5;241m>\u001b[39m pl\u001b[38;5;241m.\u001b[39mcol(\u001b[38;5;124m\"\u001b[39m\u001b[38;5;124mscore\u001b[39m\u001b[38;5;124m\"\u001b[39m),\n\u001b[1;32m     12\u001b[0m         pl\u001b[38;5;241m.\u001b[39mcol(\u001b[38;5;124m\"\u001b[39m\u001b[38;5;124mscore_1\u001b[39m\u001b[38;5;124m\"\u001b[39m) \u001b[38;5;241m>\u001b[39m pl\u001b[38;5;241m.\u001b[39mcol(\u001b[38;5;124m\"\u001b[39m\u001b[38;5;124mscore_2\u001b[39m\u001b[38;5;124m\"\u001b[39m)\n\u001b[1;32m     13\u001b[0m     )\u001b[38;5;241m.\u001b[39mthen(\n\u001b[1;32m     14\u001b[0m         pl\u001b[38;5;241m.\u001b[39mcol(\u001b[38;5;124m\"\u001b[39m\u001b[38;5;124mrewrite_prompt_1\u001b[39m\u001b[38;5;124m\"\u001b[39m)\u001b[38;5;241m.\u001b[39malias(\u001b[38;5;124m\"\u001b[39m\u001b[38;5;124mchosen\u001b[39m\u001b[38;5;124m\"\u001b[39m)\n\u001b[1;32m     15\u001b[0m     )\u001b[38;5;241m.\u001b[39motherwise(\n\u001b[1;32m     16\u001b[0m         pl\u001b[38;5;241m.\u001b[39mcol(\u001b[38;5;124m\"\u001b[39m\u001b[38;5;124mrewrite_prompt_2\u001b[39m\u001b[38;5;124m\"\u001b[39m)\u001b[38;5;241m.\u001b[39malias(\u001b[38;5;124m\"\u001b[39m\u001b[38;5;124mchosen\u001b[39m\u001b[38;5;124m\"\u001b[39m)\n\u001b[1;32m     17\u001b[0m     ),\n\u001b[1;32m     18\u001b[0m     pl\u001b[38;5;241m.\u001b[39mwhen(\n\u001b[1;32m     19\u001b[0m         pl\u001b[38;5;241m.\u001b[39mcol(\u001b[38;5;124m\"\u001b[39m\u001b[38;5;124mscore\u001b[39m\u001b[38;5;124m\"\u001b[39m) \u001b[38;5;241m<\u001b[39m pl\u001b[38;5;241m.\u001b[39mcol(\u001b[38;5;124m\"\u001b[39m\u001b[38;5;124mscore_1\u001b[39m\u001b[38;5;124m\"\u001b[39m),\n\u001b[1;32m     20\u001b[0m         pl\u001b[38;5;241m.\u001b[39mcol(\u001b[38;5;124m\"\u001b[39m\u001b[38;5;124mscore\u001b[39m\u001b[38;5;124m\"\u001b[39m) \u001b[38;5;241m<\u001b[39m pl\u001b[38;5;241m.\u001b[39mcol(\u001b[38;5;124m\"\u001b[39m\u001b[38;5;124mscore_2\u001b[39m\u001b[38;5;124m\"\u001b[39m)\n\u001b[1;32m     21\u001b[0m     )\u001b[38;5;241m.\u001b[39mthen(        \n\u001b[1;32m     22\u001b[0m         pl\u001b[38;5;241m.\u001b[39mcol(\u001b[38;5;124m\"\u001b[39m\u001b[38;5;124mold_rewrite_prompt\u001b[39m\u001b[38;5;124m\"\u001b[39m)\u001b[38;5;241m.\u001b[39malias(\u001b[38;5;124m\"\u001b[39m\u001b[38;5;124mrejected\u001b[39m\u001b[38;5;124m\"\u001b[39m)\n\u001b[1;32m     23\u001b[0m     )\n\u001b[1;32m     24\u001b[0m     \u001b[38;5;241m.\u001b[39mwhen(\n\u001b[1;32m     25\u001b[0m         pl\u001b[38;5;241m.\u001b[39mcol(\u001b[38;5;124m\"\u001b[39m\u001b[38;5;124mscore_1\u001b[39m\u001b[38;5;124m\"\u001b[39m) \u001b[38;5;241m<\u001b[39m pl\u001b[38;5;241m.\u001b[39mcol(\u001b[38;5;124m\"\u001b[39m\u001b[38;5;124mscore\u001b[39m\u001b[38;5;124m\"\u001b[39m),\n\u001b[1;32m     26\u001b[0m         pl\u001b[38;5;241m.\u001b[39mcol(\u001b[38;5;124m\"\u001b[39m\u001b[38;5;124mscore_1\u001b[39m\u001b[38;5;124m\"\u001b[39m) \u001b[38;5;241m<\u001b[39m pl\u001b[38;5;241m.\u001b[39mcol(\u001b[38;5;124m\"\u001b[39m\u001b[38;5;124mscore_2\u001b[39m\u001b[38;5;124m\"\u001b[39m)\n\u001b[1;32m     27\u001b[0m     )\u001b[38;5;241m.\u001b[39mthen(\n\u001b[1;32m     28\u001b[0m         pl\u001b[38;5;241m.\u001b[39mcol(\u001b[38;5;124m\"\u001b[39m\u001b[38;5;124mrewrite_prompt_1\u001b[39m\u001b[38;5;124m\"\u001b[39m)\u001b[38;5;241m.\u001b[39malias(\u001b[38;5;124m\"\u001b[39m\u001b[38;5;124mrejected\u001b[39m\u001b[38;5;124m\"\u001b[39m)\n\u001b[1;32m     29\u001b[0m     )\u001b[38;5;241m.\u001b[39motherwise(\n\u001b[1;32m     30\u001b[0m         pl\u001b[38;5;241m.\u001b[39mcol(\u001b[38;5;124m\"\u001b[39m\u001b[38;5;124mrewrite_prompt_2\u001b[39m\u001b[38;5;124m\"\u001b[39m)\u001b[38;5;241m.\u001b[39malias(\u001b[38;5;124m\"\u001b[39m\u001b[38;5;124mrejected\u001b[39m\u001b[38;5;124m\"\u001b[39m)\n\u001b[1;32m     31\u001b[0m     )\n\u001b[1;32m     32\u001b[0m )\u001b[38;5;241m.\u001b[39mwrite_csv(\u001b[38;5;124m'\u001b[39m\u001b[38;5;124m./data/exp_test/multi_n_with_lora3/multi_n_selected.csv\u001b[39m\u001b[38;5;124m'\u001b[39m)\n",
      "File \u001b[0;32m/gpfs/projects/KozakovGroup/yiyang/miniconda3/envs/lm/lib/python3.9/site-packages/polars/dataframe/frame.py:3740\u001b[0m, in \u001b[0;36mDataFrame.filter\u001b[0;34m(self, *predicates, **constraints)\u001b[0m\n\u001b[1;32m   3642\u001b[0m \u001b[38;5;28;01mdef\u001b[39;00m \u001b[38;5;21mfilter\u001b[39m(\n\u001b[1;32m   3643\u001b[0m     \u001b[38;5;28mself\u001b[39m,\n\u001b[1;32m   3644\u001b[0m     \u001b[38;5;241m*\u001b[39mpredicates: (\n\u001b[0;32m   (...)\u001b[0m\n\u001b[1;32m   3651\u001b[0m     \u001b[38;5;241m*\u001b[39m\u001b[38;5;241m*\u001b[39mconstraints: Any,\n\u001b[1;32m   3652\u001b[0m ) \u001b[38;5;241m-\u001b[39m\u001b[38;5;241m>\u001b[39m DataFrame:\n\u001b[1;32m   3653\u001b[0m \u001b[38;5;250m    \u001b[39m\u001b[38;5;124;03m\"\"\"\u001b[39;00m\n\u001b[1;32m   3654\u001b[0m \u001b[38;5;124;03m    Filter the rows in the DataFrame based on one or more predicate expressions.\u001b[39;00m\n\u001b[1;32m   3655\u001b[0m \n\u001b[0;32m   (...)\u001b[0m\n\u001b[1;32m   3738\u001b[0m \u001b[38;5;124;03m    └─────┴─────┴─────┘\u001b[39;00m\n\u001b[1;32m   3739\u001b[0m \u001b[38;5;124;03m    \"\"\"\u001b[39;00m\n\u001b[0;32m-> 3740\u001b[0m     \u001b[38;5;28;01mreturn\u001b[39;00m \u001b[38;5;28;43mself\u001b[39;49m\u001b[38;5;241;43m.\u001b[39;49m\u001b[43mlazy\u001b[49m\u001b[43m(\u001b[49m\u001b[43m)\u001b[49m\u001b[38;5;241;43m.\u001b[39;49m\u001b[43mfilter\u001b[49m\u001b[43m(\u001b[49m\u001b[38;5;241;43m*\u001b[39;49m\u001b[43mpredicates\u001b[49m\u001b[43m,\u001b[49m\u001b[43m \u001b[49m\u001b[38;5;241;43m*\u001b[39;49m\u001b[38;5;241;43m*\u001b[39;49m\u001b[43mconstraints\u001b[49m\u001b[43m)\u001b[49m\u001b[38;5;241;43m.\u001b[39;49m\u001b[43mcollect\u001b[49m\u001b[43m(\u001b[49m\u001b[43m_eager\u001b[49m\u001b[38;5;241;43m=\u001b[39;49m\u001b[38;5;28;43;01mTrue\u001b[39;49;00m\u001b[43m)\u001b[49m\n",
      "File \u001b[0;32m/gpfs/projects/KozakovGroup/yiyang/miniconda3/envs/lm/lib/python3.9/site-packages/polars/lazyframe/frame.py:1683\u001b[0m, in \u001b[0;36mLazyFrame.collect\u001b[0;34m(self, type_coercion, predicate_pushdown, projection_pushdown, simplify_expression, slice_pushdown, comm_subplan_elim, comm_subexpr_elim, no_optimization, streaming, background, _eager)\u001b[0m\n\u001b[1;32m   1680\u001b[0m \u001b[38;5;28;01mif\u001b[39;00m background:\n\u001b[1;32m   1681\u001b[0m     \u001b[38;5;28;01mreturn\u001b[39;00m InProcessQuery(ldf\u001b[38;5;241m.\u001b[39mcollect_concurrently())\n\u001b[0;32m-> 1683\u001b[0m \u001b[38;5;28;01mreturn\u001b[39;00m wrap_df(\u001b[43mldf\u001b[49m\u001b[38;5;241;43m.\u001b[39;49m\u001b[43mcollect\u001b[49m\u001b[43m(\u001b[49m\u001b[43m)\u001b[49m)\n",
      "\u001b[0;31mColumnNotFoundError\u001b[0m: unable to find column \"prompt_select_score\"; valid columns: [\"\", \"Unnamed: 0.1\", \"Unnamed: 0\", \"original_text\", \"gt_rewrite_prompt\", \"rewritten_text\", \"input\", \"old_rewrite_prompt\", \"score\", \"rewrite_prompts\", \"rewrite_prompt_1\", \"rewrite_prompt_2\", \"score_1\", \"score_2\"]\n\nError originated just after this operation:\nDF [\"\", \"Unnamed: 0.1\", \"Unnamed: 0\", \"original_text\"]; PROJECT */14 COLUMNS; SELECTION: \"None\""
     ]
    }
   ],
   "source": [
    "df.filter(\n",
    "    pl.col('prompt_select_score') < 0.99    \n",
    ").with_columns(\n",
    "    pl.when(\n",
    "        pl.col(\"score\") > pl.col(\"score_1\"),\n",
    "        pl.col(\"score\") > pl.col(\"score_2\")\n",
    "    ).then(        \n",
    "        pl.col(\"old_rewrite_prompt\").alias(\"chosen\")\n",
    "    )\n",
    "    .when(\n",
    "        pl.col(\"score_1\") > pl.col(\"score\"),\n",
    "        pl.col(\"score_1\") > pl.col(\"score_2\")\n",
    "    ).then(\n",
    "        pl.col(\"rewrite_prompt_1\").alias(\"chosen\")\n",
    "    ).otherwise(\n",
    "        pl.col(\"rewrite_prompt_2\").alias(\"chosen\")\n",
    "    ),\n",
    "    pl.when(\n",
    "        pl.col(\"score\") < pl.col(\"score_1\"),\n",
    "        pl.col(\"score\") < pl.col(\"score_2\")\n",
    "    ).then(        \n",
    "        pl.col(\"old_rewrite_prompt\").alias(\"rejected\")\n",
    "    )\n",
    "    .when(\n",
    "        pl.col(\"score_1\") < pl.col(\"score\"),\n",
    "        pl.col(\"score_1\") < pl.col(\"score_2\")\n",
    "    ).then(\n",
    "        pl.col(\"rewrite_prompt_1\").alias(\"rejected\")\n",
    "    ).otherwise(\n",
    "        pl.col(\"rewrite_prompt_2\").alias(\"rejected\")\n",
    "    )\n",
    ").write_csv('./data/exp_test/multi_n_with_lora3/multi_n_selected.csv')"
   ]
  },
  {
   "cell_type": "code",
   "execution_count": 49,
   "metadata": {},
   "outputs": [
    {
     "data": {
      "text/html": [
       "<div><style>\n",
       ".dataframe > thead > tr,\n",
       ".dataframe > tbody > tr {\n",
       "  text-align: right;\n",
       "  white-space: pre-wrap;\n",
       "}\n",
       "</style>\n",
       "<small>shape: (9_983, 14)</small><table border=\"1\" class=\"dataframe\"><thead><tr><th></th><th>Unnamed: 0.1</th><th>Unnamed: 0</th><th>original_text</th><th>gt_rewrite_prompt</th><th>rewritten_text</th><th>input</th><th>old_rewrite_prompt</th><th>score</th><th>rewrite_prompts</th><th>rewrite_prompt_1</th><th>rewrite_prompt_2</th><th>score_1</th><th>score_2</th></tr><tr><td>i64</td><td>i64</td><td>i64</td><td>str</td><td>str</td><td>str</td><td>str</td><td>str</td><td>f64</td><td>str</td><td>str</td><td>str</td><td>f64</td><td>f64</td></tr></thead><tbody><tr><td>0</td><td>39</td><td>394</td><td>&quot;Figure 9.3 Thi…</td><td>&quot;Turn this para…</td><td>&quot;The text does …</td><td>&quot;&lt;s&gt;[INST] You …</td><td>&quot; I cannot fulf…</td><td>0.5094235</td><td>&quot;[&#x27; &quot;Given a te…</td><td>&quot; &quot;Given a text…</td><td>&quot; &quot;Given a text…</td><td>0.8248</td><td>0.7688948</td></tr><tr><td>1</td><td>40</td><td>453</td><td>&quot;Science rests …</td><td>&quot;Create a dialo…</td><td>&quot;Sure, here&#x27;s t…</td><td>&quot;&lt;s&gt;[INST] You …</td><td>&quot; Write a scrip…</td><td>0.588464</td><td>&quot;[&#x27; &quot;Write a di…</td><td>&quot; &quot;Write a dial…</td><td>&quot; &quot;Write a dial…</td><td>0.719603</td><td>0.7275696</td></tr><tr><td>2</td><td>41</td><td>53</td><td>&quot;Introduction T…</td><td>&quot;Rewrite the fo…</td><td>&quot;Sure, here&#x27;s t…</td><td>&quot;&lt;s&gt;[INST] You …</td><td>&quot; Simplify the …</td><td>0.5603066</td><td>&quot;[&#x27; &quot;Rewrite th…</td><td>&quot; &quot;Rewrite the …</td><td>&quot; &quot;_Describe th…</td><td>0.7252815</td><td>0.582107</td></tr><tr><td>3</td><td>42</td><td>388</td><td>&quot;Figure 21.13 E…</td><td>&quot;Translate this…</td><td>&quot;Sure, here&#x27;s t…</td><td>&quot;&lt;s&gt;[INST] You …</td><td>&quot; Rewrite the t…</td><td>0.462264</td><td>&quot;[&#x27; &quot;Translate …</td><td>&quot; &quot;Translate th…</td><td>&quot; &quot;Translate th…</td><td>0.488263</td><td>0.570618</td></tr><tr><td>4</td><td>43</td><td>695</td><td>&quot;Not only salt,…</td><td>&quot;Turn this into…</td><td>&quot;## The Salty K…</td><td>&quot;&lt;s&gt;[INST] You …</td><td>&quot; Provide a dia…</td><td>0.6735528</td><td>&quot;[&#x27; &quot;Develop a …</td><td>&quot; &quot;Develop a sc…</td><td>&quot; &quot;_Create a ti…</td><td>0.7012007</td><td>0.581864</td></tr><tr><td>&hellip;</td><td>&hellip;</td><td>&hellip;</td><td>&hellip;</td><td>&hellip;</td><td>&hellip;</td><td>&hellip;</td><td>&hellip;</td><td>&hellip;</td><td>&hellip;</td><td>&hellip;</td><td>&hellip;</td><td>&hellip;</td><td>&hellip;</td></tr><tr><td>9978</td><td>9978</td><td>1</td><td>&quot;All amphibians…</td><td>&quot;Translate this…</td><td>&quot;Sure, here&#x27;s t…</td><td>&quot;&lt;s&gt;[INST] You …</td><td>&quot; Simplify and …</td><td>0.484933</td><td>&quot;[&#x27; &quot;Translate …</td><td>&quot; &quot;Translate th…</td><td>&quot; &quot;Translate th…</td><td>0.579571</td><td>0.648444</td></tr><tr><td>9979</td><td>9979</td><td>262</td><td>&quot;Facilitated di…</td><td>&quot;Transform this…</td><td>&quot;**Outline of a…</td><td>&quot;&lt;s&gt;[INST] You …</td><td>&quot; Transform the…</td><td>0.645402</td><td>&quot;[&#x27; &quot;Rewrite th…</td><td>&quot; &quot;Rewrite the …</td><td>&quot; distinctive t…</td><td>0.7594546</td><td>0.602455</td></tr><tr><td>9980</td><td>9980</td><td>95</td><td>&quot;Mitosis occurs…</td><td>&quot;Rephrase this …</td><td>&quot;Sure, here&#x27;s t…</td><td>&quot;&lt;s&gt;[INST] You …</td><td>&quot; Make this sen…</td><td>0.6527217</td><td>&quot;[&#x27; &quot;Rewrite th…</td><td>&quot; &quot;Rewrite the …</td><td>&quot; &quot;Rewrite the …</td><td>0.7855944</td><td>0.8298072</td></tr><tr><td>9981</td><td>9981</td><td>452</td><td>&quot;This odd-looki…</td><td>&quot;Express this c…</td><td>&quot;Sure, here&#x27;s t…</td><td>&quot;&lt;s&gt;[INST] You …</td><td>&quot;Transform this…</td><td>0.6246274</td><td>&quot;[&#x27;&quot;Write a con…</td><td>&quot;&quot;Write a conve…</td><td>&quot; &quot;_Write a con…</td><td>0.666589</td><td>0.6311319</td></tr><tr><td>9982</td><td>9982</td><td>570</td><td>&quot;Symptoms of ch…</td><td>&quot;Imagine this a…</td><td>&quot;## Future News…</td><td>&quot;&lt;s&gt;[INST] You …</td><td>&quot; Rewrite the f…</td><td>0.472537</td><td>&quot;[&#x27; &quot;Write a ne…</td><td>&quot; &quot;Write a news…</td><td>&quot;1. Write a new…</td><td>0.445868</td><td>0.427009</td></tr></tbody></table></div>"
      ],
      "text/plain": [
       "shape: (9_983, 14)\n",
       "┌──────┬────────────┬────────────┬────────────┬───┬────────────┬───────────┬───────────┬───────────┐\n",
       "│      ┆ Unnamed:   ┆ Unnamed: 0 ┆ original_t ┆ … ┆ rewrite_pr ┆ rewrite_p ┆ score_1   ┆ score_2   │\n",
       "│ ---  ┆ 0.1        ┆ ---        ┆ ext        ┆   ┆ ompt_1     ┆ rompt_2   ┆ ---       ┆ ---       │\n",
       "│ i64  ┆ ---        ┆ i64        ┆ ---        ┆   ┆ ---        ┆ ---       ┆ f64       ┆ f64       │\n",
       "│      ┆ i64        ┆            ┆ str        ┆   ┆ str        ┆ str       ┆           ┆           │\n",
       "╞══════╪════════════╪════════════╪════════════╪═══╪════════════╪═══════════╪═══════════╪═══════════╡\n",
       "│ 0    ┆ 39         ┆ 394        ┆ Figure 9.3 ┆ … ┆ \"Given a   ┆ \"Given a  ┆ 0.8248    ┆ 0.7688948 │\n",
       "│      ┆            ┆            ┆ This car   ┆   ┆ text       ┆ text desc ┆           ┆           │\n",
       "│      ┆            ┆            ┆ is in      ┆   ┆ describing ┆ ribing    ┆           ┆           │\n",
       "│      ┆            ┆            ┆ dynami…    ┆   ┆ a phys…    ┆ physic…   ┆           ┆           │\n",
       "│ 1    ┆ 40         ┆ 453        ┆ Science    ┆ … ┆ \"Write a   ┆ \"Write a  ┆ 0.719603  ┆ 0.7275696 │\n",
       "│      ┆            ┆            ┆ rests on   ┆   ┆ dialog     ┆ dialogue  ┆           ┆           │\n",
       "│      ┆            ┆            ┆ evidence   ┆   ┆ between    ┆ between   ┆           ┆           │\n",
       "│      ┆            ┆            ┆ and lo…    ┆   ┆ two cha…   ┆ two c…    ┆           ┆           │\n",
       "│ 2    ┆ 41         ┆ 53         ┆ Introducti ┆ … ┆ \"Rewrite   ┆ \"_Describ ┆ 0.7252815 ┆ 0.582107  │\n",
       "│      ┆            ┆            ┆ on The env ┆   ┆ the        ┆ e the     ┆           ┆           │\n",
       "│      ┆            ┆            ┆ ironment   ┆   ┆ following  ┆ function  ┆           ┆           │\n",
       "│      ┆            ┆            ┆ con…       ┆   ┆ text int…  ┆ and com…  ┆           ┆           │\n",
       "│ 3    ┆ 42         ┆ 388        ┆ Figure     ┆ … ┆ \"Translate ┆ \"Translat ┆ 0.488263  ┆ 0.570618  │\n",
       "│      ┆            ┆            ┆ 21.13      ┆   ┆ the        ┆ e the     ┆           ┆           │\n",
       "│      ┆            ┆            ┆ Extinction ┆   ┆ following  ┆ following ┆           ┆           │\n",
       "│      ┆            ┆            ┆ intensit…  ┆   ┆ academ…    ┆ scient…   ┆           ┆           │\n",
       "│ 4    ┆ 43         ┆ 695        ┆ Not only   ┆ … ┆ \"Develop a ┆ \"_Create  ┆ 0.7012007 ┆ 0.581864  │\n",
       "│      ┆            ┆            ┆ salt, but  ┆   ┆ script for ┆ a title   ┆           ┆           │\n",
       "│      ┆            ┆            ┆ many other ┆   ┆ a scene i… ┆ and a     ┆           ┆           │\n",
       "│      ┆            ┆            ┆ so…        ┆   ┆            ┆ short sc… ┆           ┆           │\n",
       "│ …    ┆ …          ┆ …          ┆ …          ┆ … ┆ …          ┆ …         ┆ …         ┆ …         │\n",
       "│ 9978 ┆ 9978       ┆ 1          ┆ All        ┆ … ┆ \"Translate ┆ \"Translat ┆ 0.579571  ┆ 0.648444  │\n",
       "│      ┆            ┆            ┆ amphibians ┆   ┆ the given  ┆ e the     ┆           ┆           │\n",
       "│      ┆            ┆            ┆ have       ┆   ┆ text       ┆ given     ┆           ┆           │\n",
       "│      ┆            ┆            ┆ digestive, ┆   ┆ about…     ┆ text into ┆           ┆           │\n",
       "│      ┆            ┆            ┆ e…         ┆   ┆            ┆ …         ┆           ┆           │\n",
       "│ 9979 ┆ 9979       ┆ 262        ┆ Facilitate ┆ … ┆ \"Rewrite   ┆ distincti ┆ 0.7594546 ┆ 0.602455  │\n",
       "│      ┆            ┆            ┆ d          ┆   ┆ the given  ┆ ve tone   ┆           ┆           │\n",
       "│      ┆            ┆            ┆ diffusion  ┆   ┆ text in    ┆ of a call ┆           ┆           │\n",
       "│      ┆            ┆            ┆ is the     ┆   ┆ the …      ┆ to a…     ┆           ┆           │\n",
       "│      ┆            ┆            ┆ dif…       ┆   ┆            ┆           ┆           ┆           │\n",
       "│ 9980 ┆ 9980       ┆ 95         ┆ Mitosis    ┆ … ┆ \"Rewrite   ┆ \"Rewrite  ┆ 0.7855944 ┆ 0.8298072 │\n",
       "│      ┆            ┆            ┆ occurs in  ┆   ┆ the given  ┆ the given ┆           ┆           │\n",
       "│      ┆            ┆            ┆ four       ┆   ┆ sentence   ┆ sentence  ┆           ┆           │\n",
       "│      ┆            ┆            ┆ phases, c… ┆   ┆ to …       ┆ in …      ┆           ┆           │\n",
       "│ 9981 ┆ 9981       ┆ 452        ┆ This odd-l ┆ … ┆ \"Write a   ┆ \"_Write a ┆ 0.666589  ┆ 0.6311319 │\n",
       "│      ┆            ┆            ┆ ooking     ┆   ┆ conversati ┆ conversat ┆           ┆           │\n",
       "│      ┆            ┆            ┆ creature   ┆   ┆ on between ┆ ional     ┆           ┆           │\n",
       "│      ┆            ┆            ┆ is a f…    ┆   ┆ tw…        ┆ text b…   ┆           ┆           │\n",
       "│ 9982 ┆ 9982       ┆ 570        ┆ Symptoms   ┆ … ┆ \"Write a   ┆ 1. Write  ┆ 0.445868  ┆ 0.427009  │\n",
       "│      ┆            ┆            ┆ of         ┆   ┆ news       ┆ a news    ┆           ┆           │\n",
       "│      ┆            ┆            ┆ chlamydia  ┆   ┆ article    ┆ article   ┆           ┆           │\n",
       "│      ┆            ┆            ┆ may        ┆   ┆ about the… ┆ about th… ┆           ┆           │\n",
       "│      ┆            ┆            ┆ includ…    ┆   ┆            ┆           ┆           ┆           │\n",
       "└──────┴────────────┴────────────┴────────────┴───┴────────────┴───────────┴───────────┴───────────┘"
      ]
     },
     "execution_count": 49,
     "metadata": {},
     "output_type": "execute_result"
    }
   ],
   "source": [
    "df"
   ]
  },
  {
   "cell_type": "code",
   "execution_count": null,
   "metadata": {},
   "outputs": [],
   "source": []
  }
 ],
 "metadata": {
  "kernelspec": {
   "display_name": "Python 3 (ipykernel)",
   "language": "python",
   "name": "python3"
  },
  "language_info": {
   "codemirror_mode": {
    "name": "ipython",
    "version": 3
   },
   "file_extension": ".py",
   "mimetype": "text/x-python",
   "name": "python",
   "nbconvert_exporter": "python",
   "pygments_lexer": "ipython3",
   "version": "3.9.19"
  }
 },
 "nbformat": 4,
 "nbformat_minor": 4
}
