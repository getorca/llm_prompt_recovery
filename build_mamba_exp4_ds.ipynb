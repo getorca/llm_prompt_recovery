{
 "cells": [
  {
   "cell_type": "code",
   "execution_count": 8,
   "metadata": {},
   "outputs": [],
   "source": [
    "import polars as pl\n",
    "from datasets import Dataset"
   ]
  },
  {
   "cell_type": "code",
   "execution_count": 17,
   "metadata": {},
   "outputs": [],
   "source": [
    "df = pl.read_csv('./data/3rd_party_ds/Rewritten texts with Gemma 2B/rewritten_texts_csv.csv', ignore_errors=True).rename(\n",
    "    {\"rewritten_text\": \"generated_text\"}\n",
    ")\n",
    "ds = Dataset.from_list(df.to_dicts()).train_test_split(test_size=0.2)"
   ]
  },
  {
   "cell_type": "code",
   "execution_count": 18,
   "metadata": {},
   "outputs": [
    {
     "data": {
      "text/plain": [
       "DatasetDict({\n",
       "    train: Dataset({\n",
       "        features: ['original_text', 'generated_text', 'prompt', 'final_prompt'],\n",
       "        num_rows: 1545\n",
       "    })\n",
       "    test: Dataset({\n",
       "        features: ['original_text', 'generated_text', 'prompt', 'final_prompt'],\n",
       "        num_rows: 387\n",
       "    })\n",
       "})"
      ]
     },
     "execution_count": 18,
     "metadata": {},
     "output_type": "execute_result"
    }
   ],
   "source": [
    "ds"
   ]
  },
  {
   "cell_type": "code",
   "execution_count": 22,
   "metadata": {},
   "outputs": [],
   "source": [
    "df = pl.read_parquet('./data/train_data_3/complete/complete_ds.parquet').write_csv('./data/train_data_3/complete/complete_ds.csv')"
   ]
  }
 ],
 "metadata": {
  "kernelspec": {
   "display_name": "llm_promt_reversal",
   "language": "python",
   "name": "python3"
  },
  "language_info": {
   "codemirror_mode": {
    "name": "ipython",
    "version": 3
   },
   "file_extension": ".py",
   "mimetype": "text/x-python",
   "name": "python",
   "nbconvert_exporter": "python",
   "pygments_lexer": "ipython3",
   "version": "3.11.8"
  }
 },
 "nbformat": 4,
 "nbformat_minor": 2
}
