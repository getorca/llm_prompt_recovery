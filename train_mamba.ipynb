{
 "cells": [
  {
   "cell_type": "code",
   "execution_count": 1,
   "metadata": {},
   "outputs": [],
   "source": [
    "import torch\n",
    "\n",
    "from transformers import AutoTokenizer, AutoModelForCausalLM, TrainingArguments\n",
    "from datasets import load_dataset\n",
    "from transformers import Trainer\n",
    "from mamba_ssm.models.mixer_seq_simple import MambaLMHeadModel"
   ]
  },
  {
   "cell_type": "code",
   "execution_count": 2,
   "metadata": {},
   "outputs": [
    {
     "name": "stderr",
     "output_type": "stream",
     "text": [
      "Special tokens have been added in the vocabulary, make sure the associated word embeddings are fine-tuned or trained.\n"
     ]
    }
   ],
   "source": [
    "# for my mamba trainer\n",
    "\n",
    "model_path = 'state-spaces/mamba-2.8b'\n",
    "\n",
    "tokenizer = AutoTokenizer.from_pretrained(\n",
    "    'EleutherAI/gpt-neox-20b',\n",
    ")\n",
    "tokenizer.eos_token = \"<|endoftext|>\"\n",
    "tokenizer.pad_token = tokenizer.eos_token\n",
    "\n",
    "model = MambaLMHeadModel.from_pretrained(model_path, dtype=torch.bfloat16, device=\"cuda\")\n",
    "\n",
    "def tokenize_data(x):\n",
    "    full_input = f\"\"\"<|ORIGINAL_TEXT|>{x['original_text']}<|END_ORIGINAL_TEXT|>\n",
    "<|GENERATED_TEXT|>{x['generated_text']}<|END_GENERATED_TEXT|>\n",
    "<|PROMPT|>{x['prompt']}<|END_PROMPT|>\"\"\"\n",
    "    result = tokenizer(\n",
    "        full_input\n",
    "    )\n",
    "    result[\"input_ids\"].append(tokenizer.eos_token_id)\n",
    "    result[\"attention_mask\"].append(1)\n",
    "    return result"
   ]
  },
  {
   "cell_type": "code",
   "execution_count": 3,
   "metadata": {},
   "outputs": [
    {
     "name": "stderr",
     "output_type": "stream",
     "text": [
      "Special tokens have been added in the vocabulary, make sure the associated word embeddings are fine-tuned or trained.\n"
     ]
    },
    {
     "data": {
      "application/vnd.jupyter.widget-view+json": {
       "model_id": "1bf8b8a6babe4cdabd0da20a45ae6b15",
       "version_major": 2,
       "version_minor": 0
      },
      "text/plain": [
       "Loading checkpoint shards:   0%|          | 0/3 [00:00<?, ?it/s]"
      ]
     },
     "metadata": {},
     "output_type": "display_data"
    }
   ],
   "source": [
    "# for loading and traing with HF implementation\n",
    "\n",
    "model_path = 'state-spaces/mamba-2.8b-hf'\n",
    "\n",
    "tokenizer = AutoTokenizer.from_pretrained(model_path, add_eos_token=True)\n",
    "\n",
    "model = AutoModelForCausalLM.from_pretrained(\n",
    "    model_path, \n",
    "    torch_dtype=torch.bfloat16,\n",
    "    # device_map={\"\": 0},\n",
    ")\n",
    "\n",
    "special_tokens_dict = {'additional_special_tokens': ['<|ORIGINAL_TEXT|>', '<|END_ORIGINAL_TEXT|>',\n",
    "    '<|GENERATED_TEXT|>', '<|END_GENERATED_TEXT|>', '<|PROMPT|>', '<|END_PROMPT|>'\n",
    "]}\n",
    "tokenizer.add_special_tokens(special_tokens_dict)\n",
    "model.resize_token_embeddings(len(tokenizer))\n",
    "\n",
    "def tokenize_data(x):\n",
    "    full_input = f\"\"\"<|ORIGINAL_TEXT|>{x['original_text']}<|END_ORIGINAL_TEXT|>\n",
    "<|GENERATED_TEXT|>{x['generated_text']}<|END_GENERATED_TEXT|>\n",
    "<|PROMPT|>{x['prompt']}<|END_PROMPT|>\"\"\"\n",
    "    result = tokenizer(\n",
    "        full_input,\n",
    "        max_length=512,\n",
    "        padding='max_length',\n",
    "        truncation=True\n",
    "    )\n",
    "    result[\"input_ids\"].append(tokenizer.eos_token_id)\n",
    "    result[\"attention_mask\"].append(1)\n",
    "    result['labels'] = result[\"input_ids\"].copy()\n",
    "    return result"
   ]
  },
  {
   "cell_type": "code",
   "execution_count": 4,
   "metadata": {},
   "outputs": [
    {
     "data": {
      "application/vnd.jupyter.widget-view+json": {
       "model_id": "c78acce1fcd64294baabc4d662d16ba5",
       "version_major": 2,
       "version_minor": 0
      },
      "text/plain": [
       "Map:   0%|          | 0/1971 [00:00<?, ? examples/s]"
      ]
     },
     "metadata": {},
     "output_type": "display_data"
    }
   ],
   "source": [
    "# dataset = load_dataset(\"parquet\", data_files={'train': './data/train_out_1/*.parquet'})\n",
    "dataset = load_dataset(\"parquet\", data_files={'train': './data/train_data_2/cleaned.parquet'})\n",
    "train_ds = dataset['train'].map(tokenize_data, load_from_cache_file=False)\n",
    "train_ds = train_ds.remove_columns([\"prompt\", \"original_text\", \"input\", \"generated_text\"])"
   ]
  },
  {
   "cell_type": "code",
   "execution_count": null,
   "metadata": {},
   "outputs": [],
   "source": [
    "train_ds"
   ]
  },
  {
   "cell_type": "code",
   "execution_count": null,
   "metadata": {},
   "outputs": [],
   "source": [
    "import os\n",
    "from typing import Optional\n",
    "\n",
    "\n",
    "class MambaTrainer(Trainer):\n",
    "    \n",
    "    def compute_loss(self, model, inputs, return_outputs=False):\n",
    "        input_ids = inputs.pop(\"input_ids\")\n",
    "        lm_logits = model(input_ids).logits\n",
    "\n",
    "        labels = input_ids.to(lm_logits.device)\n",
    "        shift_logits = lm_logits[:, :-1, :].contiguous()\n",
    "        labels = labels[:, 1:].contiguous()\n",
    "\n",
    "        loss_fct = torch.nn.CrossEntropyLoss()\n",
    "        lm_loss = loss_fct(shift_logits.view(-1, shift_logits.size(-1)), labels.view(-1))\n",
    "\n",
    "        return lm_loss\n",
    "\n",
    "    def save_model(self, output_dir: Optional[str] = None, _internal_call: bool = False):\n",
    "        if not os.path.exists(output_dir):\n",
    "            os.makedirs(output_dir)\n",
    "            \n",
    "        torch.save(self.model.state_dict(), f\"{output_dir}/pytorch_model.bin\")\n",
    "        self.tokenizer.save_pretrained(output_dir)"
   ]
  },
  {
   "cell_type": "code",
   "execution_count": 5,
   "metadata": {},
   "outputs": [
    {
     "data": {
      "text/html": [
       "\n",
       "    <div>\n",
       "      \n",
       "      <progress value='1476' max='1476' style='width:300px; height:20px; vertical-align: middle;'></progress>\n",
       "      [1476/1476 36:08, Epoch 2/3]\n",
       "    </div>\n",
       "    <table border=\"1\" class=\"dataframe\">\n",
       "  <thead>\n",
       " <tr style=\"text-align: left;\">\n",
       "      <th>Step</th>\n",
       "      <th>Training Loss</th>\n",
       "    </tr>\n",
       "  </thead>\n",
       "  <tbody>\n",
       "    <tr>\n",
       "      <td>200</td>\n",
       "      <td>1.069700</td>\n",
       "    </tr>\n",
       "    <tr>\n",
       "      <td>400</td>\n",
       "      <td>0.981700</td>\n",
       "    </tr>\n",
       "    <tr>\n",
       "      <td>600</td>\n",
       "      <td>0.756300</td>\n",
       "    </tr>\n",
       "    <tr>\n",
       "      <td>800</td>\n",
       "      <td>0.592900</td>\n",
       "    </tr>\n",
       "    <tr>\n",
       "      <td>1000</td>\n",
       "      <td>0.558900</td>\n",
       "    </tr>\n",
       "    <tr>\n",
       "      <td>1200</td>\n",
       "      <td>0.356100</td>\n",
       "    </tr>\n",
       "    <tr>\n",
       "      <td>1400</td>\n",
       "      <td>0.372800</td>\n",
       "    </tr>\n",
       "  </tbody>\n",
       "</table><p>"
      ],
      "text/plain": [
       "<IPython.core.display.HTML object>"
      ]
     },
     "metadata": {},
     "output_type": "display_data"
    },
    {
     "data": {
      "text/plain": [
       "TrainOutput(global_step=1476, training_loss=0.6544456830838832, metrics={'train_runtime': 2172.1744, 'train_samples_per_second': 2.722, 'train_steps_per_second': 0.68, 'total_flos': 4.79686860435456e+16, 'train_loss': 0.6544456830838832, 'epoch': 3.0})"
      ]
     },
     "execution_count": 5,
     "metadata": {},
     "output_type": "execute_result"
    }
   ],
   "source": [
    "trainer = Trainer(\n",
    "    model=model,    \n",
    "    train_dataset=train_ds,\n",
    "    tokenizer=tokenizer,\n",
    "    args=TrainingArguments(\n",
    "        output_dir=\"./train_out_2\",\n",
    "        num_train_epochs=3,\n",
    "        per_device_train_batch_size=1,\n",
    "        gradient_accumulation_steps=4,\n",
    "        logging_dir='./logs_2',\n",
    "        logging_steps=200,\n",
    "        learning_rate=5e-5,\n",
    "        optim='paged_adamw_8bit',\n",
    "    )\n",
    ")\n",
    "\n",
    "trainer.train()"
   ]
  },
  {
   "cell_type": "code",
   "execution_count": null,
   "metadata": {},
   "outputs": [],
   "source": [
    "trainer.save_model(output_dir=f'./train_exp_2/complete')"
   ]
  },
  {
   "cell_type": "code",
   "execution_count": null,
   "metadata": {},
   "outputs": [],
   "source": [
    "trainer = MambaTrainer(\n",
    "    model=model,\n",
    "    train_dataset=train_ds,\n",
    "    tokenizer=tokenizer,\n",
    "    args=TrainingArguments(\n",
    "        learning_rate=5e-5,\n",
    "        num_train_epochs=3,\n",
    "        per_device_train_batch_size=1,\n",
    "        gradient_accumulation_steps=4,\n",
    "        optim='paged_adamw_8bit',\n",
    "        output_dir='./train_out_3',\n",
    "        logging_steps=50,\n",
    "        save_steps=500,\n",
    "        save_strategy='steps'\n",
    "    )\n",
    ")\n",
    "\n",
    "trainer.train(\n",
    "    #resume_from_checkpoint=True\n",
    ")"
   ]
  },
  {
   "cell_type": "code",
   "execution_count": null,
   "metadata": {},
   "outputs": [],
   "source": [
    "trainer.save_model(output_dir=f'./train_exp_1c/complete')"
   ]
  }
 ],
 "metadata": {
  "kernelspec": {
   "display_name": "llm_promt_reversal",
   "language": "python",
   "name": "python3"
  },
  "language_info": {
   "codemirror_mode": {
    "name": "ipython",
    "version": 3
   },
   "file_extension": ".py",
   "mimetype": "text/x-python",
   "name": "python",
   "nbconvert_exporter": "python",
   "pygments_lexer": "ipython3",
   "version": "3.11.8"
  }
 },
 "nbformat": 4,
 "nbformat_minor": 2
}
