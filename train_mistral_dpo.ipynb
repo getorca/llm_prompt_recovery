{
 "cells": [
  {
   "cell_type": "code",
   "execution_count": null,
   "metadata": {},
   "outputs": [],
   "source": [
    "from transformers import TrainingArguments, Trainer\n",
    "import torch\n",
    "from transformers import AutoTokenizer, AutoModelForCausalLM, TrainingArguments\n",
    "from peft import PeftModel, LoraConfig, prepare_model_for_kbit_training, get_peft_model\n",
    "from datasets import load_dataset, Dataset\n",
    "import polars as pl\n",
    "from unsloth import FastLanguageModel\n"
   ]
  },
  {
   "cell_type": "code",
   "execution_count": 2,
   "metadata": {},
   "outputs": [],
   "source": [
    "max_seq_length = 2048 # Choose any! We auto support RoPE Scaling internally!\n",
    "dtype = None # None for auto detection. Float16 for Tesla T4, V100, Bfloat16 for Ampere+\n",
    "load_in_4bit = True # Use 4bit quantization to reduce memory usage. Can be False.\n",
    "\n",
    "# adapter_path = '/home/lawrence/Projects/my_models/mistral_pr_lora_over65'"
   ]
  },
  {
   "cell_type": "code",
   "execution_count": 4,
   "metadata": {},
   "outputs": [
    {
     "data": {
      "application/vnd.jupyter.widget-view+json": {
       "model_id": "ca1029551f8c4616b818514232f88ebf",
       "version_major": 2,
       "version_minor": 0
      },
      "text/plain": [
       "config.json:   0%|          | 0.00/1.07k [00:00<?, ?B/s]"
      ]
     },
     "metadata": {},
     "output_type": "display_data"
    },
    {
     "name": "stdout",
     "output_type": "stream",
     "text": [
      "==((====))==  Unsloth: Fast Mistral patching release 2024.4\n",
      "   \\\\   /|    GPU: NVIDIA A100 80GB PCIe. Max memory: 79.151 GB. Platform = Linux.\n",
      "O^O/ \\_/ \\    Pytorch: 2.1.2+cu121. CUDA = 8.0. CUDA Toolkit = 12.1.\n",
      "\\        /    Bfloat16 = TRUE. Xformers = 0.0.23.post1. FA = True.\n",
      " \"-____-\"     Free Apache license: http://github.com/unslothai/unsloth\n"
     ]
    },
    {
     "data": {
      "application/vnd.jupyter.widget-view+json": {
       "model_id": "748d0f04ca614eeaab275569da69b9be",
       "version_major": 2,
       "version_minor": 0
      },
      "text/plain": [
       "config.json:   0%|          | 0.00/1.07k [00:00<?, ?B/s]"
      ]
     },
     "metadata": {},
     "output_type": "display_data"
    },
    {
     "data": {
      "application/vnd.jupyter.widget-view+json": {
       "model_id": "574e3813be2a4ac1ab139af07b5b63a8",
       "version_major": 2,
       "version_minor": 0
      },
      "text/plain": [
       "model.safetensors:   0%|          | 0.00/4.13G [00:00<?, ?B/s]"
      ]
     },
     "metadata": {},
     "output_type": "display_data"
    },
    {
     "data": {
      "application/vnd.jupyter.widget-view+json": {
       "model_id": "71e849570c654f889fa2f069bce37858",
       "version_major": 2,
       "version_minor": 0
      },
      "text/plain": [
       "generation_config.json:   0%|          | 0.00/116 [00:00<?, ?B/s]"
      ]
     },
     "metadata": {},
     "output_type": "display_data"
    },
    {
     "data": {
      "application/vnd.jupyter.widget-view+json": {
       "model_id": "7ce155ed43334263b0a3cd22a1fc93e2",
       "version_major": 2,
       "version_minor": 0
      },
      "text/plain": [
       "tokenizer_config.json:   0%|          | 0.00/1.46k [00:00<?, ?B/s]"
      ]
     },
     "metadata": {},
     "output_type": "display_data"
    },
    {
     "data": {
      "application/vnd.jupyter.widget-view+json": {
       "model_id": "9e7fc713a55b4e6cab8d3fab5ac2826a",
       "version_major": 2,
       "version_minor": 0
      },
      "text/plain": [
       "tokenizer.model:   0%|          | 0.00/493k [00:00<?, ?B/s]"
      ]
     },
     "metadata": {},
     "output_type": "display_data"
    },
    {
     "data": {
      "application/vnd.jupyter.widget-view+json": {
       "model_id": "d4c92c0ab4334415b7696f843164bfd9",
       "version_major": 2,
       "version_minor": 0
      },
      "text/plain": [
       "special_tokens_map.json:   0%|          | 0.00/438 [00:00<?, ?B/s]"
      ]
     },
     "metadata": {},
     "output_type": "display_data"
    },
    {
     "data": {
      "application/vnd.jupyter.widget-view+json": {
       "model_id": "7b029e00798a480593a54e499b16dd52",
       "version_major": 2,
       "version_minor": 0
      },
      "text/plain": [
       "tokenizer.json:   0%|          | 0.00/1.80M [00:00<?, ?B/s]"
      ]
     },
     "metadata": {},
     "output_type": "display_data"
    },
    {
     "name": "stderr",
     "output_type": "stream",
     "text": [
      "Unsloth 2024.4 patched 32 layers with 32 QKV layers, 32 O layers and 32 MLP layers.\n"
     ]
    }
   ],
   "source": [
    "# seems to be an issue with loading multiple adpaters with unsloth... and loading the unsloth adapater with regular model\n",
    "# 2 - might want to train \n",
    "\n",
    "model, tokenizer = FastLanguageModel.from_pretrained(\n",
    "    model_name = \"unsloth/mistral-7b-instruct-v0.2-bnb-4bit\", # Choose ANY! eg teknium/OpenHermes-2.5-Mistral-7B\n",
    "    max_seq_length = max_seq_length,\n",
    "    dtype = dtype,\n",
    "    load_in_4bit = load_in_4bit,\n",
    "    cache_dir = \"/gpfs/home/yiyayu/scratch/cache\"\n",
    "    # token = \"hf_...\", # use one if using gated models like meta-llama/Llama-2-7b-hf\n",
    ")\n",
    "\n",
    "model = FastLanguageModel.get_peft_model(\n",
    "    model,\n",
    "    r = 16,\n",
    "    target_modules = [\"q_proj\", \"k_proj\", \"v_proj\", \"o_proj\",\n",
    "                      \"gate_proj\", \"up_proj\", \"down_proj\",],\n",
    "    lora_alpha = 16,\n",
    "    lora_dropout = 0, # Supports any, but = 0 is optimized\n",
    "    bias = \"none\",    # Supports any, but = \"none\" is optimized\n",
    "    use_gradient_checkpointing = True,\n",
    "    random_state = 3407,\n",
    "    use_rslora = False,  # We support rank stabilized LoRA\n",
    "    loftq_config = None, # And LoftQ\n",
    ")\n",
    "\n",
    "# # Load the adapter.\n",
    "# model = PeftModel.from_pretrained(\n",
    "#     model,\n",
    "#     adapter_path,\n",
    "#     is_trainable=True,\n",
    "#     adapter_name=\"train\",\n",
    "# )\n",
    "# # Load the adapter a second time, with a different name, which will be our reference model.\n",
    "# model.load_adapter(adapter_path, adapter_name=\"reference\")"
   ]
  },
  {
   "cell_type": "code",
   "execution_count": 5,
   "metadata": {},
   "outputs": [],
   "source": [
    "from unsloth.chat_templates import get_chat_template\n",
    "\n",
    "tokenizer = get_chat_template(\n",
    "    tokenizer,\n",
    "    chat_template = \"mistral\", # Supports zephyr, chatml, mistral, llama, alpaca, vicuna, vicuna_old, unsloth\n",
    "    map_eos_token = True, # Maps <|im_end|> to </s> instead\n",
    ")"
   ]
  },
  {
   "cell_type": "code",
   "execution_count": 6,
   "metadata": {},
   "outputs": [],
   "source": [
    "orig_prefix = \"Original Text:\"\n",
    "rewrite_prefix = \"Rewritten Text:\"\n",
    "response_start = \"The prompt was:\"\n",
    "sys_prompt = \"\"\"You are an expert in \"Reverse Prompt Engineering\". You are able to reverse-engineer prompts used to rewrite text. \n",
    "\n",
    "I will be providing you with an \"original text\" and \"rewritten text\". Please try to be as specific as possible and come up with a prompt that is based on the tone, style, and any other properties you consider relevant.\"\"\"\n",
    "\n",
    "def format_prompts(x):\n",
    "    messages = [\n",
    "        {\"role\": \"user\", \"content\": f\"{sys_prompt}\\n{orig_prefix} {x['original_text']}\\n{rewrite_prefix} {x['rewritten_text']}\"},\n",
    "        {\"role\": \"assistant\", \"content\": f\"{response_start} \"}\n",
    "    ]\n",
    "    output = tokenizer.apply_chat_template(messages, tokenize = False, add_generation_prompt = False).rstrip('</s>')\n",
    "    return {\"prompt\": output}"
   ]
  },
  {
   "cell_type": "code",
   "execution_count": 26,
   "metadata": {},
   "outputs": [],
   "source": [
    "import pandas as pd\n",
    "\n",
    "# Read the CSV file\n",
    "df = pd.read_csv('./data/exp_test/multi_n_with_lora3/multi_n_scored.csv')\n",
    "\n",
    "# Create the new column 'final_prompt'\n",
    "def select_prompt(row):\n",
    "    if row['score_1'] > row['score_2']:\n",
    "        return row['rewrite_prompt_1']\n",
    "    else:\n",
    "        return row['rewrite_prompt_2']\n",
    "\n",
    "df['rejected'] = df.apply(select_prompt, axis=1)\n",
    "\n",
    "# Create the new column 'chosen' by copying 'gt_rewrite_prompt'\n",
    "df['chosen'] = df['gt_rewrite_prompt']\n",
    "\n",
    "# Save the updated DataFrame to a new CSV file\n",
    "df.to_csv('./data/exp_test/multi_n_with_lora3/multi_n_scored2.csv', index=False)"
   ]
  },
  {
   "cell_type": "code",
   "execution_count": 29,
   "metadata": {},
   "outputs": [],
   "source": [
    "def format_prompts_pandas(df):\n",
    "    \"\"\"\n",
    "    Applies the format_prompts function to each row of a pandas DataFrame.\n",
    "\n",
    "    Args:\n",
    "        df (pandas.DataFrame): The input DataFrame containing the required columns.\n",
    "\n",
    "    Returns:\n",
    "        pandas.DataFrame: A new DataFrame with a 'prompt' column containing the formatted prompts.\n",
    "    \"\"\"\n",
    "    prompts = []\n",
    "    for _, row in df.iterrows():\n",
    "        messages = [\n",
    "            {\"role\": \"user\", \"content\": f\"{sys_prompt}\\\\n{orig_prefix} {row['original_text']}\\\\n{rewrite_prefix} {row['rewritten_text']}\"},\n",
    "            {\"role\": \"assistant\", \"content\": f\"{response_start} \"}\n",
    "        ]\n",
    "        output = tokenizer.apply_chat_template(messages, tokenize=False, add_generation_prompt=False).rstrip('</s>')\n",
    "        prompts.append({\"prompt\": output})\n",
    "\n",
    "    return pd.DataFrame(prompts)\n",
    "\n",
    "# Assuming you have a pandas DataFrame 'dataset' with the required columns\n",
    "df = df.join(format_prompts_pandas(df))"
   ]
  },
  {
   "cell_type": "code",
   "execution_count": 32,
   "metadata": {},
   "outputs": [],
   "source": [
    "# Extract the required columns\n",
    "new_df = df[['prompt', 'chosen', 'rejected']]\n",
    "\n",
    "# Rename the columns\n",
    "new_df.columns = ['prompt', 'chosen', 'rejected']\n",
    "\n",
    "# Save the new DataFrame to a CSV file\n",
    "new_df.to_csv('./data/exp_test/multi_n_with_lora3/multi_n_scored2.csv', index=False)"
   ]
  },
  {
   "cell_type": "code",
   "execution_count": 55,
   "metadata": {},
   "outputs": [
    {
     "data": {
      "image/png": "[encoded data removed]",
      "text/plain": [
       "<Figure size 1000x600 with 1 Axes>"
      ]
     },
     "metadata": {},
     "output_type": "display_data"
    }
   ],
   "source": [
    "import matplotlib.pyplot as plt\n",
    "\n",
    "# Read the CSV file\n",
    "df = pd.read_csv('./data/exp_test/multi_n_with_lora3/multi_n_scored3.csv')\n",
    "\n",
    "# Count the number of words in each cell of the 'chosen' column\n",
    "word_counts = df['chosen'].apply(lambda x: len(x.split()))\n",
    "\n",
    "# Create a bar plot\n",
    "fig, ax = plt.subplots(figsize=(10, 6))\n",
    "ax.bar(word_counts.value_counts().index, word_counts.value_counts().values)\n",
    "ax.set_xlabel('Number of Words')\n",
    "ax.set_ylabel('Frequency')\n",
    "ax.set_title('Distribution of Number of Words in \"chosen\" Column')\n",
    "\n",
    "# Rotate x-axis labels for better visibility\n",
    "plt.xticks(rotation=90)\n",
    "\n",
    "# Show the plot\n",
    "plt.show()"
   ]
  },
  {
   "cell_type": "code",
   "execution_count": 45,
   "metadata": {},
   "outputs": [
    {
     "data": {
      "image/png": "[encoded data removed]",
      "text/plain": [
       "<Figure size 1000x600 with 1 Axes>"
      ]
     },
     "metadata": {},
     "output_type": "display_data"
    }
   ],
   "source": [
    "# Count the number of words in each cell of the 'chosen' column\n",
    "word_counts = df['chosen'].apply(lambda x: len(x.split()))\n",
    "\n",
    "# Downsample the data where word_counts is 7 to 20%\n",
    "downsample_mask = word_counts == 8\n",
    "downsample_size = int(downsample_mask.sum() * 0.4)\n",
    "downsampled_data = df.loc[downsample_mask.sample(frac=1).iloc[:downsample_size].index]\n",
    "\n",
    "# Combine the downsampled data with the rest of the data\n",
    "df = pd.concat([downsampled_data, df.loc[~downsample_mask]])\n",
    "\n",
    "# Create a bar plot\n",
    "fig, ax = plt.subplots(figsize=(10, 6))\n",
    "ax.bar(word_counts.value_counts().index, word_counts.value_counts().values)\n",
    "ax.set_xlabel('Number of Words')\n",
    "ax.set_ylabel('Frequency')\n",
    "ax.set_title('Distribution of Number of Words in \"chosen\" Column (Downsampled)')\n",
    "\n",
    "# Rotate x-axis labels for better visibility\n",
    "plt.xticks(rotation=90)\n",
    "\n",
    "# Show the plot\n",
    "plt.show()"
   ]
  },
  {
   "cell_type": "code",
   "execution_count": 56,
   "metadata": {},
   "outputs": [
    {
     "name": "stdout",
     "output_type": "stream",
     "text": [
      "Number of samples with word_counts greater than 20: 2432\n"
     ]
    }
   ],
   "source": [
    "num_samples_gt_20 = (word_counts > 15).sum()\n",
    "\n",
    "print(f\"Number of samples with word_counts greater than 20: {num_samples_gt_20}\")"
   ]
  },
  {
   "cell_type": "code",
   "execution_count": 46,
   "metadata": {},
   "outputs": [],
   "source": [
    "# Filter the DataFrame to include only samples with word_counts greater than 10\n",
    "word_counts = df['chosen'].apply(lambda x: len(x.split()))\n",
    "filtered_df = df[word_counts > 10]\n",
    "\n",
    "# Save the filtered DataFrame to a new CSV file\n",
    "filtered_df.to_csv('./data/exp_test/multi_n_with_lora3/multi_n_scored3.csv', index=False)"
   ]
  },
  {
   "cell_type": "code",
   "execution_count": 16,
   "metadata": {},
   "outputs": [
    {
     "data": {
      "application/vnd.jupyter.widget-view+json": {
       "model_id": "50ae4d449a034764b244266e14e3d862",
       "version_major": 2,
       "version_minor": 0
      },
      "text/plain": [
       "Map:   0%|          | 0/9983 [00:00<?, ? examples/s]"
      ]
     },
     "metadata": {},
     "output_type": "display_data"
    },
    {
     "data": {
      "text/plain": [
       "Dataset({\n",
       "    features: ['Unnamed: 0.2', 'Unnamed: 0.1', 'Unnamed: 0', 'rejected', 'chosen', 'prompt'],\n",
       "    num_rows: 9983\n",
       "})"
      ]
     },
     "execution_count": 16,
     "metadata": {},
     "output_type": "execute_result"
    }
   ],
   "source": [
    "# df = pl.read_csv('./data/predictions/combined-filtered_*.csv', ignore_errors=True)\n",
    "df = pl.read_csv('./data/exp_test/multi_n_with_lora3/multi_n_scored2.csv', ignore_errors=True)\n",
    "dataset = Dataset.from_list(df.to_dicts())\n",
    "dataset = dataset.map(format_prompts)\n",
    "dataset.remove_columns(['original_text', 'rewritten_text', 'gt_rewrite_prompt', 'old_rewrite_prompt','score','input','rewrite_prompts','rewrite_prompt_1','rewrite_prompt_2','score_1','score_2'])"
   ]
  },
  {
   "cell_type": "code",
   "execution_count": 27,
   "metadata": {},
   "outputs": [
    {
     "data": {
      "text/html": [
       "<div>\n",
       "<style scoped>\n",
       "    .dataframe tbody tr th:only-of-type {\n",
       "        vertical-align: middle;\n",
       "    }\n",
       "\n",
       "    .dataframe tbody tr th {\n",
       "        vertical-align: top;\n",
       "    }\n",
       "\n",
       "    .dataframe thead th {\n",
       "        text-align: right;\n",
       "    }\n",
       "</style>\n",
       "<table border=\"1\" class=\"dataframe\">\n",
       "  <thead>\n",
       "    <tr style=\"text-align: right;\">\n",
       "      <th></th>\n",
       "      <th>Unnamed: 0.2</th>\n",
       "      <th>Unnamed: 0.1</th>\n",
       "      <th>Unnamed: 0</th>\n",
       "      <th>original_text</th>\n",
       "      <th>gt_rewrite_prompt</th>\n",
       "      <th>rewritten_text</th>\n",
       "      <th>input</th>\n",
       "      <th>old_rewrite_prompt</th>\n",
       "      <th>score</th>\n",
       "      <th>rewrite_prompts</th>\n",
       "      <th>rewrite_prompt_1</th>\n",
       "      <th>rewrite_prompt_2</th>\n",
       "      <th>score_1</th>\n",
       "      <th>score_2</th>\n",
       "      <th>rejected</th>\n",
       "      <th>chosen</th>\n",
       "    </tr>\n",
       "  </thead>\n",
       "  <tbody>\n",
       "    <tr>\n",
       "      <th>0</th>\n",
       "      <td>0</td>\n",
       "      <td>39</td>\n",
       "      <td>394</td>\n",
       "      <td>Figure 9.3 This car is in dynamic equilibrium ...</td>\n",
       "      <td>Turn this paragraph into a set of guidelines f...</td>\n",
       "      <td>The text does not contain any information abou...</td>\n",
       "      <td>&lt;s&gt;[INST] You are an expert in \"Reverse Prompt...</td>\n",
       "      <td>I cannot fulfill this prompt as the original ...</td>\n",
       "      <td>0.509424</td>\n",
       "      <td>[' \"Given a text describing a physical phenome...</td>\n",
       "      <td>\"Given a text describing a physical phenomeno...</td>\n",
       "      <td>\"Given a text describing physics concepts rel...</td>\n",
       "      <td>0.824800</td>\n",
       "      <td>0.768895</td>\n",
       "      <td>\"Given a text describing a physical phenomeno...</td>\n",
       "      <td>Turn this paragraph into a set of guidelines f...</td>\n",
       "    </tr>\n",
       "    <tr>\n",
       "      <th>1</th>\n",
       "      <td>1</td>\n",
       "      <td>40</td>\n",
       "      <td>453</td>\n",
       "      <td>Science rests on evidence and logic, so it dea...</td>\n",
       "      <td>Create a dialogue between two characters discu...</td>\n",
       "      <td>Sure, here's the dialogue:\\n\\nCharacters: Sara...</td>\n",
       "      <td>&lt;s&gt;[INST] You are an expert in \"Reverse Prompt...</td>\n",
       "      <td>Write a script for a dialogue between two cha...</td>\n",
       "      <td>0.588464</td>\n",
       "      <td>[' \"Write a dialog between two characters disc...</td>\n",
       "      <td>\"Write a dialog between two characters discus...</td>\n",
       "      <td>\"Write a dialogue between two characters disc...</td>\n",
       "      <td>0.719603</td>\n",
       "      <td>0.727570</td>\n",
       "      <td>\"Write a dialogue between two characters disc...</td>\n",
       "      <td>Create a dialogue between two characters discu...</td>\n",
       "    </tr>\n",
       "    <tr>\n",
       "      <th>2</th>\n",
       "      <td>2</td>\n",
       "      <td>41</td>\n",
       "      <td>53</td>\n",
       "      <td>Introduction The environment consists of numer...</td>\n",
       "      <td>Rewrite the following sentence in simpler terms</td>\n",
       "      <td>Sure, here's the rewritten sentence in simpler...</td>\n",
       "      <td>&lt;s&gt;[INST] You are an expert in \"Reverse Prompt...</td>\n",
       "      <td>Simplify the text, making it easily understan...</td>\n",
       "      <td>0.560307</td>\n",
       "      <td>[' \"Rewrite the following text into simpler la...</td>\n",
       "      <td>\"Rewrite the following text into simpler lang...</td>\n",
       "      <td>\"_Describe the function and components of the...</td>\n",
       "      <td>0.725282</td>\n",
       "      <td>0.582107</td>\n",
       "      <td>\"Rewrite the following text into simpler lang...</td>\n",
       "      <td>Rewrite the following sentence in simpler terms</td>\n",
       "    </tr>\n",
       "    <tr>\n",
       "      <th>3</th>\n",
       "      <td>3</td>\n",
       "      <td>42</td>\n",
       "      <td>388</td>\n",
       "      <td>Figure 21.13 Extinction intensity as reflected...</td>\n",
       "      <td>Translate this technical sentence into plain E...</td>\n",
       "      <td>Sure, here's the translation:\\n\\nThe fossil re...</td>\n",
       "      <td>&lt;s&gt;[INST] You are an expert in \"Reverse Prompt...</td>\n",
       "      <td>Rewrite the text in simple, clear language fo...</td>\n",
       "      <td>0.462264</td>\n",
       "      <td>[' \"Translate the following academic text into...</td>\n",
       "      <td>\"Translate the following academic text into a...</td>\n",
       "      <td>\"Translate the following scientific passage i...</td>\n",
       "      <td>0.488263</td>\n",
       "      <td>0.570618</td>\n",
       "      <td>\"Translate the following scientific passage i...</td>\n",
       "      <td>Translate this technical sentence into plain E...</td>\n",
       "    </tr>\n",
       "    <tr>\n",
       "      <th>4</th>\n",
       "      <td>4</td>\n",
       "      <td>43</td>\n",
       "      <td>695</td>\n",
       "      <td>Not only salt, but many other solutes can diss...</td>\n",
       "      <td>Turn this into a script for a cooking show.</td>\n",
       "      <td>## The Salty Kitchen: Water's Power\\n\\n**Scene...</td>\n",
       "      <td>&lt;s&gt;[INST] You are an expert in \"Reverse Prompt...</td>\n",
       "      <td>Provide a dialogue script for an educational ...</td>\n",
       "      <td>0.673553</td>\n",
       "      <td>[' \"Develop a script for a scene in a kitchen ...</td>\n",
       "      <td>\"Develop a script for a scene in a kitchen se...</td>\n",
       "      <td>\"_Create a title and a short scene in a kitch...</td>\n",
       "      <td>0.701201</td>\n",
       "      <td>0.581864</td>\n",
       "      <td>\"Develop a script for a scene in a kitchen se...</td>\n",
       "      <td>Turn this into a script for a cooking show.</td>\n",
       "    </tr>\n",
       "    <tr>\n",
       "      <th>...</th>\n",
       "      <td>...</td>\n",
       "      <td>...</td>\n",
       "      <td>...</td>\n",
       "      <td>...</td>\n",
       "      <td>...</td>\n",
       "      <td>...</td>\n",
       "      <td>...</td>\n",
       "      <td>...</td>\n",
       "      <td>...</td>\n",
       "      <td>...</td>\n",
       "      <td>...</td>\n",
       "      <td>...</td>\n",
       "      <td>...</td>\n",
       "      <td>...</td>\n",
       "      <td>...</td>\n",
       "      <td>...</td>\n",
       "    </tr>\n",
       "    <tr>\n",
       "      <th>9978</th>\n",
       "      <td>9978</td>\n",
       "      <td>9978</td>\n",
       "      <td>1</td>\n",
       "      <td>All amphibians have digestive, excretory, and ...</td>\n",
       "      <td>Translate this technical sentence into plain E...</td>\n",
       "      <td>Sure, here's the translated sentence into plai...</td>\n",
       "      <td>&lt;s&gt;[INST] You are an expert in \"Reverse Prompt...</td>\n",
       "      <td>Simplify and clarify this scientific text for...</td>\n",
       "      <td>0.484933</td>\n",
       "      <td>[' \"Translate the given text about amphibians\\...</td>\n",
       "      <td>\"Translate the given text about amphibians' o...</td>\n",
       "      <td>\"Translate the given text into plain English,...</td>\n",
       "      <td>0.579571</td>\n",
       "      <td>0.648444</td>\n",
       "      <td>\"Translate the given text into plain English,...</td>\n",
       "      <td>Translate this technical sentence into plain E...</td>\n",
       "    </tr>\n",
       "    <tr>\n",
       "      <th>9979</th>\n",
       "      <td>9979</td>\n",
       "      <td>9979</td>\n",
       "      <td>262</td>\n",
       "      <td>Facilitated diffusion is the diffusion of solu...</td>\n",
       "      <td>Transform this information into the outline fo...</td>\n",
       "      <td>**Outline of a New Social Movement: \"Facilitat...</td>\n",
       "      <td>&lt;s&gt;[INST] You are an expert in \"Reverse Prompt...</td>\n",
       "      <td>Transform the text into a proposal for a new ...</td>\n",
       "      <td>0.645402</td>\n",
       "      <td>[' \"Rewrite the given text in the form of a pr...</td>\n",
       "      <td>\"Rewrite the given text in the form of a pres...</td>\n",
       "      <td>distinctive tone of a call to action or advoc...</td>\n",
       "      <td>0.759455</td>\n",
       "      <td>0.602455</td>\n",
       "      <td>\"Rewrite the given text in the form of a pres...</td>\n",
       "      <td>Transform this information into the outline fo...</td>\n",
       "    </tr>\n",
       "    <tr>\n",
       "      <th>9980</th>\n",
       "      <td>9980</td>\n",
       "      <td>9980</td>\n",
       "      <td>95</td>\n",
       "      <td>Mitosis occurs in four phases, called prophase...</td>\n",
       "      <td>Rephrase this sentence to be more reader-friendly</td>\n",
       "      <td>Sure, here's the rephrased sentence to be more...</td>\n",
       "      <td>&lt;s&gt;[INST] You are an expert in \"Reverse Prompt...</td>\n",
       "      <td>Make this sentence more conversational and en...</td>\n",
       "      <td>0.652722</td>\n",
       "      <td>[' \"Rewrite the given sentence to make it more...</td>\n",
       "      <td>\"Rewrite the given sentence to make it more r...</td>\n",
       "      <td>\"Rewrite the given sentence in a more reader-...</td>\n",
       "      <td>0.785594</td>\n",
       "      <td>0.829807</td>\n",
       "      <td>\"Rewrite the given sentence in a more reader-...</td>\n",
       "      <td>Rephrase this sentence to be more reader-friendly</td>\n",
       "    </tr>\n",
       "    <tr>\n",
       "      <th>9981</th>\n",
       "      <td>9981</td>\n",
       "      <td>9981</td>\n",
       "      <td>452</td>\n",
       "      <td>This odd-looking creature is a fish called a p...</td>\n",
       "      <td>Express this concept as if it were a conversat...</td>\n",
       "      <td>Sure, here's the conversation:\\n\\n**Alien A:**...</td>\n",
       "      <td>&lt;s&gt;[INST] You are an expert in \"Reverse Prompt...</td>\n",
       "      <td>Transform this text into a dialogue between al...</td>\n",
       "      <td>0.624627</td>\n",
       "      <td>['\"Write a conversation between two aliens dis...</td>\n",
       "      <td>\"Write a conversation between two aliens discu...</td>\n",
       "      <td>\"_Write a conversational text between two ali...</td>\n",
       "      <td>0.666589</td>\n",
       "      <td>0.631132</td>\n",
       "      <td>\"Write a conversation between two aliens discu...</td>\n",
       "      <td>Express this concept as if it were a conversat...</td>\n",
       "    </tr>\n",
       "    <tr>\n",
       "      <th>9982</th>\n",
       "      <td>9982</td>\n",
       "      <td>9982</td>\n",
       "      <td>570</td>\n",
       "      <td>Symptoms of chlamydia may include a burning se...</td>\n",
       "      <td>Imagine this as a news report from the future.</td>\n",
       "      <td>## Future News: Chlamydia Still a Threat Despi...</td>\n",
       "      <td>&lt;s&gt;[INST] You are an expert in \"Reverse Prompt...</td>\n",
       "      <td>Rewrite the following text in a news article ...</td>\n",
       "      <td>0.472537</td>\n",
       "      <td>[' \"Write a news article about the persistence...</td>\n",
       "      <td>\"Write a news article about the persistence o...</td>\n",
       "      <td>1. Write a news article about the persistence ...</td>\n",
       "      <td>0.445868</td>\n",
       "      <td>0.427009</td>\n",
       "      <td>\"Write a news article about the persistence o...</td>\n",
       "      <td>Imagine this as a news report from the future.</td>\n",
       "    </tr>\n",
       "  </tbody>\n",
       "</table>\n",
       "<p>9983 rows × 16 columns</p>\n",
       "</div>"
      ],
      "text/plain": [
       "      Unnamed: 0.2  Unnamed: 0.1  Unnamed: 0  \\\n",
       "0                0            39         394   \n",
       "1                1            40         453   \n",
       "2                2            41          53   \n",
       "3                3            42         388   \n",
       "4                4            43         695   \n",
       "...            ...           ...         ...   \n",
       "9978          9978          9978           1   \n",
       "9979          9979          9979         262   \n",
       "9980          9980          9980          95   \n",
       "9981          9981          9981         452   \n",
       "9982          9982          9982         570   \n",
       "\n",
       "                                          original_text  \\\n",
       "0     Figure 9.3 This car is in dynamic equilibrium ...   \n",
       "1     Science rests on evidence and logic, so it dea...   \n",
       "2     Introduction The environment consists of numer...   \n",
       "3     Figure 21.13 Extinction intensity as reflected...   \n",
       "4     Not only salt, but many other solutes can diss...   \n",
       "...                                                 ...   \n",
       "9978  All amphibians have digestive, excretory, and ...   \n",
       "9979  Facilitated diffusion is the diffusion of solu...   \n",
       "9980  Mitosis occurs in four phases, called prophase...   \n",
       "9981  This odd-looking creature is a fish called a p...   \n",
       "9982  Symptoms of chlamydia may include a burning se...   \n",
       "\n",
       "                                      gt_rewrite_prompt  \\\n",
       "0     Turn this paragraph into a set of guidelines f...   \n",
       "1     Create a dialogue between two characters discu...   \n",
       "2       Rewrite the following sentence in simpler terms   \n",
       "3     Translate this technical sentence into plain E...   \n",
       "4           Turn this into a script for a cooking show.   \n",
       "...                                                 ...   \n",
       "9978  Translate this technical sentence into plain E...   \n",
       "9979  Transform this information into the outline fo...   \n",
       "9980  Rephrase this sentence to be more reader-friendly   \n",
       "9981  Express this concept as if it were a conversat...   \n",
       "9982     Imagine this as a news report from the future.   \n",
       "\n",
       "                                         rewritten_text  \\\n",
       "0     The text does not contain any information abou...   \n",
       "1     Sure, here's the dialogue:\\n\\nCharacters: Sara...   \n",
       "2     Sure, here's the rewritten sentence in simpler...   \n",
       "3     Sure, here's the translation:\\n\\nThe fossil re...   \n",
       "4     ## The Salty Kitchen: Water's Power\\n\\n**Scene...   \n",
       "...                                                 ...   \n",
       "9978  Sure, here's the translated sentence into plai...   \n",
       "9979  **Outline of a New Social Movement: \"Facilitat...   \n",
       "9980  Sure, here's the rephrased sentence to be more...   \n",
       "9981  Sure, here's the conversation:\\n\\n**Alien A:**...   \n",
       "9982  ## Future News: Chlamydia Still a Threat Despi...   \n",
       "\n",
       "                                                  input  \\\n",
       "0     <s>[INST] You are an expert in \"Reverse Prompt...   \n",
       "1     <s>[INST] You are an expert in \"Reverse Prompt...   \n",
       "2     <s>[INST] You are an expert in \"Reverse Prompt...   \n",
       "3     <s>[INST] You are an expert in \"Reverse Prompt...   \n",
       "4     <s>[INST] You are an expert in \"Reverse Prompt...   \n",
       "...                                                 ...   \n",
       "9978  <s>[INST] You are an expert in \"Reverse Prompt...   \n",
       "9979  <s>[INST] You are an expert in \"Reverse Prompt...   \n",
       "9980  <s>[INST] You are an expert in \"Reverse Prompt...   \n",
       "9981  <s>[INST] You are an expert in \"Reverse Prompt...   \n",
       "9982  <s>[INST] You are an expert in \"Reverse Prompt...   \n",
       "\n",
       "                                     old_rewrite_prompt     score  \\\n",
       "0      I cannot fulfill this prompt as the original ...  0.509424   \n",
       "1      Write a script for a dialogue between two cha...  0.588464   \n",
       "2      Simplify the text, making it easily understan...  0.560307   \n",
       "3      Rewrite the text in simple, clear language fo...  0.462264   \n",
       "4      Provide a dialogue script for an educational ...  0.673553   \n",
       "...                                                 ...       ...   \n",
       "9978   Simplify and clarify this scientific text for...  0.484933   \n",
       "9979   Transform the text into a proposal for a new ...  0.645402   \n",
       "9980   Make this sentence more conversational and en...  0.652722   \n",
       "9981  Transform this text into a dialogue between al...  0.624627   \n",
       "9982   Rewrite the following text in a news article ...  0.472537   \n",
       "\n",
       "                                        rewrite_prompts  \\\n",
       "0     [' \"Given a text describing a physical phenome...   \n",
       "1     [' \"Write a dialog between two characters disc...   \n",
       "2     [' \"Rewrite the following text into simpler la...   \n",
       "3     [' \"Translate the following academic text into...   \n",
       "4     [' \"Develop a script for a scene in a kitchen ...   \n",
       "...                                                 ...   \n",
       "9978  [' \"Translate the given text about amphibians\\...   \n",
       "9979  [' \"Rewrite the given text in the form of a pr...   \n",
       "9980  [' \"Rewrite the given sentence to make it more...   \n",
       "9981  ['\"Write a conversation between two aliens dis...   \n",
       "9982  [' \"Write a news article about the persistence...   \n",
       "\n",
       "                                       rewrite_prompt_1  \\\n",
       "0      \"Given a text describing a physical phenomeno...   \n",
       "1      \"Write a dialog between two characters discus...   \n",
       "2      \"Rewrite the following text into simpler lang...   \n",
       "3      \"Translate the following academic text into a...   \n",
       "4      \"Develop a script for a scene in a kitchen se...   \n",
       "...                                                 ...   \n",
       "9978   \"Translate the given text about amphibians' o...   \n",
       "9979   \"Rewrite the given text in the form of a pres...   \n",
       "9980   \"Rewrite the given sentence to make it more r...   \n",
       "9981  \"Write a conversation between two aliens discu...   \n",
       "9982   \"Write a news article about the persistence o...   \n",
       "\n",
       "                                       rewrite_prompt_2   score_1   score_2  \\\n",
       "0      \"Given a text describing physics concepts rel...  0.824800  0.768895   \n",
       "1      \"Write a dialogue between two characters disc...  0.719603  0.727570   \n",
       "2      \"_Describe the function and components of the...  0.725282  0.582107   \n",
       "3      \"Translate the following scientific passage i...  0.488263  0.570618   \n",
       "4      \"_Create a title and a short scene in a kitch...  0.701201  0.581864   \n",
       "...                                                 ...       ...       ...   \n",
       "9978   \"Translate the given text into plain English,...  0.579571  0.648444   \n",
       "9979   distinctive tone of a call to action or advoc...  0.759455  0.602455   \n",
       "9980   \"Rewrite the given sentence in a more reader-...  0.785594  0.829807   \n",
       "9981   \"_Write a conversational text between two ali...  0.666589  0.631132   \n",
       "9982  1. Write a news article about the persistence ...  0.445868  0.427009   \n",
       "\n",
       "                                               rejected  \\\n",
       "0      \"Given a text describing a physical phenomeno...   \n",
       "1      \"Write a dialogue between two characters disc...   \n",
       "2      \"Rewrite the following text into simpler lang...   \n",
       "3      \"Translate the following scientific passage i...   \n",
       "4      \"Develop a script for a scene in a kitchen se...   \n",
       "...                                                 ...   \n",
       "9978   \"Translate the given text into plain English,...   \n",
       "9979   \"Rewrite the given text in the form of a pres...   \n",
       "9980   \"Rewrite the given sentence in a more reader-...   \n",
       "9981  \"Write a conversation between two aliens discu...   \n",
       "9982   \"Write a news article about the persistence o...   \n",
       "\n",
       "                                                 chosen  \n",
       "0     Turn this paragraph into a set of guidelines f...  \n",
       "1     Create a dialogue between two characters discu...  \n",
       "2       Rewrite the following sentence in simpler terms  \n",
       "3     Translate this technical sentence into plain E...  \n",
       "4           Turn this into a script for a cooking show.  \n",
       "...                                                 ...  \n",
       "9978  Translate this technical sentence into plain E...  \n",
       "9979  Transform this information into the outline fo...  \n",
       "9980  Rephrase this sentence to be more reader-friendly  \n",
       "9981  Express this concept as if it were a conversat...  \n",
       "9982     Imagine this as a news report from the future.  \n",
       "\n",
       "[9983 rows x 16 columns]"
      ]
     },
     "execution_count": 27,
     "metadata": {},
     "output_type": "execute_result"
    }
   ],
   "source": []
  },
  {
   "cell_type": "code",
   "execution_count": null,
   "metadata": {},
   "outputs": [],
   "source": [
    "# needs dpo code"
   ]
  },
  {
   "cell_type": "code",
   "execution_count": null,
   "metadata": {},
   "outputs": [],
   "source": [
    "trainer_stats = trainer.train()\n"
   ]
  },
  {
   "cell_type": "code",
   "execution_count": null,
   "metadata": {},
   "outputs": [],
   "source": [
    "# model.save_pretrained('/home/lawrence/Projects/my_models/mistral_pr_lora_over65v2b')"
   ]
  }
 ],
 "metadata": {
  "kernelspec": {
   "display_name": "Python 3 (ipykernel)",
   "language": "python",
   "name": "python3"
  },
  "language_info": {
   "codemirror_mode": {
    "name": "ipython",
    "version": 3
   },
   "file_extension": ".py",
   "mimetype": "text/x-python",
   "name": "python",
   "nbconvert_exporter": "python",
   "pygments_lexer": "ipython3",
   "version": "3.9.19"
  }
 },
 "nbformat": 4,
 "nbformat_minor": 4
}
